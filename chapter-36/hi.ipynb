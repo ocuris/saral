{
 "cells": [
  {
   "cell_type": "markdown",
   "metadata": {},
   "source": [
    "# 📘 Python सीखें – आसान भाषा में\n",
    "## अध्याय 36: Python और Email Automation – smtplib और email modules"
   ]
  },
  {
   "cell_type": "markdown",
   "metadata": {},
   "source": [
    "### कहानी\n",
    "राम को रोज़ अपने ग्राहकों को updates भेजने होते थे। Manual emails भेजना time-consuming था।\n",
    "श्याम ने कहा:\n",
    "> \"Python से ये पूरी प्रक्रिया automate कर सकते हो। smtplib और email modules इस्तेमाल करो।\"\n",
    "\n",
    "राम:\n",
    "> \"वाह! अब मेरे emails खुद भेजे जाएंगे, और मुझे free time मिलेगा।\""
   ]
  },
  {
   "cell_type": "markdown",
   "metadata": {},
   "source": [
    "### smtplib और email modules क्या हैं?\n",
    "- `smtplib` → SMTP protocol use करके emails भेजने के लिए\n",
    "- `email` → Email messages create करने के लिए (subject, body, attachments)\n",
    "- Python से Gmail, Outlook या custom mail servers से emails भेज सकते हैं"
   ]
  },
  {
   "cell_type": "markdown",
   "metadata": {},
   "source": [
    "### Step 1: SMTP Server Setup\n",
    "- Gmail: `smtp.gmail.com`, port 587 (TLS)\n",
    "- Outlook: `smtp.office365.com`, port 587 (TLS)\n",
    "- अपनी email ID और app password तैयार रखें (Gmail के लिए 2FA + App Password)"
   ]
  },
  {
   "cell_type": "markdown",
   "metadata": {},
   "source": [
    "### Example 1: Simple Email Send\n",
    "```python\n",
    "import smtplib\n",
    "from email.message import EmailMessage\n",
    "\n",
    "# Email details\n",
    "sender_email = 'your_email@gmail.com'\n",
    "receiver_email = 'receiver_email@gmail.com'\n",
    "password = 'your_app_password'\n",
    "\n",
    "msg = EmailMessage()\n",
    "msg['Subject'] = 'Hello from Python'\n",
    "msg['From'] = sender_email\n",
    "msg['To'] = receiver_email\n",
    "msg.set_content('This is a test email sent from Python!')\n",
    "\n",
    "# Send Email\n",
    "with smtplib.SMTP('smtp.gmail.com', 587) as smtp:\n",
    "    smtp.starttls()\n",
    "    smtp.login(sender_email, password)\n",
    "    smtp.send_message(msg)\n",
    "\n",
    "print('Email sent successfully!')\n",
    "```"
   ]
  },
  {
   "cell_type": "markdown",
   "metadata": {},
   "source": [
    "### Example 2: Email with Attachment\n",
    "```python\n",
    "msg = EmailMessage()\n",
    "msg['Subject'] = 'Report'\n",
    "msg['From'] = sender_email\n",
    "msg['To'] = receiver_email\n",
    "msg.set_content('Please find the attached report.')\n",
    "\n",
    "# Attach a file\n",
    "with open('report.pdf', 'rb') as f:\n",
    "    file_data = f.read()\n",
    "    file_name = f.name\n",
    "\n",
    "msg.add_attachment(file_data, maintype='application', subtype='pdf', filename=file_name)\n",
    "\n",
    "with smtplib.SMTP('smtp.gmail.com', 587) as smtp:\n",
    "    smtp.starttls()\n",
    "    smtp.login(sender_email, password)\n",
    "    smtp.send_message(msg)\n",
    "\n",
    "print('Email with attachment sent!')\n",
    "```"
   ]
  },
  {
   "cell_type": "markdown",
   "metadata": {},
   "source": [
    "### Best Practices\n",
    "- हमेशा **App Password** या secure method use करें, raw password avoid करें\n",
    "- SMTP server और port correct होना चाहिए\n",
    "- Emails भेजते समय rate limit का ध्यान रखें\n",
    "- Attachments safe और virus-free हों"
   ]
  },
  {
   "cell_type": "markdown",
   "metadata": {},
   "source": [
    "### अभ्यास प्रश्न\n",
    "1. अपने email से किसी friend को simple text email भेजें।\n",
    "2. Email में subject और body अलग-अलग set करके भेजें।\n",
    "3. किसी PDF या image file को attach करके email भेजें।\n",
    "4. Multiple recipients के लिए email भेजने का script बनाइए।\n",
    "5. Automation: Python script से daily 9 AM email send करने का idea implement कीजिए।"
   ]
  },
  {
   "cell_type": "markdown",
   "metadata": {},
   "source": [
    "### सीखने योग्य बातें\n",
    "- smtplib → SMTP protocol use करके emails send करना\n",
    "- email module → Messages create करना, attachments जोड़ना\n",
    "- Secure login → App Password / OAuth2 recommended\n",
    "- Email Automation → repetitive email tasks आसान और fast हो जाते हैं"
   ]
  },
  {
   "cell_type": "markdown",
   "metadata": {},
   "source": [
    "---\n",
    "🔔 **अगला अध्याय:** \"Python और Database Integration – SQLite और SQLAlchemy\""
   ]
  },
  {
   "cell_type": "markdown",
   "metadata": {},
   "source": [
    "<div style='display: flex; justify-content: space-between;'>\n",
    "  <a href='../chapter-35/hi.ipynb' style='background-color: #1E90FF; color: white; padding: 8px 16px; border-radius: 6px; text-decoration: none;'>⬅️ Previous</a>\n",
    "  <a href='../chapter-37/hi.ipynb' style='background-color: #28a745; color: white; padding: 8px 16px; border-radius: 6px; text-decoration: none;'>Next ➡️</a>\n",
    "</div>"
   ]
  }
 ],
 "metadata": {
  "kernelspec": {
   "display_name": "Python 3",
   "language": "python",
   "name": "python3"
  },
  "language_info": {
   "name": "python",
   "version": "3.12.0"
  }
 },
 "nbformat": 4,
 "nbformat_minor": 2
}
