{
 "cells": [
  {
   "cell_type": "markdown",
   "metadata": {},
   "source": [
    "# 📘 Learn Python – In Simple Language\n",
    "## Chapter 1: Meeting Python"
   ]
  },
  {
   "cell_type": "markdown",
   "metadata": {},
   "source": [
    "### Story\n",
    "\n",
    "In a small village in India, there lived a boy named *Mohan*.\n",
    "Mohan loved studying, but he also had to help his father in the fields.\n",
    "The biggest challenge for him every day was keeping track of the sacks of wheat and rice that came from the farm.\n",
    "\n",
    "Every evening when his father asked, “How many sacks came today?”, Mohan had to take a pencil and paper to do the math.\n",
    "Sometimes he made mistakes, sometimes the totals didn’t match.\n",
    "\n",
    "One day, his friend *Ravi* returned from the city. Ravi was studying **computer programming** in college. He said to Mohan:\n",
    "\n",
    "> \"Mohan! If you learn a computer language called **Python**, you can do this calculation in minutes.\"\n",
    "\n",
    "Mohan was surprised –\n",
    "\n",
    "> \"Python? Hey! Isn’t that the snake Python?\"\n",
    "\n",
    "Ravi smiled and replied –\n",
    "\n",
    "> \"No! It’s not a snake. It’s the world’s easiest **computer language**. Just like you give commands to the bull to ‘move’, in the same way, with Python, we can give commands to the computer.\""
   ]
  },
  {
   "cell_type": "markdown",
   "metadata": {},
   "source": [
    "### First Experience\n",
    "\n",
    "Ravi opened his computer and said to Mohan:\n",
    "\n",
    "```python\n",
    "print(\"Hello World\")\n",
    "```\n",
    "\n",
    "As soon as he pressed Enter, the screen showed:\n",
    "\n",
    "```\n",
    "Hello World\n",
    "```\n",
    "\n",
    "Mohan’s eyes sparkled:\n",
    "\n",
    "> \"Wow! The computer is speaking my language.\"\n",
    "\n",
    "That day, Mohan realized that Python was nothing short of magic."
   ]
  },
  {
   "cell_type": "markdown",
   "metadata": {},
   "source": [
    "### Now You Try\n",
    "\n",
    "* **Python** = a language through which we can make the computer follow our instructions.\n",
    "* The first command is `print()`, which displays what we want on the screen.\n",
    "* The beauty of Python is that it’s very easy to read and understand.\n",
    "\n",
    "👉 The first rule of programming is: **You give instructions to the computer, and it gives you results.**"
   ]
  },
  {
   "cell_type": "code",
   "execution_count": 1,
   "metadata": {},
   "outputs": [
    {
     "name": "stdout",
     "output_type": "stream",
     "text": [
      "Hello World\n"
     ]
    }
   ],
   "source": [
    "# The very first Python command\n",
    "print(\"Hello World\")"
   ]
  },
  {
   "cell_type": "markdown",
   "metadata": {},
   "source": [
    "### Practice Questions\n",
    "\n",
    "Now it’s your turn! Let’s try a few simple exercises:\n",
    "\n",
    "1. Print your name on the screen.\n",
    "   ```python\n",
    "   print(\"My name is ___\")\n",
    "   ```\n",
    "\n",
    "2. Print the name of your village or city.\n",
    "\n",
    "3. Use `print()` to write your favorite two-line poem.\n",
    "\n",
    "4. Run the following code and see what happens:\n",
    "   ```python\n",
    "   print(\"5 + 3\")\n",
    "   print(5 + 3)\n",
    "   ```\n",
    "   👉 Are both outputs the same? Why or why not?\n",
    "\n",
    "5. Print the names of 3 family members using three different `print()` statements."
   ]
  },
  {
   "cell_type": "code",
   "execution_count": null,
   "metadata": {},
   "outputs": [],
   "source": [
    "# EXERCISE\n",
    "print(\"EXERCISE\")"
   ]
  },
  {
   "cell_type": "markdown",
   "metadata": {},
   "source": [
    "### Key Takeaways\n",
    "\n",
    "- A computer always does **exactly** what you write, not what you are thinking.\n",
    "- With Python, big problems can be solved using small commands.\n",
    "- `print()` is the **first window** to programming, where you start communicating with the computer."
   ]
  },
  {
   "cell_type": "markdown",
   "metadata": {},
   "source": [
    "---\n",
    "🔔 **Next Chapter:** \"Box – Variables\" where we’ll learn how to store and manage data."
   ]
  }
 ],
 "metadata": {
  "kernelspec": {
   "display_name": "agents",
   "language": "python",
   "name": "python3"
  },
  "language_info": {
   "codemirror_mode": {
    "name": "ipython",
    "version": 3
   },
   "file_extension": ".py",
   "mimetype": "text/x-python",
   "name": "python",
   "nbconvert_exporter": "python",
   "pygments_lexer": "ipython3",
   "version": "3.12.11"
  }
 },
 "nbformat": 4,
 "nbformat_minor": 2
}
