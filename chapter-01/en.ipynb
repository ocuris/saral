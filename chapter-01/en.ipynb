{
 "cells": [
  {
   "cell_type": "markdown",
   "metadata": {},
   "source": [
    "# 📘 Learn Python – In Simple Language\n",
    "## Chapter 2: The Box – Variables"
   ]
  },
  {
   "cell_type": "markdown",
   "metadata": {},
   "source": [
    "### Story\n",
    "\n",
    "In the previous chapter, Mohan learned that by using Python, we can give commands to a computer and make it work for us.\n",
    "But now, a new problem came up.\n",
    "\n",
    "Mohan used to write down the sacks that came from the farm every day:\n",
    "- Monday: 10 sacks\n",
    "- Tuesday: 12 sacks\n",
    "- Wednesday: 8 sacks\n",
    "\n",
    "Every time, he had to write a separate `print()` for each count.\n",
    "Seeing this, Ravi said:\n",
    "\n",
    "> \"Mohan! Will you keep each sack in a different place, or put them all in a box (container)?\"\n",
    "\n",
    "Mohan replied:\n",
    "> \"A box is very useful, it keeps things safe.\"\n",
    "\n",
    "Ravi smiled and said:\n",
    "> \"Exactly! In programming too, we need to keep things inside **boxes** (Variables).\""
   ]
  },
  {
   "cell_type": "markdown",
   "metadata": {},
   "source": [
    "### What is a Variable?\n",
    "\n",
    "* A variable = a box to store data.\n",
    "* It can hold **numbers**, **words**, or any kind of information.\n",
    "* Whenever we want, we can take out its value using its name.\n",
    "\n",
    "👉 Think of it this way: Variable = Name + Value."
   ]
  },
  {
   "cell_type": "code",
   "execution_count": null,
   "metadata": {},
   "outputs": [
    {
     "name": "stdout",
     "output_type": "stream",
     "text": [
      "Monday: 10\n",
      "Tuesday: 12\n",
      "Wednesday: 8\n"
     ]
    }
   ],
   "source": [
    "# Creating variables (boxes)\n",
    "monday = 10\n",
    "tuesday = 12\n",
    "wednesday = 8\n",
    "\n",
    "# Printing them\n",
    "print(\"Monday:\", monday)\n",
    "print(\"Tuesday:\", tuesday)\n",
    "print(\"Wednesday:\", wednesday)"
   ]
  },
  {
   "cell_type": "markdown",
   "metadata": {},
   "source": [
    "Output:\n",
    "```\n",
    "Monday: 10\n",
    "Tuesday: 12\n",
    "Wednesday: 8\n",
    "```"
   ]
  },
  {
   "cell_type": "markdown",
   "metadata": {},
   "source": [
    "### Why are Variables Useful?\n",
    "\n",
    "* If you change the value in one place, all related calculations change.\n",
    "* With variables, we can do addition, subtraction, multiplication, division, etc.\n",
    "\n",
    "For example, Mohan wants to calculate the total sacks for three days:"
   ]
  },
  {
   "cell_type": "code",
   "execution_count": null,
   "metadata": {},
   "outputs": [
    {
     "name": "stdout",
     "output_type": "stream",
     "text": [
      "Total sacks: 30\n"
     ]
    }
   ],
   "source": [
    "# Total sacks of three days\n",
    "monday = 10\n",
    "tuesday = 12\n",
    "wednesday = 8\n",
    "\n",
    "total_sacks = monday + tuesday + wednesday\n",
    "print(\"Total sacks:\", total_sacks)"
   ]
  },
  {
   "cell_type": "markdown",
   "metadata": {},
   "source": [
    "Output:\n",
    "```\n",
    "Total sacks: 30\n",
    "```"
   ]
  },
  {
   "cell_type": "markdown",
   "metadata": {},
   "source": [
    "### Practice Questions\n",
    "\n",
    "Now it's your turn! Try these exercises:\n",
    "\n",
    "1. Store your name in a variable and print it on the screen using `print()`.\n",
    "\n",
    "   ```python\n",
    "   name = \"Ram\"\n",
    "   print(name)\n",
    "   ```\n",
    "\n",
    "2. Store your age in a variable and calculate your age 5 years later.\n",
    "\n",
    "3. Store marks of three subjects (like Math, English, Science) in separate variables and calculate the total.\n",
    "\n",
    "4. Run the following code and try to understand what's happening:\n",
    "   ```python\n",
    "   x = 10\n",
    "   y = x\n",
    "   x = 20\n",
    "   print(y)\n",
    "   ```\n",
    "   👉 Why did the output come as 10? Explain.\n",
    "\n",
    "5. Store your favorite book, author, and year in three different variables and print them nicely."
   ]
  },
  {
   "cell_type": "markdown",
   "metadata": {},
   "source": [
    "### Key Takeaways\n",
    "\n",
    "- Variable = a box to store data.\n",
    "- Variable names should be clear and meaningful (like `age`, `marks`, `village_name`).\n",
    "- If the variable's value changes, the result will also change.\n",
    "- This is the foundation for writing bigger programs."
   ]
  },
  {
   "cell_type": "markdown",
   "metadata": {},
   "source": [
    "---\n",
    "🔔 **Next Chapter:** \"The Magic of Math – Operators\" where we will learn addition, subtraction, multiplication, division, and more mathematical tricks."
   ]
  }
 ],
 "metadata": {
  "kernelspec": {
   "display_name": "agents",
   "language": "python",
   "name": "python3"
  },
  "language_info": {
   "codemirror_mode": {
    "name": "ipython",
    "version": 3
   },
   "file_extension": ".py",
   "mimetype": "text/x-python",
   "name": "python",
   "nbconvert_exporter": "python",
   "pygments_lexer": "ipython3",
   "version": "3.12.11"
  }
 },
 "nbformat": 4,
 "nbformat_minor": 2
}
