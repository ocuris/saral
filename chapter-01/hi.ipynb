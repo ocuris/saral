{
 "cells": [
  {
   "cell_type": "markdown",
   "metadata": {},
   "source": [
    "# 📘 Python सीखें – आसान भाषा में\n",
    "## अध्याय 1: पायथन से मुलाक़ात"
   ]
  },
  {
   "cell_type": "markdown",
   "metadata": {},
   "source": [
    "### कहानी\n",
    "\n",
    "भारत के एक छोटे से गाँव में *मोहन* नाम का लड़का रहता था।\n",
    "मोहन को पढ़ाई से बहुत लगाव था, लेकिन साथ ही उसे खेतों में अपने पिताजी की मदद करनी पड़ती थी।\n",
    "खेत से आने वाली गेंहूँ और धान की बोरियों का हिसाब रखना उसके लिए रोज़ की सबसे बड़ी चुनौती थी।\n",
    "\n",
    "हर शाम जब उसके पिताजी पूछते, “आज कितनी बोरियाँ निकलीं?”, तो मोहन को काग़ज़ और पेंसिल लेकर हिसाब जोड़ना पड़ता।\n",
    "कभी गलती हो जाती, कभी जोड़ मिल नहीं पाता।\n",
    "\n",
    "एक दिन उसका दोस्त *रवि* शहर से लौटा। रवि कॉलेज में **कंप्यूटर प्रोग्रामिंग** पढ़ रहा था। उसने मोहन से कहा:\n",
    "\n",
    "> \"मोहन! अगर तू **पायथन** नाम की कंप्यूटर भाषा सीख ले, तो यह हिसाब-किताब मिनटों में हो जाएगा।\"\n",
    "\n",
    "मोहन चौक गया –\n",
    "\n",
    "> \"पायथन? अरे! ये वही साँप वाला पायथन है क्या?\"\n",
    "\n",
    "रवि मुस्कुराया और बोला –\n",
    "\n",
    "> \"नहीं रे! ये कोई साँप नहीं। ये तो दुनिया की सबसे आसान **कंप्यूटर भाषा** है। जैसे तू बैल को आदेश देता है ‘चलो’, वैसे ही पायथन से हम कंप्यूटर को आदेश दे सकते हैं।\""
   ]
  },
  {
   "cell_type": "markdown",
   "metadata": {},
   "source": [
    "### पहला अनुभव\n",
    "\n",
    "रवि ने अपना कंप्यूटर खोला और मोहन से कहा:\n",
    "\n",
    "``` python\n",
    "print(\"नमस्ते दुनिया\")\n",
    "```\n",
    "\n",
    "जैसे ही उसने एंटर दबाया, स्क्रीन पर लिखा आया:\n",
    "\n",
    "```\n",
    "नमस्ते दुनिया\n",
    "```\n",
    "\n",
    "मोहन की आँखें चमक उठीं:\n",
    "\n",
    "> \"वाह! कंप्यूटर मेरी भाषा में बात कर रहा है।\"\n",
    "\n",
    "उस दिन मोहन को अहसास हुआ कि पायथन सचमुच किसी जादू से कम नहीं है।"
   ]
  },
  {
   "cell_type": "markdown",
   "metadata": {},
   "source": [
    "### अब आप सीखें\n",
    "\n",
    "* **पायथन** = एक भाषा, जिससे हम कंप्यूटर से अपनी बात मनवा सकते हैं।\n",
    "* पहला आदेश है `print()`, जो स्क्रीन पर हमारी बात लिखकर दिखाता है।\n",
    "* पायथन की खूबसूरती यह है कि इसे पढ़ना और समझना बहुत आसान है।\n",
    "\n",
    "👉 प्रोग्रामिंग का पहला नियम यही है कि **आप कंप्यूटर को आदेश देते हैं**, और वह आपको परिणाम देता है।"
   ]
  },
  {
   "cell_type": "code",
   "execution_count": null,
   "metadata": {},
   "outputs": [],
   "source": [
    "# पहला पायथन आदेश\n",
    "print(\"नमस्ते दुनिया\")"
   ]
  },
  {
   "cell_type": "markdown",
   "metadata": {},
   "source": [
    "### अभ्यास प्रश्न\n",
    "\n",
    "अब बारी आपकी! चलिए कुछ सरल अभ्यास करके देखते हैं:\n",
    "\n",
    "1. अपना नाम स्क्रीन पर दिखाइए।\n",
    "   ```python\n",
    "   print(\"मेरा नाम ___ है\")\n",
    "   ```\n"
   ]
  },
  {
   "cell_type": "code",
   "execution_count": null,
   "metadata": {},
   "outputs": [],
   "source": [
    "# अभ्यास कीजिए।"
   ]
  },
  {
   "cell_type": "markdown",
   "metadata": {},
   "source": [
    "\n",
    "2. अपने गाँव या शहर का नाम प्रिंट कीजिए।\n"
   ]
  },
  {
   "cell_type": "code",
   "execution_count": null,
   "metadata": {},
   "outputs": [],
   "source": [
    "# अभ्यास कीजिए।"
   ]
  },
  {
   "cell_type": "markdown",
   "metadata": {},
   "source": [
    "\n",
    "3. `print()` का उपयोग करके अपनी पसंदीदा दो पंक्तियों की कविता लिखिए।\n"
   ]
  },
  {
   "cell_type": "code",
   "execution_count": null,
   "metadata": {},
   "outputs": [],
   "source": [
    "# अभ्यास कीजिए।"
   ]
  },
  {
   "cell_type": "markdown",
   "metadata": {},
   "source": [
    "\n",
    "4. नीचे दिए गए कोड को चलाएँ और देखिए क्या होता है:\n",
    "   ```python\n",
    "   print(\"5 + 3\")\n",
    "   print(5 + 3)\n",
    "   ```\n",
    "   👉 क्या दोनों आउटपुट एक जैसे हैं? क्यों?\n"
   ]
  },
  {
   "cell_type": "code",
   "execution_count": null,
   "metadata": {},
   "outputs": [],
   "source": [
    "# अभ्यास कीजिए।"
   ]
  },
  {
   "cell_type": "markdown",
   "metadata": {},
   "source": [
    "\n",
    "5. अपने परिवार के 3 सदस्यों के नाम तीन अलग-अलग `print()` स्टेटमेंट्स में लिखिए।"
   ]
  },
  {
   "cell_type": "code",
   "execution_count": null,
   "metadata": {},
   "outputs": [],
   "source": [
    "# अभ्यास कीजिए।"
   ]
  },
  {
   "cell_type": "markdown",
   "metadata": {},
   "source": [
    "### सीखने योग्य बातें\n",
    "\n",
    "- कंप्यूटर हमेशा वही करेगा जो आप लिखेंगे, न कि जो आप सोच रहे हैं।\n",
    "- पायथन में छोटे-छोटे आदेश लिखकर बड़ी-बड़ी समस्याएँ हल की जा सकती हैं।\n",
    "- `print()` प्रोग्रामिंग की **पहली खिड़की** है, जिससे आप कंप्यूटर से संवाद शुरू करते हैं।"
   ]
  },
  {
   "cell_type": "markdown",
   "metadata": {},
   "source": [
    "---\n",
    "🔔 **अगला अध्याय:** \"डब्बा – वेरिएबल्स\" जहाँ हम सीखेंगे कि डेटा को कैसे संभालकर रखा जाता है।"
   ]
  },
  {
   "cell_type": "markdown",
   "metadata": {},
   "source": [
    "<div style='display: flex; justify-content: space-between;'>\n",
    "  <a href='../chapter-00/introduction.ipynb' style='background-color: #1E90FF; color: white; padding: 8px 16px; border-radius: 6px; text-decoration: none;'>⬅️ Previous</a>\n",
    "  <a href='../chapter-02/variables.ipynb' style='background-color: #28a745; color: white; padding: 8px 16px; border-radius: 6px; text-decoration: none;'>Next ➡️</a>\n",
    "</div>"
   ]
  }
 ],
 "metadata": {
  "kernelspec": {
   "display_name": "agents",
   "language": "python",
   "name": "python3"
  },
  "language_info": {
   "codemirror_mode": {
    "name": "ipython",
    "version": 3
   },
   "file_extension": ".py",
   "mimetype": "text/x-python",
   "name": "python",
   "nbconvert_exporter": "python",
   "pygments_lexer": "ipython3",
   "version": "3.12.11"
  }
 },
 "nbformat": 4,
 "nbformat_minor": 2
}
