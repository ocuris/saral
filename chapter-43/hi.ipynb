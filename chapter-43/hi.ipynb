{
 "cells": [
  {
   "cell_type": "markdown",
   "metadata": {},
   "source": [
    "# 📘 Python सीखें – आसान भाषा में\n",
    "## अध्याय 43: Python और Scheduling – schedule module और cron jobs"
   ]
  },
  {
   "cell_type": "markdown",
   "metadata": {},
   "source": [
    "### कहानी\n",
    "राम अपनी shop के daily sales report और email भेजना automatic करना चाहता था।\n",
    "श्याम ने कहा:\n",
    "> \"Python में schedule module और cron jobs use करके tasks automatic run कर सकते हो।\"\n",
    "\n",
    "राम:\n",
    "> \"वाह! अब मैं manually report भेजने की चिंता नहीं करूंगा।\""
   ]
  },
  {
   "cell_type": "markdown",
   "metadata": {},
   "source": [
    "### schedule module क्या है?\n",
    "- Python library जो periodic tasks run करने के लिए\n",
    "- Task run daily, hourly, weekly आदि set कर सकते हैं\n",
    "- Lightweight और easy-to-use"
   ]
  },
  {
   "cell_type": "markdown",
   "metadata": {},
   "source": [
    "### Example 1: Simple Scheduled Task\n",
    "```python\n",
    "import schedule\n",
    "import time\n",
    "\n",
    "def job():\n",
    "    print('Running scheduled task!')\n",
    "\n",
    "# Task schedule करना\n",
    "schedule.every(10).seconds.do(job)  # हर 10 seconds\n",
    "\n",
    "while True:\n",
    "    schedule.run_pending()\n",
    "    time.sleep(1)\n",
    "```"
   ]
  },
  {
   "cell_type": "markdown",
   "metadata": {},
   "source": [
    "### Example 2: Daily Email Automation\n",
    "```python\n",
    "import schedule\n",
    "import time\n",
    "from send_email import send_report  # अपने email module function\n",
    "\n",
    "# Task schedule करना\n",
    "schedule.every().day.at('09:00').do(send_report)\n",
    "\n",
    "while True:\n",
    "    schedule.run_pending()\n",
    "    time.sleep(60)\n",
    "```"
   ]
  },
  {
   "cell_type": "markdown",
   "metadata": {},
   "source": [
    "### Cron Jobs क्या हैं?\n",
    "- Unix/Linux और MacOS में task scheduler\n",
    "- Python script को automatic run करने के लिए\n",
    "- Example: हर दिन 9AM पर script run करना\n",
    "```\n",
    "0 9 * * * /usr/bin/python3 /path/to/your_script.py\n",
    "```"
   ]
  },
  {
   "cell_type": "markdown",
   "metadata": {},
   "source": [
    "### Best Practices\n",
    "- schedule module → Python process continuously run होना चाहिए\n",
    "- cron jobs → OS level scheduling, Python process independent\n",
    "- Logging add करें ताकि task failures track हो सकें\n",
    "- Timezone और daylight savings का ध्यान रखें"
   ]
  },
  {
   "cell_type": "markdown",
   "metadata": {},
   "source": [
    "### अभ्यास प्रश्न\n",
    "1. Python script को हर 5 seconds run करने के लिए schedule करें।\n",
    "2. Daily email भेजने के लिए schedule module use करें।\n",
    "3. Weekly task create करें जो report generate करे।\n",
    "4. Cron job setup करें जो Python script रोज़ 8AM run करे।\n",
    "5. Logging add करें ताकि scheduled tasks की success/failure check हो सके।"
   ]
  },
  {
   "cell_type": "markdown",
   "metadata": {},
   "source": [
    "### सीखने योग्य बातें\n",
    "- Python में task automation\n",
    "- schedule module → in-code scheduling\n",
    "- cron jobs → OS level scheduling\n",
    "- Automation of reports, emails और repetitive tasks"
   ]
  },
  {
   "cell_type": "markdown",
   "metadata": {},
   "source": [
    "---\n",
    "🔔 **अगला अध्याय:** \"Python और Logging – log module, debug और error tracking\""
   ]
  }
 ],
 "metadata": {
  "kernelspec": {
   "display_name": "Python 3",
   "language": "python",
   "name": "python3"
  },
  "language_info": {
   "name": "python",
   "version": "3.12.0"
  }
 },
 "nbformat": 4,
 "nbformat_minor": 2
}
