{
 "cells": [
  {
   "cell_type": "markdown",
   "metadata": {},
   "source": [
    "# 📘 Python सीखें – आसान भाषा में\n",
    "## अध्याय 16: File Handling – फाइलों से दोस्ती"
   ]
  },
  {
   "cell_type": "markdown",
   "metadata": {},
   "source": [
    "### कहानी\n",
    "\n",
    "राहुल और सीमा अपने पुराने स्कूल के अलमारी में गए। वहाँ ढेर सारी फाइलें और कॉपियाँ रखी थीं।\n",
    "सीमा बोली:\n",
    "> \"देखो, हर कॉपी में यादें भरी हैं।\"\n",
    "\n",
    "राहुल ने कहा:\n",
    "> \"जैसे हम कॉपी खोलकर पढ़ते और लिखते हैं, वैसे ही Python भी **फाइलों से बात कर सकता है।**\"\n",
    "\n",
    "सीमा हँसकर बोली:\n",
    "> \"तो Python भी हमारी तरह फाइलों से दोस्ती कर लेता है!\" 📂🤝"
   ]
  },
  {
   "cell_type": "markdown",
   "metadata": {},
   "source": [
    "### File Handling Basics\n",
    "- फाइल खोलने के लिए → `open()` function\n",
    "- Syntax → `open(filename, mode)`\n",
    "- Modes:\n",
    "  - `r` → read mode (default)\n",
    "  - `w` → write mode (पुरानी फाइल overwrite होगी)\n",
    "  - `a` → append mode (पुराने data में नया जोड़ना)\n",
    "  - `b` → binary mode\n",
    "  - `t` → text mode (default)"
   ]
  },
  {
   "cell_type": "code",
   "execution_count": null,
   "metadata": {},
   "outputs": [],
   "source": [
    "# Writing to a file\n",
    "f = open(\"myfile.txt\", \"w\")\n",
    "f.write(\"Hello Python!\\n\")\n",
    "f.write(\"File handling is easy.\")\n",
    "f.close()"
   ]
  },
  {
   "cell_type": "code",
   "execution_count": null,
   "metadata": {},
   "outputs": [],
   "source": [
    "# Reading from a file\n",
    "f = open(\"myfile.txt\", \"r\")\n",
    "content = f.read()\n",
    "print(content)\n",
    "f.close()"
   ]
  },
  {
   "cell_type": "markdown",
   "metadata": {},
   "source": [
    "### Read Methods\n",
    "- `read()` → पूरी फाइल पढ़ता है\n",
    "- `readline()` → एक लाइन पढ़ता है\n",
    "- `readlines()` → पूरी फाइल को list में line-by-line पढ़ता है"
   ]
  },
  {
   "cell_type": "code",
   "execution_count": null,
   "metadata": {},
   "outputs": [],
   "source": [
    "f = open(\"myfile.txt\", \"r\")\n",
    "print(f.readline())   # पहली लाइन\n",
    "print(f.readlines())  # बाकी सब list में\n",
    "f.close()"
   ]
  },
  {
   "cell_type": "markdown",
   "metadata": {},
   "source": [
    "### With Statement\n",
    "- फाइल खुद-ब-खुद close करने के लिए `with open()` use होता है\n",
    "- इससे code साफ़ और सुरक्षित रहता है"
   ]
  },
  {
   "cell_type": "code",
   "execution_count": null,
   "metadata": {},
   "outputs": [],
   "source": [
    "with open(\"myfile.txt\", \"r\") as f:\n",
    "    data = f.read()\n",
    "    print(data)"
   ]
  },
  {
   "cell_type": "markdown",
   "metadata": {},
   "source": [
    "### Append Mode\n",
    "- पुराना data हटे बिना नया data add करने के लिए → `a` mode\n"
   ]
  },
  {
   "cell_type": "code",
   "execution_count": null,
   "metadata": {},
   "outputs": [],
   "source": [
    "with open(\"myfile.txt\", \"a\") as f:\n",
    "    f.write(\"\\nAdding a new line!\")"
   ]
  },
  {
   "cell_type": "markdown",
   "metadata": {},
   "source": [
    "### अभ्यास प्रश्न\n",
    "1. एक फाइल `notes.txt` बनाइए और उसमें \"Python is fun\" लिखिए।\n",
    "2. उसी फाइल को read mode में खोलकर content print कीजिए।\n",
    "3. फाइल में 3 लाइनें add कीजिए और फिर उन्हें line by line पढ़कर दिखाइए।\n",
    "4. `with open()` का use करके फाइल safe तरीके से पढ़िए।\n",
    "5. एक प्रोग्राम लिखिए जो user से input लेकर फाइल में save करे।"
   ]
  },
  {
   "cell_type": "markdown",
   "metadata": {},
   "source": [
    "### सीखने योग्य बातें\n",
    "- `open(filename, mode)` → फाइल खोलने के लिए\n",
    "- Modes: `r`, `w`, `a`, `t`, `b`\n",
    "- Read methods: `read()`, `readline()`, `readlines()`\n",
    "- `with open()` → auto close\n",
    "- Append mode → पुराने data में नया जोड़ने के लिए"
   ]
  },
  {
   "cell_type": "markdown",
   "metadata": {},
   "source": [
    "---\n",
    "🔔 **अगला अध्याय:** \"Exception Handling – गलती से सीखना\" जहाँ हम सीखेंगे कि Python प्रोग्राम की errors को कैसे संभालें।"
   ]
  }
 ],
 "metadata": {
  "kernelspec": {
   "display_name": "Python 3",
   "language": "python",
   "name": "python3"
  },
  "language_info": {
   "name": "python",
   "version": "3.12.0"
  }
 },
 "nbformat": 4,
 "nbformat_minor": 2
}
