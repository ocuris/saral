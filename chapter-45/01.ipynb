{
 "cells": [
  {
   "cell_type": "markdown",
   "metadata": {},
   "source": [
    "# 📘 पायथन सीखें – आसान भाषा में\n",
    "## अध्याय 45: Python और Web Automation – Selenium basics"
   ]
  },
  {
   "cell_type": "markdown",
   "metadata": {},
   "source": [
    "### कहानी\n",
    "राम online shop के product prices daily check करना चाहता था और अपने data को update करना चाहता था।\n",
    "श्याम ने कहा:\n",
    "> \"Python और Selenium use करके web pages automatically interact कर सकते हो।\"\n",
    "\n",
    "राम:\n",
    "> \"वाह! अब मैं browser manually open किए बिना tasks automate कर सकता हूँ।\""
   ]
  },
  {
   "cell_type": "markdown",
   "metadata": {},
   "source": [
    "### Selenium क्या है?\n",
    "- Python library जो web browsers को automate करती है\n",
    "- Web elements interact करना आसान बनाती है: click, type, extract data\n",
    "- Supports Chrome, Firefox, Edge आदि browsers"
   ]
  },
  {
   "cell_type": "markdown",
   "metadata": {},
   "source": [
    "### Example 1: Open a Website\n",
    "```python\n",
    "from selenium import webdriver\n",
    "from selenium.webdriver.common.by import By\n",
    "\n",
    "# Chrome driver setup\n",
    "driver = webdriver.Chrome(executable_path='/path/to/chromedriver')\n",
    "driver.get('https://www.google.com')\n",
    "\n",
    "print(driver.title)  # Page title print\n",
    "driver.quit()\n",
    "```"
   ]
  },
  {
   "cell_type": "markdown",
   "metadata": {},
   "source": [
    "### Example 2: Search in Google\n",
    "```python\n",
    "driver = webdriver.Chrome(executable_path='/path/to/chromedriver')\n",
    "driver.get('https://www.google.com')\n",
    "\n",
    "search_box = driver.find_element(By.NAME, 'q')\n",
    "search_box.send_keys('Python tutorials')\n",
    "search_box.submit()\n",
    "\n",
    "print(driver.title)\n",
    "driver.quit()\n",
    "```"
   ]
  },
  {
   "cell_type": "markdown",
   "metadata": {},
   "source": [
    "### Example 3: Extract Data\n",
    "```python\n",
    "driver = webdriver.Chrome(executable_path='/path/to/chromedriver')\n",
    "driver.get('https://example.com')\n",
    "\n",
    "headings = driver.find_elements(By.TAG_NAME, 'h2')\n",
    "for h in headings:\n",
    "    print(h.text)\n",
    "\n",
    "driver.quit()\n",
    "```"
   ]
  },
  {
   "cell_type": "markdown",
   "metadata": {},
   "source": [
    "### Best Practices\n",
    "- WebDriver path correctly set करें\n",
    "- Elements locate करने के लिए `By.ID`, `By.NAME`, `By.XPATH` use करें\n",
    "- Explicit waits use करें (dynamic pages के लिए)\n",
    "- Browser close करना हमेशा याद रखें (`quit()`)\n",
    "- Large scale scraping → respect website terms, rate limits"
   ]
  },
  {
   "cell_type": "markdown",
   "metadata": {},
   "source": [
    "### अभ्यास प्रश्न\n",
    "1. Selenium setup करके किसी website open करें और title print करें।\n",
    "2. Google में search box में text type करें और search submit करें।\n",
    "3. किसी page से सभी headings या paragraphs extract करें।\n",
    "4. किसी button click करके next page navigate करें।\n",
    "5. Multiple pages से data scrape करके CSV में save करें।"
   ]
  },
  {
   "cell_type": "markdown",
   "metadata": {},
   "source": [
    "### सीखने योग्य बातें\n",
    "- Selenium → web automation, scraping, testing\n",
    "- Web element locate → ID, NAME, XPATH, CSS Selector\n",
    "- Actions → send_keys, click, extract text\n",
    "- Browser management → open, wait, close"
   ]
  },
  {
   "cell_type": "markdown",
   "metadata": {},
   "source": [
    "---\n",
    "🔔 **अगला अध्याय:** \"Python और API Integration – requests और JSON handling\""
   ]
  }
 ],
 "metadata": {
  "kernelspec": {
   "display_name": "Python 3",
   "language": "python",
   "name": "python3"
  },
  "language_info": {
   "name": "python",
   "version": "3.12.0"
  }
 },
 "nbformat": 4,
 "nbformat_minor": 2
}
