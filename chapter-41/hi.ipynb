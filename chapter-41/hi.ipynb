{
 "cells": [
  {
   "cell_type": "markdown",
   "metadata": {},
   "source": [
    "# 📘 Python सीखें – आसान भाषा में\n",
    "## अध्याय 41: Python और File Handling – CSV, JSON और Excel"
   ]
  },
  {
   "cell_type": "markdown",
   "metadata": {},
   "source": [
    "### कहानी\n",
    "राम अपनी shop के sales और inventory data को save और share करना चाहता था।\n",
    "श्याम ने कहा:\n",
    "> \"Python में files handle करना आसान है – CSV, JSON, Excel सब manage कर सकते हो।\"\n",
    "\n",
    "राम:\n",
    "> \"वाह! अब मैं data को store, read और share कर पाऊँगा।\""
   ]
  },
  {
   "cell_type": "markdown",
   "metadata": {},
   "source": [
    "### CSV File Handling\n",
    "- CSV = Comma Separated Values, simplest spreadsheet format\n",
    "- Python का built-in `csv` module use करें"
   ]
  },
  {
   "cell_type": "markdown",
   "metadata": {},
   "source": [
    "### Example 1: CSV – Write and Read\n",
    "```python\n",
    "import csv\n",
    "\n",
    "# Write CSV\n",
    "with open('sales.csv', mode='w', newline='') as file:\n",
    "    writer = csv.writer(file)\n",
    "    writer.writerow(['Product', 'Quantity', 'Price'])\n",
    "    writer.writerow(['Wheat', 10, 500])\n",
    "    writer.writerow(['Rice', 5, 300])\n",
    "\n",
    "# Read CSV\n",
    "with open('sales.csv', mode='r') as file:\n",
    "    reader = csv.reader(file)\n",
    "    for row in reader:\n",
    "        print(row)\n",
    "```"
   ]
  },
  {
   "cell_type": "markdown",
   "metadata": {},
   "source": [
    "### JSON File Handling\n",
    "- JSON = JavaScript Object Notation, structured data exchange format\n",
    "- Python का built-in `json` module use करें"
   ]
  },
  {
   "cell_type": "markdown",
   "metadata": {},
   "source": [
    "### Example 2: JSON – Write and Read\n",
    "```python\n",
    "import json\n",
    "\n",
    "data = {\n",
    "    'sales': [\n",
    "        {'product': 'Wheat', 'quantity': 10, 'price': 500},\n",
    "        {'product': 'Rice', 'quantity': 5, 'price': 300}\n",
    "    ]\n",
    "}\n",
    "\n",
    "# Write JSON\n",
    "with open('sales.json', 'w') as file:\n",
    "    json.dump(data, file, indent=4)\n",
    "\n",
    "# Read JSON\n",
    "with open('sales.json', 'r') as file:\n",
    "    content = json.load(file)\n",
    "    print(content)\n",
    "```"
   ]
  },
  {
   "cell_type": "markdown",
   "metadata": {},
   "source": [
    "### Excel File Handling\n",
    "- Excel files handle करने के लिए `pandas` library use करें\n",
    "- `.xlsx` और `.xls` files read/write कर सकते हैं"
   ]
  },
  {
   "cell_type": "markdown",
   "metadata": {},
   "source": [
    "### Example 3: Excel – Write and Read\n",
    "```python\n",
    "import pandas as pd\n",
    "\n",
    "df = pd.DataFrame([\n",
    "    {'Product': 'Wheat', 'Quantity': 10, 'Price': 500},\n",
    "    {'Product': 'Rice', 'Quantity': 5, 'Price': 300}\n",
    "])\n",
    "\n",
    "# Write Excel\n",
    "df.to_excel('sales.xlsx', index=False)\n",
    "\n",
    "# Read Excel\n",
    "df_read = pd.read_excel('sales.xlsx')\n",
    "print(df_read)\n",
    "```"
   ]
  },
  {
   "cell_type": "markdown",
   "metadata": {},
   "source": [
    "### Best Practices\n",
    "- File paths absolute या relative में ठीक से रखें\n",
    "- Data validation करें before saving\n",
    "- CSV → simple tabular data, JSON → structured, nested data, Excel → formatted spreadsheets\n",
    "- Large datasets → pandas recommend"
   ]
  },
  {
   "cell_type": "markdown",
   "metadata": {},
   "source": [
    "### अभ्यास प्रश्न\n",
    "1. अपनी shop के sales data को CSV में save करें और read करें।\n",
    "2. JSON file create करें जिसमें multiple sales records हों।\n",
    "3. Excel file में same data save करें और फिर read करें।\n",
    "4. CSV file में कोई नया record add करें और फिर read करें।\n",
    "5. pandas DataFrame से Excel file में formatting और multiple sheets add करें।"
   ]
  },
  {
   "cell_type": "markdown",
   "metadata": {},
   "source": [
    "### सीखने योग्य बातें\n",
    "- CSV → simple tables\n",
    "- JSON → structured data\n",
    "- Excel → formatted spreadsheets\n",
    "- Python में file read/write operations\n",
    "- Data save, update और share करना सीखें"
   ]
  },
  {
   "cell_type": "markdown",
   "metadata": {},
   "source": [
    "---\n",
    "🔔 **अगला अध्याय:** \"Python और Email Automation – smtplib और email modules\""
   ]
  },
  {
   "cell_type": "markdown",
   "metadata": {},
   "source": [
    "<div style='display: flex; justify-content: space-between;'>\n",
    "  <a href='../chapter-40/hi.ipynb' style='background-color: #1E90FF; color: white; padding: 8px 16px; border-radius: 6px; text-decoration: none;'>⬅️ Previous</a>\n",
    "  <a href='../chapter-42/hi.ipynb' style='background-color: #28a745; color: white; padding: 8px 16px; border-radius: 6px; text-decoration: none;'>Next ➡️</a>\n",
    "</div>"
   ]
  }
 ],
 "metadata": {
  "kernelspec": {
   "display_name": "Python 3",
   "language": "python",
   "name": "python3"
  },
  "language_info": {
   "name": "python",
   "version": "3.12.0"
  }
 },
 "nbformat": 4,
 "nbformat_minor": 2
}
