{
 "cells": [
  {
   "cell_type": "markdown",
   "metadata": {},
   "source": [
    "# 📘 Python सीखें – आसान भाषा में\n",
    "## अध्याय 29: Modules और Packages – Code को व्यवस्थित करना"
   ]
  },
  {
   "cell_type": "markdown",
   "metadata": {},
   "source": [
    "### कहानी\n",
    "राम ने एक बड़ा project बनाया। सब functions एक ही file में थे।\n",
    "श्याम बोला:\n",
    "> \"इतना बड़ा code एक ही जगह क्यों रख रहे हो?\"\n",
    "\n",
    "राम:\n",
    "> \"तो क्या करूँ?\"\n",
    "\n",
    "श्याम हँसते हुए:\n",
    "> \"Code को अलग-अलग files (modules) और folders (packages) में बाँटो। इससे project समझना और maintain करना आसान हो जाएगा।\""
   ]
  },
  {
   "cell_type": "markdown",
   "metadata": {},
   "source": [
    "### Module क्या है?\n",
    "- **Module = Python file (.py)** जिसमें functions, classes और variables होते हैं।\n",
    "- Modules को import करके बार-बार use किया जा सकता है।\n",
    "\n",
    "Example: `math` module"
   ]
  },
  {
   "cell_type": "markdown",
   "metadata": {},
   "source": [
    "### Example 1: Built-in Module\n",
    "```python\n",
    "import math\n",
    "print(math.sqrt(16))   # 4.0\n",
    "print(math.pi)         # 3.14159...\n",
    "```"
   ]
  },
  {
   "cell_type": "markdown",
   "metadata": {},
   "source": [
    "### Example 2: Custom Module\n",
    "👉 `mymodule.py` file बनाइए:\n",
    "```python\n",
    "def greet(name):\n",
    "    return f\"Hello, {name}!\"\n",
    "```\n",
    "\n",
    "👉 अब main file में:\n",
    "```python\n",
    "import mymodule\n",
    "print(mymodule.greet(\"Rohan\"))\n",
    "```"
   ]
  },
  {
   "cell_type": "markdown",
   "metadata": {},
   "source": [
    "### Import के अलग-अलग तरीके\n",
    "```python\n",
    "import math               # पूरा module\n",
    "from math import sqrt     # सिर्फ sqrt function\n",
    "from math import *        # सारे functions (recommended नहीं)\n",
    "import math as m          # alias\n",
    "print(m.sqrt(25))\n",
    "```"
   ]
  },
  {
   "cell_type": "markdown",
   "metadata": {},
   "source": [
    "### Package क्या है?\n",
    "- **Package = Folder जिसमें कई modules हों**।\n",
    "- Folder में एक special file `__init__.py` होना चाहिए।\n",
    "\n",
    "👉 Example:\n",
    "```\n",
    "myproject/\n",
    "   ├── __init__.py\n",
    "   ├── math_utils.py\n",
    "   └── string_utils.py\n",
    "```"
   ]
  },
  {
   "cell_type": "markdown",
   "metadata": {},
   "source": [
    "### Example 3: Using Package\n",
    "```python\n",
    "from myproject import math_utils\n",
    "print(math_utils.add(5, 3))\n",
    "```"
   ]
  },
  {
   "cell_type": "markdown",
   "metadata": {},
   "source": [
    "### Standard Library\n",
    "- Python में हज़ारों modules पहले से आते हैं।\n",
    "- Example:\n",
    "  - `os` → operating system\n",
    "  - `random` → random numbers\n",
    "  - `datetime` → तारीख और समय\n",
    "  - `json` → JSON data\n",
    "  - `statistics` → mean, median, mode"
   ]
  },
  {
   "cell_type": "markdown",
   "metadata": {},
   "source": [
    "### Example 4: Random Module\n",
    "```python\n",
    "import random\n",
    "print(random.randint(1, 10))   # 1 से 10 के बीच random number\n",
    "```"
   ]
  },
  {
   "cell_type": "markdown",
   "metadata": {},
   "source": [
    "### अभ्यास प्रश्न\n",
    "1. `math` module का इस्तेमाल करके square root और factorial निकालिए।\n",
    "2. एक custom module `calculator.py` बनाइए जिसमें add और subtract functions हों, और उसे import करके इस्तेमाल कीजिए।\n",
    "3. एक package बनाइए जिसमें `math_utils.py` और `string_utils.py` हों। दोनों को import करके use कीजिए।\n",
    "4. `random` module का इस्तेमाल करके dice रोल (1-6) simulate कीजिए।\n",
    "5. `datetime` module से current date और time print कीजिए।"
   ]
  },
  {
   "cell_type": "markdown",
   "metadata": {},
   "source": [
    "### सीखने योग्य बातें\n",
    "- Module = Python file\n",
    "- Package = Modules का collection (folder)\n",
    "- Import करने के कई तरीके होते हैं\n",
    "- Python की **standard library** बहुत powerful है\n",
    "- Modules/Packages से code साफ़, reusable और maintainable होता है"
   ]
  },
  {
   "cell_type": "markdown",
   "metadata": {},
   "source": [
    "---\n",
    "🔔 **अगला अध्याय:** \"File Handling Advanced – JSON और CSV फाइलें\""
   ]
  }
 ],
 "metadata": {
  "kernelspec": {
   "display_name": "Python 3",
   "language": "python",
   "name": "python3"
  },
  "language_info": {
   "name": "python",
   "version": "3.12.0"
  }
 },
 "nbformat": 4,
 "nbformat_minor": 2
}
