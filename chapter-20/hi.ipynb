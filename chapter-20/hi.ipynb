{
 "cells": [
  {
   "cell_type": "markdown",
   "metadata": {},
   "source": [
    "# 📘 Python सीखें – आसान भाषा में\n",
    "## अध्याय 20: File Handling – फाइलों की दुनिया"
   ]
  },
  {
   "cell_type": "markdown",
   "metadata": {},
   "source": [
    "### कहानी\n",
    "\n",
    "राहुल को अपने पुराने डायरी नोट्स पढ़ने का मन हुआ।\n",
    "- उसने डायरी खोली 📖 (open)\n",
    "- कुछ पन्ने पढ़े 👀 (read)\n",
    "- नया entry लिखा ✍️ (write)\n",
    "- और फिर डायरी बंद कर दी 🔒 (close)\n",
    "\n",
    "सीमा बोली:\n",
    "> \"Python में भी files ऐसे ही काम करती हैं। उन्हें खोलो, पढ़ो/लिखो और फिर बंद कर दो।\""
   ]
  },
  {
   "cell_type": "markdown",
   "metadata": {},
   "source": [
    "### File Handling Basics\n",
    "- **open()** → file खोलने के लिए\n",
    "- **modes**:\n",
    "  - `'r'` → read (default)\n",
    "  - `'w'` → write (पुराना content मिटा देगा)\n",
    "  - `'a'` → append (पुराना content बचा रहेगा, नया add होगा)\n",
    "  - `'b'` → binary mode\n",
    "  - `'x'` → नई file create\n",
    "- **close()** → file बंद करना जरूरी है"
   ]
  },
  {
   "cell_type": "code",
   "execution_count": null,
   "metadata": {},
   "outputs": [],
   "source": [
    "# File में लिखना\n",
    "f = open(\"demo.txt\", \"w\")\n",
    "f.write(\"Hello, Python World!\\n\")\n",
    "f.close()"
   ]
  },
  {
   "cell_type": "code",
   "execution_count": null,
   "metadata": {},
   "outputs": [],
   "source": [
    "# File पढ़ना\n",
    "f = open(\"demo.txt\", \"r\")\n",
    "content = f.read()\n",
    "print(content)\n",
    "f.close()"
   ]
  },
  {
   "cell_type": "markdown",
   "metadata": {},
   "source": [
    "### with Statement\n",
    "- File को open और close करने का smart तरीका\n",
    "- Automatically close हो जाती है"
   ]
  },
  {
   "cell_type": "code",
   "execution_count": null,
   "metadata": {},
   "outputs": [],
   "source": [
    "with open(\"demo.txt\", \"a\") as f:\n",
    "    f.write(\"New line added!\\n\")"
   ]
  },
  {
   "cell_type": "markdown",
   "metadata": {},
   "source": [
    "### Reading Methods\n",
    "- `read()` → पूरा content\n",
    "- `readline()` → एक line\n",
    "- `readlines()` → list में सारी lines"
   ]
  },
  {
   "cell_type": "code",
   "execution_count": null,
   "metadata": {},
   "outputs": [],
   "source": [
    "with open(\"demo.txt\", \"r\") as f:\n",
    "    print(f.readline())\n",
    "    print(f.readlines())"
   ]
  },
  {
   "cell_type": "markdown",
   "metadata": {},
   "source": [
    "### Writing Modes Example\n",
    "```python\n",
    "open(\"data.txt\", \"w\")  # पुराना content मिटेगा\n",
    "open(\"data.txt\", \"a\")  # content add होगा\n",
    "open(\"data.txt\", \"x\")  # नई file बनेगी, अगर already है तो error देगा\n",
    "```"
   ]
  },
  {
   "cell_type": "markdown",
   "metadata": {},
   "source": [
    "### Binary Files\n",
    "- Images, videos जैसी non-text files binary mode (`rb`, `wb`) में खोली जाती हैं"
   ]
  },
  {
   "cell_type": "code",
   "execution_count": null,
   "metadata": {},
   "outputs": [],
   "source": [
    "with open(\"image.png\", \"rb\") as f:\n",
    "    data = f.read(10)  # first 10 bytes\n",
    "    print(data)"
   ]
  },
  {
   "cell_type": "markdown",
   "metadata": {},
   "source": [
    "### अभ्यास प्रश्न\n",
    "1. एक text file बनाइए और उसमें 3 lines लिखिए। फिर उसी file को पढ़कर output प्रिंट कीजिए।\n",
    "2. File में data जोड़ने (append) का example कीजिए।\n",
    "3. File की सभी lines को list के रूप में पढ़कर loop से प्रिंट कीजिए।\n",
    "4. Binary mode में file पढ़कर उसके पहले 20 bytes दिखाइए।\n",
    "5. एक program लिखिए जो user से input लेकर file में save करे।"
   ]
  },
  {
   "cell_type": "markdown",
   "metadata": {},
   "source": [
    "### सीखने योग्य बातें\n",
    "- File = data को स्टोर करने का स्थायी तरीका\n",
    "- Modes: `r`, `w`, `a`, `x`, `b`\n",
    "- हमेशा file को close करें (या with statement का use करें)\n",
    "- Text और binary दोनों प्रकार की files handle कर सकते हैं"
   ]
  },
  {
   "cell_type": "markdown",
   "metadata": {},
   "source": [
    "---\n",
    "🔔 **अगला अध्याय:** \"Error & Exception Handling – गलती संभालना\" जहाँ हम सीखेंगे कि Python errors को कैसे पकड़ा और handle किया जाता है।"
   ]
  },
  {
   "cell_type": "markdown",
   "metadata": {},
   "source": [
    "<div style='display: flex; justify-content: space-between;'>\n",
    "  <a href='../chapter-19/hi.ipynb' style='background-color: #1E90FF; color: white; padding: 8px 16px; border-radius: 6px; text-decoration: none;'>⬅️ Previous</a>\n",
    "  <a href='../chapter-21/hi.ipynb' style='background-color: #28a745; color: white; padding: 8px 16px; border-radius: 6px; text-decoration: none;'>Next ➡️</a>\n",
    "</div>"
   ]
  }
 ],
 "metadata": {
  "kernelspec": {
   "display_name": "Python 3",
   "language": "python",
   "name": "python3"
  },
  "language_info": {
   "name": "python",
   "version": "3.12.0"
  }
 },
 "nbformat": 4,
 "nbformat_minor": 2
}
