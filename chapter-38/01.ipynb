{
 "cells": [
  {
   "cell_type": "markdown",
   "metadata": {},
   "source": [
    "# 📘 पायथन सीखें – आसान भाषा में\n",
    "## अध्याय 37: Python और Database Integration – SQLite और SQLAlchemy"
   ]
  },
  {
   "cell_type": "markdown",
   "metadata": {},
   "source": [
    "### कहानी\n",
    "राम अपनी shop के sales और inventory data को organize करना चाहता था।\n",
    "श्याम ने कहा:\n",
    "> \"Python से SQLite database में data store कर लो। SQLAlchemy use करके data को आसानी से manage कर सकते हो।\"\n",
    "\n",
    "राम:\n",
    "> \"वाह! अब मेरी सारी records safe और organized database में रहेंगी।\""
   ]
  },
  {
   "cell_type": "markdown",
   "metadata": {},
   "source": [
    "### SQLite क्या है?\n",
    "- Lightweight, file-based database\n",
    "- Python में built-in module `sqlite3`\n",
    "- SQL commands का use करके tables और records manage कर सकते हैं\n",
    "- Ideal for small to medium projects और desktop apps"
   ]
  },
  {
   "cell_type": "markdown",
   "metadata": {},
   "source": [
    "### Example 1: SQLite – Create Table और Insert Record\n",
    "```python\n",
    "import sqlite3\n",
    "\n",
    "# Database connect करें (file-based)\n",
    "conn = sqlite3.connect('shop.db')\n",
    "cursor = conn.cursor()\n",
    "\n",
    "# Table create\n",
    "cursor.execute('''CREATE TABLE IF NOT EXISTS sales (\n",
    "                  id INTEGER PRIMARY KEY,\n",
    "                  product TEXT,\n",
    "                  quantity INTEGER,\n",
    "                  price REAL)''')\n",
    "\n",
    "# Insert record\n",
    "cursor.execute('INSERT INTO sales (product, quantity, price) VALUES (?, ?, ?)',\n",
    "               ('Wheat', 10, 500))\n",
    "\n",
    "conn.commit()\n",
    "conn.close()\n",
    "print('Record inserted successfully!')\n",
    "```"
   ]
  },
  {
   "cell_type": "markdown",
   "metadata": {},
   "source": [
    "### Example 2: SQLite – Read Records\n",
    "```python\n",
    "conn = sqlite3.connect('shop.db')\n",
    "cursor = conn.cursor()\n",
    "\n",
    "cursor.execute('SELECT * FROM sales')\n",
    "rows = cursor.fetchall()\n",
    "for row in rows:\n",
    "    print(row)\n",
    "\n",
    "conn.close()\n",
    "```"
   ]
  },
  {
   "cell_type": "markdown",
   "metadata": {},
   "source": [
    "### SQLAlchemy क्या है?\n",
    "- Python ORM (Object Relational Mapper)\n",
    "- Database operations को Python objects से आसान बनाता है\n",
    "- SQLite, MySQL, PostgreSQL आदि support करता है"
   ]
  },
  {
   "cell_type": "markdown",
   "metadata": {},
   "source": [
    "### Example 3: SQLAlchemy – Create Table और Insert Record\n",
    "```python\n",
    "from sqlalchemy import create_engine, Column, Integer, String, Float\n",
    "from sqlalchemy.ext.declarative import declarative_base\n",
    "from sqlalchemy.orm import sessionmaker\n",
    "\n",
    "engine = create_engine('sqlite:///shop.db', echo=True)\n",
    "Base = declarative_base()\n",
    "\n",
    "class Sale(Base):\n",
    "    __tablename__ = 'sales'\n",
    "    id = Column(Integer, primary_key=True)\n",
    "    product = Column(String)\n",
    "    quantity = Column(Integer)\n",
    "    price = Column(Float)\n",
    "\n",
    "Base.metadata.create_all(engine)\n",
    "\n",
    "Session = sessionmaker(bind=engine)\n",
    "session = Session()\n",
    "\n",
    "new_sale = Sale(product='Rice', quantity=5, price=300)\n",
    "session.add(new_sale)\n",
    "session.commit()\n",
    "session.close()\n",
    "print('Record added with SQLAlchemy!')\n",
    "```"
   ]
  },
  {
   "cell_type": "markdown",
   "metadata": {},
   "source": [
    "### Best Practices\n",
    "- Database connection को हमेशा close करें (`conn.close()`)\n",
    "- SQLAlchemy से Python objects के रूप में operations करना safe और easy है\n",
    "- Transactions में `commit()` करना जरूरी है\n",
    "- Large projects में ORM use करना recommended है"
   ]
  },
  {
   "cell_type": "markdown",
   "metadata": {},
   "source": [
    "### अभ्यास प्रश्न\n",
    "1. SQLite database में एक new table बनाइए और कुछ records insert कीजिए।\n",
    "2. Table के सभी records को read और print कीजिए।\n",
    "3. किसी record को update करने का script बनाइए।\n",
    "4. SQLAlchemy use करके same table create और insert operations करें।\n",
    "5. SQLAlchemy session से multiple records insert और query करें।"
   ]
  },
  {
   "cell_type": "markdown",
   "metadata": {},
   "source": [
    "### सीखने योग्य बातें\n",
    "- SQLite → lightweight DB, Python में built-in\n",
    "- SQLAlchemy → ORM, DB operations Python objects से\n",
    "- Commit, Close, Session management\n",
    "- Data safe और organized रखना सीखें"
   ]
  },
  {
   "cell_type": "markdown",
   "metadata": {},
   "source": [
    "---\n",
    "🔔 **अगला अध्याय:** \"Python और Data Analysis – Pandas और Matplotlib\""
   ]
  }
 ],
 "metadata": {
  "kernelspec": {
   "display_name": "Python 3",
   "language": "python",
   "name": "python3"
  },
  "language_info": {
   "name": "python",
   "version": "3.12.0"
  }
 },
 "nbformat": 4,
 "nbformat_minor": 2
}
