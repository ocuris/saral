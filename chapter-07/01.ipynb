{
 "cells": [
  {
   "cell_type": "markdown",
   "metadata": {},
   "source": [
    "# 📘 पायथन सीखें – आसान भाषा में\n",
    "## अध्याय 7: कहानी में से चुनना – Tuples & Sets"
   ]
  },
  {
   "cell_type": "markdown",
   "metadata": {},
   "source": [
    "### कहानी\n",
    "\n",
    "मोहन और रवि एक मेले में गए।\n",
    "- मोहन ने टिकट खरीदे: **प्रवेश टिकट** और **झूला टिकट**।\n",
    "- ये टिकट एक बार बन गए, अब उन्हें बदला नहीं जा सकता।\n",
    "\n",
    "रवि ने समझाया:\n",
    "> \"भाई, ये टिकट **Tuple** की तरह है। एक बार बन गया तो बदला नहीं जा सकता।\"\n",
    "\n",
    "फिर मेले में लड्डू बाँटे जा रहे थे। हर बच्चा जितनी बार चाहे लाइन में लगकर लड्डू ले सकता था। लेकिन आयोजक ने कहा:\n",
    "> \"हर बच्चे का नाम लिस्ट में बस एक बार लिखा जाएगा। चाहे वो 5 बार आए।\"\n",
    "\n",
    "रवि बोला:\n",
    "> \"ये है **Set**। इसमें हर नाम (value) सिर्फ़ एक बार रहेगा, चाहे कितनी बार डालो।\""
   ]
  },
  {
   "cell_type": "markdown",
   "metadata": {},
   "source": [
    "### Tuple क्या है?\n",
    "- Tuple = एक container जिसमें values होती हैं, लेकिन उन्हें **बदला नहीं जा सकता**।\n",
    "- List और Tuple में फ़र्क:\n",
    "\n",
    "| Feature | List | Tuple |\n",
    "|---------|------|-------|\n",
    "| Brackets | `[]` | `()` |\n",
    "| Changeable | हाँ | नहीं |\n",
    "| Use case | जब values बदलनी हों | जब values स्थायी हों |"
   ]
  },
  {
   "cell_type": "code",
   "execution_count": null,
   "metadata": {},
   "outputs": [
    {
     "name": "stdout",
     "output_type": "stream",
     "text": [
      "प्रवेश\n"
     ]
    },
    {
     "ename": "TypeError",
     "evalue": "'tuple' object does not support item assignment",
     "output_type": "error",
     "traceback": [
      "\u001b[31m---------------------------------------------------------------------------\u001b[39m",
      "\u001b[31mTypeError\u001b[39m                                 Traceback (most recent call last)",
      "\u001b[36mCell\u001b[39m\u001b[36m \u001b[39m\u001b[32mIn[2]\u001b[39m\u001b[32m, line 3\u001b[39m\n\u001b[32m      1\u001b[39m tickets = (\u001b[33m\"\u001b[39m\u001b[33mप्रवेश\u001b[39m\u001b[33m\"\u001b[39m, \u001b[33m\"\u001b[39m\u001b[33mझूला\u001b[39m\u001b[33m\"\u001b[39m)\n\u001b[32m      2\u001b[39m \u001b[38;5;28mprint\u001b[39m(tickets[\u001b[32m0\u001b[39m])\n\u001b[32m----> \u001b[39m\u001b[32m3\u001b[39m \u001b[43mtickets\u001b[49m\u001b[43m[\u001b[49m\u001b[32;43m0\u001b[39;49m\u001b[43m]\u001b[49m = \u001b[33m\"\u001b[39m\u001b[33mखाना\u001b[39m\u001b[33m\"\u001b[39m  \u001b[38;5;66;03m# ❌ Error आएगा क्योंकि Tuple बदल नहीं सकता\u001b[39;00m\n",
      "\u001b[31mTypeError\u001b[39m: 'tuple' object does not support item assignment"
     ]
    }
   ],
   "source": [
    "tickets = (\"प्रवेश\", \"झूला\")\n",
    "print(tickets[0])\n",
    "# tickets[0] = \"खाना\"  # ❌ Error आएगा क्योंकि Tuple बदल नहीं सकता"
   ]
  },
  {
   "cell_type": "markdown",
   "metadata": {},
   "source": [
    "### Set क्या है?\n",
    "- **Set** = values का collection, जिसमें **duplicate values अपने आप हट जाती हैं**।\n",
    "- Set `{}` (curly braces) से बनता है।\n",
    "- Unordered होता है (items का क्रम निश्चित नहीं)।"
   ]
  },
  {
   "cell_type": "code",
   "execution_count": null,
   "metadata": {},
   "outputs": [],
   "source": [
    "students = {\"मोहन\", \"सीमा\", \"रवि\", \"मोहन\"}\n",
    "print(students)"
   ]
  },
  {
   "cell_type": "markdown",
   "metadata": {},
   "source": [
    "आउटपुट:\n",
    "```\n",
    "{'मोहन', 'सीमा', 'रवि'}\n",
    "```\n",
    "👉 'मोहन' दो बार लिखा था, लेकिन Set में सिर्फ़ एक बार आया।"
   ]
  },
  {
   "cell_type": "markdown",
   "metadata": {},
   "source": [
    "### Set Operations\n",
    "- Set में गणित जैसी operations की जा सकती हैं।\n",
    "\n",
    "| Operation | Example | Result |\n",
    "|-----------|---------|--------|\n",
    "| Union (∪) | `{1,2} ∪ {2,3}` | `{1,2,3}` |\n",
    "| Intersection (∩) | `{1,2} ∩ {2,3}` | `{2}` |\n",
    "| Difference | `{1,2,3} - {2}` | `{1,3}` |"
   ]
  },
  {
   "cell_type": "code",
   "execution_count": null,
   "metadata": {},
   "outputs": [],
   "source": [
    "A = {1, 2, 3}\n",
    "B = {3, 4, 5}\n",
    "\n",
    "print(A | B)  # Union\n",
    "print(A & B)  # Intersection\n",
    "print(A - B)  # Difference"
   ]
  },
  {
   "cell_type": "markdown",
   "metadata": {},
   "source": [
    "### अभ्यास प्रश्न\n",
    "1. अपने पसंदीदा 5 फलों का एक **Tuple** बनाइए और पहला फल प्रिंट कीजिए।\n",
    "2. कोशिश कीजिए कि Tuple के किसी item को बदलें – क्या होता है?\n",
    "3. एक **Set** बनाइए जिसमें आपके 5 दोस्तों के नाम हों, और एक नाम दो बार लिखिए। आउटपुट में क्या आता है?\n",
    "4. दो Sets बनाइए:\n",
    "   ```python\n",
    "   A = {1,2,3,4}\n",
    "   B = {3,4,5,6}\n",
    "   ```\n",
    "   - Union निकालिए\n",
    "   - Intersection निकालिए\n",
    "   - Difference निकालिए\n",
    "5. नीचे दिए कोड का आउटपुट सोचकर बताइए:\n",
    "   ```python\n",
    "   nums = (10, 20, 30)\n",
    "   print(nums[1])\n",
    "   ```"
   ]
  },
  {
   "cell_type": "markdown",
   "metadata": {},
   "source": [
    "### सीखने योग्य बातें\n",
    "- **Tuple** = पक्के टिकट → बदल नहीं सकते।\n",
    "- **Set** = अनोखे नामों की लिस्ट → duplicate अपने आप हटते हैं।\n",
    "- Tuple ordered है (index से access कर सकते हैं)।\n",
    "- Set unordered है (index से access नहीं कर सकते)।\n",
    "- Set operations गणित जैसी होती हैं (Union, Intersection, Difference)।"
   ]
  },
  {
   "cell_type": "markdown",
   "metadata": {},
   "source": [
    "---\n",
    "🔔 **अगला अध्याय:** \"नाम से सामान ढूँढना – Dictionary\" जहाँ हम सीखेंगे कि values को नाम (keys) से कैसे ढूँढा और access किया जाता है।"
   ]
  }
 ],
 "metadata": {
  "kernelspec": {
   "display_name": "agents",
   "language": "python",
   "name": "python3"
  },
  "language_info": {
   "codemirror_mode": {
    "name": "ipython",
    "version": 3
   },
   "file_extension": ".py",
   "mimetype": "text/x-python",
   "name": "python",
   "nbconvert_exporter": "python",
   "pygments_lexer": "ipython3",
   "version": "3.12.11"
  }
 },
 "nbformat": 4,
 "nbformat_minor": 2
}
