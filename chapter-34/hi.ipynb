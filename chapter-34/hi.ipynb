{
 "cells": [
  {
   "cell_type": "markdown",
   "metadata": {},
   "source": [
    "# 📘 Python सीखें – आसान भाषा में\n",
    "## अध्याय 34: Python और Automation – Selenium और Task Automation"
   ]
  },
  {
   "cell_type": "markdown",
   "metadata": {},
   "source": [
    "### कहानी\n",
    "राम को रोज़ web portal में login करके report download करनी थी।\n",
    "श्याम ने कहा:\n",
    "> \"Python और Selenium से ये task automate कर सकते हो।\"\n",
    "\n",
    "राम:\n",
    "> \"अरे वाह! अब रोज़ manually करना नहीं पड़ेगा। Python खुद करेगा।\""
   ]
  },
  {
   "cell_type": "markdown",
   "metadata": {},
   "source": [
    "### Selenium क्या है?\n",
    "- Python library जो browser को control करती है\n",
    "- Web automation, testing, scraping, form filling में इस्तेमाल होती है\n",
    "- Browser drivers की जरूरत होती है (ChromeDriver, GeckoDriver)"
   ]
  },
  {
   "cell_type": "markdown",
   "metadata": {},
   "source": [
    "### Step 1: Install Selenium\n",
    "```bash\n",
    "pip install selenium\n",
    "```"
   ]
  },
  {
   "cell_type": "markdown",
   "metadata": {},
   "source": [
    "### Example 1: Open Browser और Website\n",
    "```python\n",
    "from selenium import webdriver\n",
    "\n",
    "# Chrome Driver path (update path as per your system)\n",
    "driver = webdriver.Chrome(executable_path='chromedriver.exe')\n",
    "driver.get('https://www.example.com')\n",
    "\n",
    "print(driver.title)\n",
    "driver.quit()\n",
    "```"
   ]
  },
  {
   "cell_type": "markdown",
   "metadata": {},
   "source": [
    "### Example 2: Find Element और Click\n",
    "```python\n",
    "from selenium.webdriver.common.by import By\n",
    "\n",
    "driver = webdriver.Chrome('chromedriver.exe')\n",
    "driver.get('https://www.example.com')\n",
    "\n",
    "# Search box example\n",
    "search_box = driver.find_element(By.NAME, 'q')\n",
    "search_box.send_keys('Python')\n",
    "search_box.submit()\n",
    "\n",
    "driver.quit()\n",
    "```"
   ]
  },
  {
   "cell_type": "markdown",
   "metadata": {},
   "source": [
    "### Example 3: Fill Form\n",
    "```python\n",
    "driver = webdriver.Chrome('chromedriver.exe')\n",
    "driver.get('https://www.example.com/form')\n",
    "\n",
    "name_input = driver.find_element(By.ID, 'name')\n",
    "name_input.send_keys('Rohan')\n",
    "\n",
    "submit_btn = driver.find_element(By.ID, 'submit')\n",
    "submit_btn.click()\n",
    "\n",
    "driver.quit()\n",
    "```"
   ]
  },
  {
   "cell_type": "markdown",
   "metadata": {},
   "source": [
    "### Example 4: Screenshot\n",
    "```python\n",
    "driver = webdriver.Chrome('chromedriver.exe')\n",
    "driver.get('https://www.example.com')\n",
    "driver.save_screenshot('homepage.png')\n",
    "driver.quit()\n",
    "```"
   ]
  },
  {
   "cell_type": "markdown",
   "metadata": {},
   "source": [
    "### Best Practices\n",
    "- Always `driver.quit()` after task\n",
    "- Use explicit waits (`WebDriverWait`) for dynamic pages\n",
    "- Avoid sending too many requests in short time\n",
    "- Keep driver updated for latest browser version"
   ]
  },
  {
   "cell_type": "markdown",
   "metadata": {},
   "source": [
    "### अभ्यास प्रश्न\n",
    "1. किसी website open करके title print कीजिए।\n",
    "2. किसी search box में text डालकर search submit कीजिए।\n",
    "3. किसी login form को fill करके submit करने का example बनाइए।\n",
    "4. किसी webpage का screenshot save कीजिए।\n",
    "5. Selenium से multiple pages visit करके data collect करने का mini script लिखिए।"
   ]
  },
  {
   "cell_type": "markdown",
   "metadata": {},
   "source": [
    "### सीखने योग्य बातें\n",
    "- Selenium → browser automation\n",
    "- `webdriver.Chrome()` → browser control\n",
    "- `find_element` / `find_elements` → interact with page elements\n",
    "- Automation → repetitive tasks आसानी से handle होती हैं\n",
    "- Best practices → quit(), waits, updated driver"
   ]
  },
  {
   "cell_type": "markdown",
   "metadata": {},
   "source": [
    "---\n",
    "🔔 **अगला अध्याय:** \"Python और GUI – Tkinter से Desktop Apps\""
   ]
  }
 ],
 "metadata": {
  "kernelspec": {
   "display_name": "Python 3",
   "language": "python",
   "name": "python3"
  },
  "language_info": {
   "name": "python",
   "version": "3.12.0"
  }
 },
 "nbformat": 4,
 "nbformat_minor": 2
}
