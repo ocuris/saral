{
 "cells": [
  {
   "cell_type": "markdown",
   "metadata": {},
   "source": [
    "# 📘 Python सीखें – आसान भाषा में\n",
    "## अध्याय 28: Exception Handling – गलतियों से निपटना"
   ]
  },
  {
   "cell_type": "markdown",
   "metadata": {},
   "source": [
    "### कहानी\n",
    "राम ने calculator बनाया और 10 ÷ 0 करने की कोशिश की।\n",
    "👉 Program तुरंत crash हो गया।\n",
    "\n",
    "श्याम बोला:\n",
    "> \"अगर गलती हो तो program को politely handle करना चाहिए।\"\n",
    "\n",
    "राम:\n",
    "> \"सही कहा! अब मैं Exception Handling सीखूँगा।\""
   ]
  },
  {
   "cell_type": "markdown",
   "metadata": {},
   "source": [
    "### Exception क्या है?\n",
    "- Exception = Error जो program के चलते समय आती है।\n",
    "- Example:\n",
    "  - ZeroDivisionError → 10 ÷ 0\n",
    "  - FileNotFoundError → missing file खोलना\n",
    "  - ValueError → गलत input देना\n",
    "  - TypeError → string + int जोड़ना"
   ]
  },
  {
   "cell_type": "markdown",
   "metadata": {},
   "source": [
    "### Exception Handling Syntax\n",
    "```python\n",
    "try:\n",
    "    # वो code जिसमें गलती हो सकती है\n",
    "except ErrorType:\n",
    "    # गलती आने पर यहाँ code चलेगा\n",
    "else:\n",
    "    # अगर गलती नहीं हुई तो यहाँ code चलेगा\n",
    "finally:\n",
    "    # हर हाल में चलेगा (cleanup code)\n",
    "```"
   ]
  },
  {
   "cell_type": "markdown",
   "metadata": {},
   "source": [
    "### Example 1: Simple Exception Handling\n",
    "```python\n",
    "try:\n",
    "    a = int(input(\"Enter number: \"))\n",
    "    b = int(input(\"Enter another number: \"))\n",
    "    print(a / b)\n",
    "except ZeroDivisionError:\n",
    "    print(\"Error: Zero से divide नहीं कर सकते!\")\n",
    "```"
   ]
  },
  {
   "cell_type": "markdown",
   "metadata": {},
   "source": [
    "### Example 2: Multiple Except\n",
    "```python\n",
    "try:\n",
    "    x = int(\"abc\")  # गलत conversion\n",
    "except ValueError:\n",
    "    print(\"Value error आया\")\n",
    "except TypeError:\n",
    "    print(\"Type error आया\")\n",
    "```"
   ]
  },
  {
   "cell_type": "markdown",
   "metadata": {},
   "source": [
    "### Example 3: Else और Finally\n",
    "```python\n",
    "try:\n",
    "    f = open(\"data.txt\", \"r\")\n",
    "except FileNotFoundError:\n",
    "    print(\"File नहीं मिली!\")\n",
    "else:\n",
    "    print(\"File खुल गई:\", f.read())\n",
    "    f.close()\n",
    "finally:\n",
    "    print(\"Program समाप्त हुआ।\")\n",
    "```"
   ]
  },
  {
   "cell_type": "markdown",
   "metadata": {},
   "source": [
    "### Example 4: Custom Exception\n",
    "```python\n",
    "class TooYoungError(Exception):\n",
    "    pass\n",
    "\n",
    "age = 15\n",
    "try:\n",
    "    if age < 18:\n",
    "        raise TooYoungError(\"उम्र कम है, अनुमति नहीं!\")\n",
    "except TooYoungError as e:\n",
    "    print(\"Custom Exception:\", e)\n",
    "```"
   ]
  },
  {
   "cell_type": "markdown",
   "metadata": {},
   "source": [
    "### अभ्यास प्रश्न\n",
    "1. एक program लिखिए जिसमें user से दो numbers ले और division करे। ZeroDivisionError handle कीजिए।\n",
    "2. File open करने का program लिखिए और FileNotFoundError handle कीजिए।\n",
    "3. एक custom exception बनाइए `NegativeNumberError` जो negative input पर error दे।\n",
    "4. Multiple exceptions handle करने का program लिखिए (ValueError, TypeError)।\n",
    "5. `try-except-else-finally` का ऐसा example लिखिए जिसमें finally block हर बार execute हो।"
   ]
  },
  {
   "cell_type": "markdown",
   "metadata": {},
   "source": [
    "### सीखने योग्य बातें\n",
    "- Exception → runtime error\n",
    "- Handling → `try-except`\n",
    "- Extra blocks → `else`, `finally`\n",
    "- Custom exception भी बना सकते हैं\n",
    "- Exception handling program को robust और user-friendly बनाता है"
   ]
  },
  {
   "cell_type": "markdown",
   "metadata": {},
   "source": [
    "---\n",
    "🔔 **अगला अध्याय:** \"Modules और Packages – Code को व्यवस्थित करना\""
   ]
  }
 ],
 "metadata": {
  "kernelspec": {
   "display_name": "Python 3",
   "language": "python",
   "name": "python3"
  },
  "language_info": {
   "name": "python",
   "version": "3.12.0"
  }
 },
 "nbformat": 4,
 "nbformat_minor": 2
}
