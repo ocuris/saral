{
 "cells": [
  {
   "cell_type": "markdown",
   "metadata": {},
   "source": [
    "# 📘 पायथन सीखें – आसान भाषा में\n",
    "## अध्याय 13: Functions – अपना खुद का जादूगर"
   ]
  },
  {
   "cell_type": "markdown",
   "metadata": {},
   "source": [
    "### कहानी\n",
    "\n",
    "सीमा हर बार चाय बनाने में वही 5 steps दोहराती:\n",
    "1. पानी गरम करना\n",
    "2. चायपत्ती डालना\n",
    "3. दूध डालना\n",
    "4. चीनी डालना\n",
    "5. कप में डालना\n",
    "\n",
    "मोहन बोला:\n",
    "> \"इतना बार-बार वही काम क्यों? इसे एक जगह लिखो और बार-बार use करो।\"\n",
    "\n",
    "सीमा हँसते हुए बोली:\n",
    "> \"यानी मुझे एक **Function** बनाना चाहिए!\" 🎩✨"
   ]
  },
  {
   "cell_type": "markdown",
   "metadata": {},
   "source": [
    "### Function क्या है?\n",
    "- Function = code का reusable block ✅\n",
    "- एक बार define करो → बार-बार use करो\n",
    "\n",
    "| Concept | Example |\n",
    "|---------|---------|\n",
    "| Function बनाना | `def greet(): ...` |\n",
    "| Function बुलाना | `greet()` |"
   ]
  },
  {
   "cell_type": "code",
   "execution_count": null,
   "metadata": {},
   "outputs": [],
   "source": [
    "# Function बनाना\n",
    "def greet():\n",
    "    print(\"Hello, Python सीखने वाले!\")\n",
    "\n",
    "# Function बुलाना\n",
    "greet()"
   ]
  },
  {
   "cell_type": "markdown",
   "metadata": {},
   "source": [
    "### Function with Parameters\n",
    "- Parameters = input values\n",
    "- Function को flexible बनाते हैं"
   ]
  },
  {
   "cell_type": "code",
   "execution_count": null,
   "metadata": {},
   "outputs": [],
   "source": [
    "def greet(name):\n",
    "    print(\"Hello\", name)\n",
    "\n",
    "greet(\"Ravi\")\n",
    "greet(\"Seema\")"
   ]
  },
  {
   "cell_type": "markdown",
   "metadata": {},
   "source": [
    "### Function with Return Value\n",
    "- Function result वापस दे सकता है\n",
    "- `return` keyword use करते हैं"
   ]
  },
  {
   "cell_type": "code",
   "execution_count": null,
   "metadata": {},
   "outputs": [],
   "source": [
    "def square(n):\n",
    "    return n*n\n",
    "\n",
    "result = square(5)\n",
    "print(\"Square:\", result)"
   ]
  },
  {
   "cell_type": "markdown",
   "metadata": {},
   "source": [
    "### Default Parameters\n",
    "- Parameter की default value set कर सकते हैं\n",
    "- अगर user value न दे तो default use होगी"
   ]
  },
  {
   "cell_type": "code",
   "execution_count": null,
   "metadata": {},
   "outputs": [],
   "source": [
    "def greet(name=\"Python Learner\"):\n",
    "    print(\"Hello\", name)\n",
    "\n",
    "greet()\n",
    "greet(\"Rohan\")"
   ]
  },
  {
   "cell_type": "markdown",
   "metadata": {},
   "source": [
    "### Multiple Parameters\n",
    "- Function में कई inputs ले सकते हैं\n",
    "- Example: जोड़ने वाला function"
   ]
  },
  {
   "cell_type": "code",
   "execution_count": null,
   "metadata": {},
   "outputs": [],
   "source": [
    "def add(a, b):\n",
    "    return a + b\n",
    "\n",
    "print(add(5, 3))\n",
    "print(add(10, 20))"
   ]
  },
  {
   "cell_type": "markdown",
   "metadata": {},
   "source": [
    "### अभ्यास प्रश्न\n",
    "1. एक function `hello()` बनाइए जो \"Hello World\" प्रिंट करे।\n",
    "2. एक function `square(n)` बनाइए जो किसी संख्या का square लौटाए।\n",
    "3. एक function `is_even(n)` लिखिए जो बताए संख्या even है या odd।\n",
    "4. एक function `greet(name, age)` लिखिए जो print करे: \"Hello Rohan, you are 25 years old\".\n",
    "5. नीचे दिए code का आउटपुट बताइए:\n",
    "   ```python\n",
    "   def mystery(x, y=2):\n",
    "       return x ** y\n",
    "\n",
    "   print(mystery(3))\n",
    "   print(mystery(3,3))\n",
    "   ```"
   ]
  },
  {
   "cell_type": "markdown",
   "metadata": {},
   "source": [
    "### सीखने योग्य बातें\n",
    "- Function = reusable code block\n",
    "- Parameters = inputs, return = output\n",
    "- Default values possible\n",
    "- Functions से code छोटा और साफ़ होता है"
   ]
  },
  {
   "cell_type": "markdown",
   "metadata": {},
   "source": [
    "---\n",
    "🔔 **अगला अध्याय:** \"Lambda Functions – छोटे जादूगर\" जहाँ हम एक-line वाले छोटे functions सीखेंगे।"
   ]
  }
 ],
 "metadata": {
  "kernelspec": {
   "display_name": "Python 3",
   "language": "python",
   "name": "python3"
  },
  "language_info": {
   "name": "python",
   "version": "3.12.0"
  }
 },
 "nbformat": 4,
 "nbformat_minor": 2
}
