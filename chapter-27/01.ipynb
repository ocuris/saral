{
 "cells": [
  {
   "cell_type": "markdown",
   "metadata": {},
   "source": [
    "# 📘 पायथन सीखें – आसान भाषा में\n",
    "## अध्याय 27: File Handling – फाइलों से बातें करना"
   ]
  },
  {
   "cell_type": "markdown",
   "metadata": {},
   "source": [
    "### कहानी\n",
    "राम ने अपनी डायरी खोली और लिखा:\n",
    "> \"आज मैंने Python में File Handling सीखा।\"\n",
    "\n",
    "श्याम बोला:\n",
    "> \"मतलब अब तुम अपने data को फाइल में लिख और पढ़ सकते हो?\"\n",
    "\n",
    "राम हँसते हुए बोला:\n",
    "> \"हाँ! फाइल से बातें करने की कला अब सीख ली है।\""
   ]
  },
  {
   "cell_type": "markdown",
   "metadata": {},
   "source": [
    "### File Handling क्या है?\n",
    "- Program को external storage (file) से जोड़ना।\n",
    "- Data को file में **store**, **read**, **update**, और **delete** करना।\n",
    "- File दो तरह की होती हैं:\n",
    "  1. **Text Files** → `.txt`, `.csv`\n",
    "  2. **Binary Files** → `.jpg`, `.mp3`, `.exe`"
   ]
  },
  {
   "cell_type": "markdown",
   "metadata": {},
   "source": [
    "### File Modes\n",
    "| Mode | Description |\n",
    "|------|-------------|\n",
    "| `r` | Read (default) |\n",
    "| `w` | Write (पुरानी file मिटाकर नई लिखता है) |\n",
    "| `a` | Append (file के end में लिखता है) |\n",
    "| `x` | Create (नई file बनाएगा, अगर पहले से है तो error) |\n",
    "| `rb` | Read Binary |\n",
    "| `wb` | Write Binary |"
   ]
  },
  {
   "cell_type": "markdown",
   "metadata": {},
   "source": [
    "### Example 1: Write और Read करना\n",
    "```python\n",
    "# Write करना\n",
    "f = open(\"data.txt\", \"w\")\n",
    "f.write(\"Hello Python!\\nयह मेरी पहली फाइल है।\")\n",
    "f.close()\n",
    "\n",
    "# Read करना\n",
    "f = open(\"data.txt\", \"r\")\n",
    "content = f.read()\n",
    "print(content)\n",
    "f.close()\n",
    "```"
   ]
  },
  {
   "cell_type": "markdown",
   "metadata": {},
   "source": [
    "### Example 2: Append Mode\n",
    "```python\n",
    "f = open(\"data.txt\", \"a\")\n",
    "f.write(\"\\nयह नई line append हो गई।\")\n",
    "f.close()\n",
    "```"
   ]
  },
  {
   "cell_type": "markdown",
   "metadata": {},
   "source": [
    "### Example 3: `with` Statement (Best Practice)\n",
    "```python\n",
    "with open(\"data.txt\", \"r\") as f:\n",
    "    for line in f:\n",
    "        print(line.strip())\n",
    "```\n",
    "👉 `with` इस्तेमाल करने से file automatically close हो जाती है।"
   ]
  },
  {
   "cell_type": "markdown",
   "metadata": {},
   "source": [
    "### Example 4: Binary File\n",
    "```python\n",
    "with open(\"image.jpg\", \"rb\") as f:\n",
    "    data = f.read(20)  # पहले 20 bytes पढ़े\n",
    "    print(data)\n",
    "```"
   ]
  },
  {
   "cell_type": "markdown",
   "metadata": {},
   "source": [
    "### अभ्यास प्रश्न\n",
    "1. एक text file बनाइए और उसमें अपना नाम, उम्र और शहर लिखिए।\n",
    "2. उसी file को read करके उसकी पूरी content print कीजिए।\n",
    "3. एक program लिखिए जो किसी file में 5 lines user से input लेकर save करे।\n",
    "4. एक program लिखिए जो किसी file की lines count करके बताए कि उसमें कितनी lines हैं।\n",
    "5. Binary file पढ़ने और लिखने का demo बनाइए (जैसे image को copy करना)।"
   ]
  },
  {
   "cell_type": "markdown",
   "metadata": {},
   "source": [
    "### सीखने योग्य बातें\n",
    "- File modes → `r`, `w`, `a`, `x`, `rb`, `wb`।\n",
    "- File read/write करने के बाद हमेशा `close()` करना ज़रूरी है।\n",
    "- Best practice → `with open()` का इस्तेमाल करना।\n",
    "- Text files characters store करती हैं, binary files raw bytes।"
   ]
  },
  {
   "cell_type": "markdown",
   "metadata": {},
   "source": [
    "---\n",
    "🔔 **अगला अध्याय:** \"Exception Handling – गलतियों से निपटना\" जहाँ हम program crash होने से बचाएँगे।"
   ]
  }
 ],
 "metadata": {
  "kernelspec": {
   "display_name": "Python 3",
   "language": "python",
   "name": "python3"
  },
  "language_info": {
   "name": "python",
   "version": "3.12.0"
  }
 },
 "nbformat": 4,
 "nbformat_minor": 2
}
