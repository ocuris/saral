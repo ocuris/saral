{
 "cells": [
  {
   "cell_type": "markdown",
   "metadata": {},
   "source": [
    "# **My First Coding Book** \n",
    "### In Simple Language for Kids\n",
    "\n",
    "**Target Age:** 10-12 years  \n",
    "**Requirement:** Basic knowledge of computer/mobile"
   ]
  },
  {
   "cell_type": "markdown",
   "metadata": {},
   "source": [
    "## **Table of Contents**\n",
    "1.  [Chapter 1: What is Coding?](#chapter-1-what-is-coding)\n",
    "2.  [Chapter 2: Where is Coding Used?](#chapter-2-where-is-coding-used)\n",
    "3.  [Chapter 3: Tools to Learn Coding](#chapter-3-tools-to-learn-coding)\n",
    "4.  [Chapter 4: First Program (in Python)](#chapter-4-first-program-in-python)\n",
    "5.  [Chapter 5: Math and Coding](#chapter-5-math-and-coding)\n",
    "6.  [Chapter 6: Make a Simple Game](#chapter-6-make-a-simple-game)\n",
    "7.  [Chapter 7: First Introduction to Artificial Intelligence (AI)](#chapter-7-first-introduction-to-artificial-intelligence-ai)\n",
    "8.  [Chapter 8: Coding for Village Development](#chapter-8-coding-for-village-development)\n",
    "9.  [Chapter 9: You Can Become a Coding Master](#chapter-9-you-can-become-a-coding-master)\n",
    "10. [Project: Build Your Own Calculator](#project-build-your-own-calculator)"
   ]
  },
  {
   "cell_type": "markdown",
   "metadata": {},
   "source": [
    "## **Chapter 1: What is Coding?**\n",
    "\n",
    "Hello kids!\n",
    "\n",
    "Today we will learn what coding really is. It may sound new or difficult, but it’s not! It’s just like the tasks you do daily.\n",
    "\n",
    "### **How do we talk to each other?**\n",
    "\n",
    "Think about when you talk to your friends or parents, like:\n",
    "\n",
    "👉 “Mom, please bring me a glass of water.”  \n",
    "👉 “Dad, please turn the page of my book.”  \n",
    "👉 “Let’s go play outside.”\n",
    "\n",
    "You use a language like Hindi or English. The other person understands and follows your **instructions**.\n",
    "\n",
    "### **How do we talk to computers?**\n",
    "\n",
    "Now think about the machines around you—computers, laptops, tablets, mobile phones, and more! You cannot just speak to them in Hindi or English.\n",
    "\n",
    "For example, if you say: “Hey phone, open a game for me!” — will it do it? No! Because it doesn’t understand.\n",
    "\n",
    "**So how do these machines work?** We also give them instructions, but in **their special language**. That special language is called **Code**.\n",
    "\n",
    "### **Meaning of Coding**\n",
    "\n",
    "**Coding means writing instructions for the computer.**\n",
    "\n",
    "Just like you give instructions to your friend in Hindi, a programmer writes instructions in the computer’s language. This process is called **Coding**.\n",
    "\n",
    "**In simple words:**  \n",
    "> **Coding = Learning and writing the language to talk to computers.**\n",
    "\n",
    "### **A Small Example**\n",
    "\n",
    "Imagine you build a small robot and want it to walk 10 steps forward and then turn.\n",
    "\n",
    "Your instructions will look like:\n",
    "1.  **Walk forward** (10 steps)\n",
    "2.  **Turn right**\n",
    "3.  **Stop**\n",
    "\n",
    "This is a small **code**! If your robot understands it, it will follow it exactly.\n",
    "\n",
    "That’s how coding works with computers too — whether it’s making a game, a cartoon, a website, or a calculator.\n",
    "\n",
    "### **Conclusion**\n",
    "\n",
    "So kids, coding is not scary. It is about **logical thinking** and **giving instructions**. It’s like a new **superpower** — with it you can make machines do anything, from building a small game to launching a rocket to the moon!"
   ]
  },
  {
   "cell_type": "markdown",
   "metadata": {},
   "source": [
    "## **Chapter 2: Where is Coding Used?**\n",
    "\n",
    "Coding is not just for computers. It’s everywhere around us! Let’s see some examples:\n",
    "\n",
    "*   **📱 Mobile Games (Ludo, Free Fire)** – built with coding.\n",
    "*   **🏧 Withdrawing money from ATM** – works because of coding.\n",
    "*   **▶️ Watching YouTube videos** – runs on coding.\n",
    "*   **🚜 Farm irrigation machines (automation)** – can run with coding.\n",
    "*   **📺 TV remote control** – works through coding.\n",
    "\n",
    "Whenever you use any electronic device, remember: coding is behind it!"
   ]
  },
  {
   "cell_type": "markdown",
   "metadata": {},
   "source": [
    "## **Chapter 3: Tools to Learn Coding**\n",
    "\n",
    "What do you need to learn coding? Not much!\n",
    "\n",
    "1.  **Mobile phone or computer:** That’s enough to begin with.\n",
    "2.  **Scratch:** A fun app/website where you drag and drop blocks to make games and cartoons. It feels like playing! The good part is — it also works offline.\n",
    "3.  **Python:** Once you practice with Scratch, we’ll move to Python. It’s an easy and powerful language, just like Hindi or English. Today we’ll start writing in it!"
   ]
  },
  {
   "cell_type": "markdown",
   "metadata": {},
   "source": [
    "## **Chapter 4: First Program (in Python)**\n",
    "\n",
    "Let’s write our first Python program. We’ll ask the computer to print “Hello World”.\n",
    "\n",
    "Below is the code. Press **Run** (▶️) and see what happens!"
   ]
  },
  {
   "cell_type": "code",
   "execution_count": null,
   "metadata": {},
   "outputs": [],
   "source": [
    "# This is our first program\n",
    "print(\"Hello World!\")"
   ]
  },
  {
   "cell_type": "markdown",
   "metadata": {},
   "source": [
    "**What happened?**  \n",
    "*   `print()` is a command, like saying “show” or “write”.  \n",
    "*   Whatever we write inside the double quotes `\"\"` will be displayed on the screen.\n",
    "\n",
    "**Now you try!** Write your name below and press **Run**."
   ]
  },
  {
   "cell_type": "code",
   "execution_count": null,
   "metadata": {},
   "outputs": [],
   "source": [
    "# Print your name\n",
    "print(\"My name is: \")"
   ]
  },
  {
   "cell_type": "markdown",
   "metadata": {},
   "source": [
    "## **Chapter 5: Math and Coding**\n",
    "\n",
    "Computers are great at solving math problems. Let’s try addition and multiplication."
   ]
  },
  {
   "cell_type": "code",
   "execution_count": null,
   "metadata": {},
   "outputs": [],
   "source": [
    "# Addition problem\n",
    "a = 5\n",
    "b = 7\n",
    "answer = a + b\n",
    "print(\"The answer of addition is:\", answer)"
   ]
  },
  {
   "cell_type": "code",
   "execution_count": null,
   "metadata": {},
   "outputs": [],
   "source": [
    "# Multiplication problem\n",
    "apples = 8\n",
    "price_per_apple = 15\n",
    "total_price = apples * price_per_apple\n",
    "print(\"Total price is:\", total_price, \"rupees\")"
   ]
  },
  {
   "cell_type": "markdown",
   "metadata": {},
   "source": [
    "**Note:**  \n",
    "*   We used names in English (like `a`, `answer`, `apples`). These are called **Variables**. They are like boxes where we can store numbers or words.  \n",
    "*   `*` means multiplication."
   ]
  },
  {
   "cell_type": "markdown",
   "metadata": {},
   "source": [
    "## **Chapter 6: Make a Simple Game**\n",
    "\n",
    "Let’s build a small game: **Guess the Number**. The computer will think of a number, and you have to guess it.\n",
    "\n",
    "Run the code and enter your guess in the box above."
   ]
  },
  {
   "cell_type": "code",
   "execution_count": null,
   "metadata": {},
   "outputs": [],
   "source": [
    "# Guess the number game\n",
    "number = 7 # Computer thinks of this number\n",
    "\n",
    "print(\"Let’s play a game!\")\n",
    "print(\"I have thought of a number between 1 and 10. What’s your guess?\")\n",
    "\n",
    "# input() takes input from the user\n",
    "guess = int(input(\"Enter your guess here: \"))\n",
    "\n",
    "if guess == number:\n",
    "    print(\"Wow! Correct answer! You win! 🎉\")\n",
    "else:\n",
    "    print(\"Oops! Wrong guess. Try again! The correct number was:\", number)"
   ]
  },
  {
   "cell_type": "markdown",
   "metadata": {},
   "source": [
    "## **Chapter 7: First Introduction to Artificial Intelligence (AI)**\n",
    "\n",
    "AI means **Artificial Intelligence** — the brain of a computer. Just like you can tell the difference between a cat and a dog, AI can also be trained to do so.\n",
    "\n",
    "Here’s a very simple example. This is not a real AI, but it will show you how AI “thinks”."
   ]
  },
  {
   "cell_type": "code",
   "execution_count": 2,
   "metadata": {},
   "outputs": [
    {
     "name": "stdout",
     "output_type": "stream",
     "text": [
      "I am a small AI bot. I recognize animal sounds.\n",
      "AI says: Dog barks 'Woof-Woof'!\n"
     ]
    }
   ],
   "source": [
    "# A simple rule-based \"AI\"\n",
    "print(\"I am a small AI bot. I recognize animal sounds.\")\n",
    "\n",
    "animal = input(\"Name an animal (cow, dog, cat): \")\n",
    "\n",
    "if animal == \"cow\":\n",
    "    print(\"AI says: Cow goes 'Moo-Moo'!\")\n",
    "elif animal == \"dog\":\n",
    "    print(\"AI says: Dog goes 'Woof-Woof'!\")\n",
    "elif animal == \"cat\":\n",
    "    print(\"AI says: Cat goes 'Meow-Meow'!\")\n",
    "else:\n",
    "    print(\"AI says: I still need to learn this!\")"
   ]
  },
  {
   "cell_type": "markdown",
   "metadata": {},
   "source": [
    "**Real AI** is much more powerful and learns by looking at thousands of images. You can try building your own AI model on [Google’s Teachable Machine](https://teachablemachine.withgoogle.com/)."
   ]
  },
  {
   "cell_type": "markdown",
   "metadata": {},
   "source": [
    "## **Chapter 8: Coding for Village Development**\n",
    "\n",
    "Coding is not just for games. You can use it to help your village too:\n",
    "\n",
    "1.  **🧑‍🌾 Measure soil moisture in farms:** Using small computers like Arduino + coding, we can check when to water the fields, saving water.\n",
    "2.  **🐄 Record cow/buffalo milk:** A simple app can record daily milk production, helping farmers track it.\n",
    "3.  **📚 Build learning apps for kids:** An app with math problems, stories, and lessons that works even offline.\n",
    "\n",
    "Your creativity is the only limit!"
   ]
  },
  {
   "cell_type": "markdown",
   "metadata": {},
   "source": [
    "## **Chapter 9: You Can Become a Coding Master**\n",
    "\n",
    "Remember, coding is a superpower — anyone can learn it!\n",
    "\n",
    "*   **Practice 15 minutes daily:** A little but regular practice works best.\n",
    "*   **Teach your friends:** Share what you learn with others — it will make you smarter.\n",
    "*   **Learn like a game, don’t be afraid:** Don’t fear mistakes. Computers won’t break. You learn best by making mistakes!\n",
    "\n",
    "**Your journey has just begun. Keep going!**"
   ]
  },
  {
   "cell_type": "markdown",
   "metadata": {},
   "source": [
    "## **Project: Build Your Own Calculator**\n",
    "\n",
    "Now let’s use everything we learned and make a calculator. Complete the code below."
   ]
  },
  {
   "cell_type": "code",
   "execution_count": 3,
   "metadata": {},
   "outputs": [
    {
     "name": "stdout",
     "output_type": "stream",
     "text": [
      "My First Calculator\n",
      "==================\n",
      "\n",
      "What do you want to do?\n",
      "1. Addition (+)\n",
      "2. Subtraction (-)\n",
      "3. Multiplication (*)\n",
      "4. Division (/)\n",
      "Answer: 2\n"
     ]
    }
   ],
   "source": [
    "print(\"My First Calculator\")\n",
    "print(\"==================\")\n",
    "\n",
    "num1 = int(input(\"Enter first number: \"))\n",
    "num2 = int(input(\"Enter second number: \"))\n",
    "\n",
    "print(\"\\nWhat do you want to do?\")\n",
    "print(\"1. Addition (+)\")\n",
    "print(\"2. Subtraction (-)\")\n",
    "print(\"3. Multiplication (*)\")\n",
    "print(\"4. Division (/)\")\n",
    "\n",
    "operation = input(\"Choose your operation (1, 2, 3, or 4): \")\n",
    "\n",
    "if operation == '1':\n",
    "    answer = num1 + num2\n",
    "    print(\"Answer:\", answer)\n",
    "elif operation == '2':\n",
    "    answer = num1 - num2\n",
    "    print(\"Answer:\", answer)\n",
    "elif operation == '3':\n",
    "    answer = num1 * num2\n",
    "    print(\"Answer:\", answer)\n",
    "elif operation == '4':\n",
    "    if num2 != 0: # check if divisor is not 0\n",
    "        answer = num1 / num2\n",
    "        print(\"Answer:\", answer)\n",
    "    else:\n",
    "        print(\"Error! Cannot divide by 0.\")\n",
    "else:\n",
    "    print(\"Invalid operation selected.\")"
   ]
  },
  {
   "cell_type": "code",
   "execution_count": 1,
   "metadata": {},
   "outputs": [
    {
     "name": "stdout",
     "output_type": "stream",
     "text": [
      "EXERCISE\n"
     ]
    }
   ],
   "source": [
    "# EXERCISE\n",
    "print(\"EXERCISE\")"
   ]
  },
  {
   "cell_type": "markdown",
   "metadata": {},
   "source": [
    "---\n",
    "\n",
    "### This is just the beginning!**\n",
    "\n",
    "I designed this notebook so that it is:\n",
    "*   **Interactive:** Kids can write and run code, and see results instantly.\n",
    "*   **Practical:** Clean code with good practices so they learn the right way.\n",
    "*   **Accessible:** Simple, fun language with relatable examples.\n",
    "*   **Expandable:** You can add more chapters, pictures, projects, and exercises."
   ]
  }
 ],
 "metadata": {
  "kernelspec": {
   "display_name": "agents",
   "language": "python",
   "name": "python3"
  },
  "language_info": {
   "codemirror_mode": {
    "name": "ipython",
    "version": 3
   },
   "file_extension": ".py",
   "mimetype": "text/x-python",
   "name": "python",
   "nbconvert_exporter": "python",
   "pygments_lexer": "ipython3",
   "version": "3.12.11"
  }
 },
 "nbformat": 4,
 "nbformat_minor": 4
}
