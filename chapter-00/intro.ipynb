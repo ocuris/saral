{
  "cells": [
    {
      "cell_type": "markdown",
      "id": "705bcea8",
      "metadata": {},
      "source": [
        "<div style=\"display:flex; align-items:flex-start; width:100%; border:2px solid #ff7800; border-radius:10px; padding:12px; background:#fff8f0;\">\n",
        "  <div style=\"flex:0 0 120px; text-align:center;\">\n",
        "    <img src=\"../assets/stop.png\" width=\"90\" height=\"90\" style=\"display:block; margin:auto;\" />\n",
        "  </div>\n",
        "  <div style=\"flex:1; padding-left:15px;\">\n",
        "    <h3 style=\"color:#ff7800; margin:0 0 8px 0;\">सीखने का आसान तरीका 📚</h3>\n",
        "    <ul style=\"color:#ff7800; font-size:14px; margin:0; padding-left:18px;\">\n",
        "      <li>हर example को खुद try करो और समझो कि क्या हो रहा है।</li>\n",
        "      <li>अगर कुछ समझ में नहीं आए, तो दोबारा पढ़ो या छोटा experiment करके देखो।</li>\n",
        "      <li>जो भी नया सीखो, उसे नोट्स में लिखो ताकि बाद में याद रहे।</li>\n",
        "      <li>जैसे-जैसे आगे बढ़ो, छोटे challenges try करो और मज़ा लो।</li>\n",
        "      <li>और tips और नए examples जल्द ही आएंगे! 🚀</li>\n",
        "    </ul>\n",
        "    <div style=\"margin-top:10px;\">\n",
        "      <button style=\"background:#ff7800; color:white; padding:8px 16px; border:none; border-radius:5px; cursor:pointer; font-size:14px;\"\n",
        "              onclick=\"alert('चलो सीखना शुरू करते हैं! 🚀');\">\n",
        "        Try it out 🚀\n",
        "      </button>\n",
        "    </div>\n",
        "  </div>\n",
        "</div>\n"
      ]
    },
    {
      "cell_type": "markdown",
      "id": "c89d2415",
      "metadata": {},
      "source": [
        "<div style='display: flex; justify-content: space-between;'>\n",
        "  <a href='../chapter-01/hi.ipynb' style='background-color: #28a745; color: white; padding: 8px 16px; border-radius: 6px; text-decoration: none;'>Next ➡️</a>\n",
        "</div>"
      ]
    }
  ],
  "metadata": {
    "language_info": {
      "name": "python"
    }
  },
  "nbformat": 4,
  "nbformat_minor": 5
}
