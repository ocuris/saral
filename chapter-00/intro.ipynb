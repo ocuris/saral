{
  "cells": [
    {
      "cell_type": "markdown",
      "id": "61c37616",
      "metadata": {},
      "source": []
    },
    {
      "cell_type": "markdown",
      "id": "705bcea8",
      "metadata": {},
      "source": [
        "<!-- Page Heading / Intro -->\n",
        "<div style=\"text-align:center; margin-bottom:20px;\">\n",
        "  <h1 style=\"color:#ff7800;\">सीखो और Try करो 🚀</h1>\n",
        "  <p style=\"color:#ff7800; font-size:16px;\">\n",
        "    नीचे दिए गए आसान स्टेप्स follow करो और interactive coding practice का मज़ा लो।\n",
        "  </p>\n",
        "</div>\n",
        "\n",
        "<!-- Learning Instructions Box -->\n",
        "<div style=\"display:flex; align-items:flex-start; width:100%; border:2px solid #ff7800; border-radius:10px; padding:12px; background:#fff8f0; margin-bottom:20px;\">\n",
        "  <div style=\"flex:0 0 120px; text-align:center;\">\n",
        "    <img src=\"../assets/stop.png\" width=\"90\" height=\"90\" style=\"display:block; margin:auto;\" />\n",
        "  </div>\n",
        "  <div style=\"flex:1; padding-left:15px;\">\n",
        "    <h3 style=\"color:#ff7800; margin:0 0 8px 0;\">सीखने का आसान तरीका 📚</h3>\n",
        "    <ul style=\"color:#ff7800; font-size:14px; margin:0; padding-left:18px;\">\n",
        "      <li>हर example को खुद चलाओ और देखो कि क्या होता है।</li>\n",
        "      <li>समझ में न आए तो दोबारा try करो या छोटा experiment करो।</li>\n",
        "      <li>सीखे हुए concepts को नोट्स में लिखो और कहानी की तरह याद करो।</li>\n",
        "      <li>Step-by-step छोटे challenges try करो और अनुभव से सीखो।</li>\n",
        "      <li>नए tips और examples जल्द ही मिलेंगे! 🚀</li>\n",
        "      <li>Page के अंत में <strong>“Try it out 🚀”</strong> button होगा,  \n",
        "          इस पर क्लिक करके आप interactive coding practice शुरू कर सकते हैं और सीखने को मज़ेदार बना सकते हैं।</li>\n",
        "    </ul>\n",
        "  </div>\n",
        "</div>\n"
      ]
    },
    {
      "cell_type": "markdown",
      "id": "c89d2415",
      "metadata": {},
      "source": [
        "<div style='display: flex; justify-content: space-between;'>\n",
        "  <a href='../chapter-01/hi.ipynb' style='background-color: #28a745; color: white; padding: 8px 16px; border-radius: 6px; text-decoration: none;'>Next ➡️</a>\n",
        "</div>"
      ]
    },
    {
      "cell_type": "code",
      "execution_count": null,
      "id": "618c22b6",
      "metadata": {
        "vscode": {
          "languageId": "plaintext"
        }
      },
      "outputs": [],
      "source": []
    }
  ],
  "metadata": {
    "language_info": {
      "name": "python"
    }
  },
  "nbformat": 4,
  "nbformat_minor": 5
}
