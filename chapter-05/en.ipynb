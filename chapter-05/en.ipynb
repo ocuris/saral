{
 "cells": [
  {
   "cell_type": "markdown",
   "metadata": {},
   "source": [
    "# 📘 Learn Python – In Simple Words\n",
    "## Chapter 5: The Magic of Repetition – Loops"
   ]
  },
  {
   "cell_type": "markdown",
   "metadata": {},
   "source": [
    "### Story\n",
    "\n",
    "Mohan now knew addition, subtraction, and If/Else.\n",
    "But one day, he had to write down all numbers from 1 to 100. He picked up a pen and started writing…\n",
    "\n",
    "After a while, he got tired and said:\n",
    "> \"What if I had to write from 1 to 1000?\"\n",
    "\n",
    "Ravi smiled and said:\n",
    "> \"That’s the magic of computers! We don’t have to repeat the same work ourselves. For this, we have **Loops**.\""
   ]
  },
  {
   "cell_type": "markdown",
   "metadata": {},
   "source": [
    "### What are Loops?\n",
    "\n",
    "- **Loop** = A magic trick that repeats a task again and again.\n",
    "- In Python, there are mainly two types of loops:\n",
    "\n",
    "| Loop | When to use |\n",
    "|------|-------------|\n",
    "| `for` | When we know how many times to repeat |\n",
    "| `while` | Repeat as long as a condition is true |"
   ]
  },
  {
   "cell_type": "markdown",
   "metadata": {},
   "source": [
    "### For Loop\n",
    "\n",
    "`for` means → **Pick things one by one and do the work.**"
   ]
  },
  {
   "cell_type": "code",
   "execution_count": 1,
   "metadata": {},
   "outputs": [
    {
     "name": "stdout",
     "output_type": "stream",
     "text": [
      "1\n",
      "2\n",
      "3\n",
      "4\n",
      "5\n"
     ]
    }
   ],
   "source": [
    "# Printing numbers from 1 to 5\n",
    "for i in range(1, 6):\n",
    "    print(i)"
   ]
  },
  {
   "cell_type": "markdown",
   "metadata": {},
   "source": [
    "Output:\n",
    "```\n",
    "1\n",
    "2\n",
    "3\n",
    "4\n",
    "5\n",
    "```"
   ]
  },
  {
   "cell_type": "markdown",
   "metadata": {},
   "source": [
    "### While Loop\n",
    "\n",
    "`while` means → **Keep repeating as long as the condition is true.**"
   ]
  },
  {
   "cell_type": "code",
   "execution_count": 2,
   "metadata": {},
   "outputs": [
    {
