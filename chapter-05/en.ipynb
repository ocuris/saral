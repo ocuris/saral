{
 "cells": [
  {
   "cell_type": "markdown",
   "metadata": {},
   "source": [
    "# 📘 Learn Python – In Simple Words\n",
    "## Chapter 5: The Magic of Repetition – Loops"
   ]
  },
  {
   "cell_type": "markdown",
   "metadata": {},
   "source": [
    "### Story\n",
    "\n",
    "Mohan now knew addition, subtraction, and If/Else.\n",
    "But one day, he had to write down all numbers from 1 to 100. He picked up a pen and started writing…\n",
    "\n",
    "After a while, he got tired and said:\n",
    "> \"What if I had to write from 1 to 1000?\"\n",
    "\n",
    "Ravi smiled and said:\n",
    "> \"That’s the magic of computers! We don’t have to repeat the same work ourselves. For this, we have **Loops**.\""
   ]
  },
  {
   "cell_type": "markdown",
   "metadata": {},
   "source": [
    "### What are Loops?\n",
    "\n",
    "- **Loop** = A magic trick that repeats a task again and again.\n",
    "- In Python, there are mainly two types of loops:\n",
    "\n",
    "| Loop | When to use |\n",
    "|------|-------------|\n",
    "| `for` | When we know how many times to repeat |\n",
    "| `while` | Repeat as long as a condition is true |"
   ]
  },
  {
   "cell_type": "markdown",
   "metadata": {},
   "source": [
    "### For Loop\n",
    "\n",
    "`for` means → **Pick things one by one and do the work.**"
   ]
  },
  {
   "cell_type": "code",
   "execution_count": 1,
   "metadata": {},
   "outputs": [
    {
     "name": "stdout",
     "output_type": "stream",
     "text": [
      "1\n",
      "2\n",
      "3\n",
      "4\n",
      "5\n"
     ]
    }
   ],
   "source": [
    "# Printing numbers from 1 to 5\n",
    "for i in range(1, 6):\n",
    "    print(i)"
   ]
  },
  {
   "cell_type": "markdown",
   "metadata": {},
   "source": [
    "Output:\n",
    "```\n",
    "1\n",
    "2\n",
    "3\n",
    "4\n",
    "5\n",
    "```"
   ]
  },
  {
   "cell_type": "markdown",
   "metadata": {},
   "source": [
    "### While Loop\n",
    "\n",
    "`while` means → **Keep repeating as long as the condition is true.**"
   ]
  },
  {
   "cell_type": "code",
   "execution_count": 2,
   "metadata": {},
   "outputs": [
    {
     "name": "stdout",
     "output_type": "stream",
     "text": [
      "1\n",
      "2\n",
      "3\n",
      "4\n",
      "5\n"
     ]
    }
   ],
   "source": [
    "# Printing numbers from 1 to 5 using while loop\n",
    "i = 1\n",
    "while i <= 5:\n",
    "    print(i)\n",
    "    i = i + 1"
   ]
  },
  {
   "cell_type": "markdown",
   "metadata": {},
   "source": [
    "Output:\n",
    "```\n",
    "1\n",
    "2\n",
    "3\n",
    "4\n",
    "5\n",
    "```"
   ]
  },
  {
   "cell_type": "markdown",
   "metadata": {},
   "source": [
    "### Break and Continue\n",
    "\n",
    "- **break** = Stop the loop immediately.\n",
    "- **continue** = Skip the current step and move to the next one."
   ]
  },
  {
   "cell_type": "code",
   "execution_count": 3,
   "metadata": {},
   "outputs": [
    {
     "name": "stdout",
     "output_type": "stream",
     "text": [
      "1\n",
      "2\n",
      "3\n",
      "4\n",
      "1\n",
      "2\n",
      "4\n",
      "5\n"
     ]
    }
   ],
   "source": [
    "# break example\n",
    "for i in range(1, 10):\n",
    "    if i == 5:\n",
    "        break\n",
    "    print(i)\n",
    "\n",
    "# continue example\n",
    "for i in range(1, 6):\n",
    "    if i == 3:\n",
    "        continue\n",
    "    print(i)"
   ]
  },
  {
   "cell_type": "markdown",
   "metadata": {},
   "source": [
    "Output:\n",
    "```\n",
    "1\n",
    "2\n",
    "3\n",
    "4\n",
    "\n",
    "1\n",
    "2\n",
    "4\n",
    "5\n",
    "```"
   ]
  },
  {
   "cell_type": "markdown",
   "metadata": {},
   "source": [
    "### Practice Questions\n",
    "\n",
    "1. Use a `for` loop to print all numbers from 1 to 20.\n",
    "\n",
    "2. Use a `while` loop to print countdown from 10 to 1.\n",
    "\n",
    "3. Write a program to print the multiplication table of any number.\n",
    "\n",
    "4. Use a `for` loop to print only even numbers (from 1 to 20).\n",
    "\n",
    "5. Predict the output of the code below:\n",
    "   ```python\n",
    "   for i in range(1, 6):\n",
    "       if i == 4:\n",
    "           break\n",
    "       print(i)\n",
    "   ```\n",
    "\n",
    "6. Write a loop that calculates the sum of all numbers from 1 to 50."
   ]
  },
  {
   "cell_type": "markdown",
   "metadata": {},
   "source": [
    "### Key Learnings\n",
    "\n",
    "- Loops are the easiest way to repeat tasks.\n",
    "- `for` loop = Repeat a fixed number of times.\n",
    "- `while` loop = Repeat until a condition is met.\n",
    "- `break` and `continue` help control the loop.\n",
    "\n",
    "👉 Now Mohan won’t have to write everything again and again, the computer will do it!"
   ]
  },
  {
   "cell_type": "code",
   "execution_count": null,
   "metadata": {},
   "outputs": [],
   "source": [
    "# Practice\n",
    "print(\"Practice\")"
   ]
  },
  {
   "cell_type": "markdown",
   "metadata": {},
   "source": [
    "---\n",
    "🔔 **Next Chapter:** \"The Bag of Boxes – Lists\" where we will learn how to store multiple items in a single variable."
   ]
  }
 ],
 "metadata": {
  "kernelspec": {
   "display_name": "agents",
   "language": "python",
   "name": "python3"
  },
  "language_info": {
   "codemirror_mode": {
    "name": "ipython",
    "version": 3
   },
   "file_extension": ".py",
   "mimetype": "text/x-python",
   "name": "python",
   "nbconvert_exporter": "python",
   "pygments_lexer": "ipython3",
   "version": "3.12.11"
  }
 },
 "nbformat": 4,
 "nbformat_minor": 2
}
