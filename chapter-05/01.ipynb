{
 "cells": [
  {
   "cell_type": "markdown",
   "metadata": {},
   "source": [
    "# 📘 पायथन सीखें – आसान भाषा में\n",
    "## अध्याय 5: दोहराव का जादू – Loops"
   ]
  },
  {
   "cell_type": "markdown",
   "metadata": {},
   "source": [
    "### कहानी\n",
    "\n",
    "मोहन को अब जोड़-घटाव और If/Else सब आता था।\n",
    "लेकिन एक दिन उसे 1 से 100 तक के सभी नंबर लिखने थे। उसने पेन उठाया और लिखना शुरू किया…\n",
    "\n",
    "थोड़ी देर बाद थककर बोला:\n",
    "> \"अगर मुझे 1 से 1000 तक लिखना पड़े तो?\"\n",
    "\n",
    "रवि मुस्कुराया और बोला:\n",
    "> \"यही तो कंप्यूटर का जादू है! हमें बार-बार एक ही काम खुद नहीं करना पड़ता। इसके लिए होते हैं **Loops**।\""
   ]
  },
  {
   "cell_type": "markdown",
   "metadata": {},
   "source": [
    "### Loops क्या हैं?\n",
    "\n",
    "- **Loop** = एक ऐसा जादू जो किसी काम को बार-बार दोहराता है।\n",
    "- पायथन में मुख्यतः दो तरह के लूप होते हैं:\n",
    "\n",
    "| लूप | कहाँ उपयोग होता है |\n",
    "|-----|--------------------|\n",
    "| `for` | जब हमें पता हो कितनी बार काम दोहराना है |\n",
    "| `while` | जब तक शर्त सही है, तब तक काम दोहराना है |"
   ]
  },
  {
   "cell_type": "markdown",
   "metadata": {},
   "source": [
    "### For Loop\n",
    "\n",
    "`for` का मतलब → **एक-एक करके चीज़ उठाओ और काम करो।**"
   ]
  },
  {
   "cell_type": "code",
   "execution_count": 1,
   "metadata": {},
   "outputs": [
    {
     "name": "stdout",
     "output_type": "stream",
     "text": [
      "1\n",
      "2\n",
      "3\n",
      "4\n",
      "5\n"
     ]
    }
   ],
   "source": [
    "# 1 से 5 तक नंबर प्रिंट करना\n",
    "for i in range(1, 6):\n",
    "    print(i)"
   ]
  },
  {
   "cell_type": "markdown",
   "metadata": {},
   "source": [
    "आउटपुट:\n",
    "```\n",
    "1\n",
    "2\n",
    "3\n",
    "4\n",
    "5\n",
    "```"
   ]
  },
  {
   "cell_type": "markdown",
   "metadata": {},
   "source": [
    "### While Loop\n",
    "\n",
    "`while` का मतलब → **जब तक शर्त सही है, तब तक दोहराते रहो।**"
   ]
  },
  {
   "cell_type": "code",
   "execution_count": 2,
   "metadata": {},
   "outputs": [
    {
     "name": "stdout",
     "output_type": "stream",
     "text": [
      "1\n",
      "2\n",
      "3\n",
      "4\n",
      "5\n"
     ]
    }
   ],
   "source": [
    "# 1 से 5 तक नंबर प्रिंट करना while loop से\n",
    "i = 1\n",
    "while i <= 5:\n",
    "    print(i)\n",
    "    i = i + 1"
   ]
  },
  {
   "cell_type": "markdown",
   "metadata": {},
   "source": [
    "आउटपुट:\n",
    "```\n",
    "1\n",
    "2\n",
    "3\n",
    "4\n",
    "5\n",
    "```"
   ]
  },
  {
   "cell_type": "markdown",
   "metadata": {},
   "source": [
    "### Break और Continue\n",
    "\n",
    "- **break** = लूप को बीच में ही रोक देना।\n",
    "- **continue** = इस बार का काम छोड़कर अगली बार पर जाना।"
   ]
  },
  {
   "cell_type": "code",
   "execution_count": 3,
   "metadata": {},
   "outputs": [
    {
     "name": "stdout",
     "output_type": "stream",
     "text": [
      "1\n",
      "2\n",
      "3\n",
      "4\n",
      "1\n",
      "2\n",
      "4\n",
      "5\n"
     ]
    }
   ],
   "source": [
    "# break example\n",
    "for i in range(1, 10):\n",
    "    if i == 5:\n",
    "        break\n",
    "    print(i)\n",
    "\n",
    "# continue example\n",
    "for i in range(1, 6):\n",
    "    if i == 3:\n",
    "        continue\n",
    "    print(i)"
   ]
  },
  {
   "cell_type": "markdown",
   "metadata": {},
   "source": [
    "आउटपुट:\n",
    "```\n",
    "1\n",
    "2\n",
    "3\n",
    "4\n",
    "\n",
    "1\n",
    "2\n",
    "4\n",
    "5\n",
    "```"
   ]
  },
  {
   "cell_type": "markdown",
   "metadata": {},
   "source": [
    "### अभ्यास प्रश्न\n",
    "\n",
    "1. `for` लूप का उपयोग करके 1 से 20 तक सभी संख्याएँ प्रिंट करें।\n",
    "\n",
    "2. `while` लूप का उपयोग करके 10 से 1 तक उलटी गिनती (countdown) प्रिंट करें।\n",
    "\n",
    "3. किसी संख्या का पहाड़ा (multiplication table) प्रिंट करने का प्रोग्राम लिखें।\n",
    "\n",
    "4. `for` लूप का उपयोग करके केवल सम (even) संख्याएँ प्रिंट करें (1 से 20 तक)।\n",
    "\n",
    "5. नीचे दिए गए कोड का आउटपुट सोचकर बताइए:\n",
    "   ```python\n",
    "   for i in range(1, 6):\n",
    "       if i == 4:\n",
    "           break\n",
    "       print(i)\n",
    "   ```\n",
    "\n",
    "6. एक लूप लिखिए जो 1 से 50 तक के सभी संख्याओं का जोड़ (sum) निकाल दे।"
   ]
  },
  {
   "cell_type": "markdown",
   "metadata": {},
   "source": [
    "### सीखने योग्य बातें\n",
    "\n",
    "- लूप्स बार-बार काम करने का सबसे आसान तरीका हैं।\n",
    "- `for` लूप = गिनकर दोहराना।\n",
    "- `while` लूप = शर्त पूरी होने तक दोहराना।\n",
    "- `break` और `continue` से लूप पर कंट्रोल किया जा सकता है।\n",
    "\n",
    "👉 अब मोहन को बार-बार लिखना नहीं पड़ेगा, कंप्यूटर खुद करेगा!"
   ]
  },
  {
   "cell_type": "code",
   "execution_count": null,
   "metadata": {},
   "outputs": [],
   "source": []
  },
  {
   "cell_type": "markdown",
   "metadata": {},
   "source": [
    "---\n",
    "🔔 **अगला अध्याय:** \"डब्बों का झोला – Lists\" जहाँ हम सीखेंगे कि एक ही वेरिएबल में कई चीज़ें कैसे रखी जा सकती हैं।"
   ]
  }
 ],
 "metadata": {
  "kernelspec": {
   "display_name": "agents",
   "language": "python",
   "name": "python3"
  },
  "language_info": {
   "codemirror_mode": {
    "name": "ipython",
    "version": 3
   },
   "file_extension": ".py",
   "mimetype": "text/x-python",
   "name": "python",
   "nbconvert_exporter": "python",
   "pygments_lexer": "ipython3",
   "version": "3.12.11"
  }
 },
 "nbformat": 4,
 "nbformat_minor": 2
}
