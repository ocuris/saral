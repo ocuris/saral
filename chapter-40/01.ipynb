{
 "cells": [
  {
   "cell_type": "markdown",
   "metadata": {},
   "source": [
    "# 📘 पायथन सीखें – आसान भाषा में\n",
    "## अध्याय 40: Python और GUI Development – Tkinter"
   ]
  },
  {
   "cell_type": "markdown",
   "metadata": {},
   "source": [
    "### कहानी\n",
    "राम अब अपनी shop के लिए एक small application बनाना चाहता था जिसमें वह sales और inventory track कर सके।\n",
    "श्याम ने कहा:\n",
    "> \"Python में Tkinter use करके simple GUI applications बना सकते हो।\"\n",
    "\n",
    "राम:\n",
    "> \"वाह! अब मैं command-line नहीं, बल्कि buttons और windows से काम कर सकता हूँ।\""
   ]
  },
  {
   "cell_type": "markdown",
   "metadata": {},
   "source": [
    "### Tkinter क्या है?\n",
    "- Python की built-in library GUI applications बनाने के लिए\n",
    "- Widgets: Button, Label, Entry, Text, Frame आदि\n",
    "- Event-driven programming support करता है"
   ]
  },
  {
   "cell_type": "markdown",
   "metadata": {},
   "source": [
    "### Example 1: Simple Window\n",
    "```python\n",
    "import tkinter as tk\n",
    "\n",
    "root = tk.Tk()  # Main window\n",
    "root.title('My First GUI')\n",
    "root.geometry('400x300')\n",
    "\n",
    "label = tk.Label(root, text='Hello, Tkinter!', font=('Arial', 16))\n",
    "label.pack(pady=20)\n",
    "\n",
    "root.mainloop()\n",
    "```"
   ]
  },
  {
   "cell_type": "markdown",
   "metadata": {},
   "source": [
    "### Example 2: Button and Entry\n",
    "```python\n",
    "def show_message():\n",
    "    name = entry.get()\n",
    "    label.config(text=f'Hello, {name}!')\n",
    "\n",
    "root = tk.Tk()\n",
    "root.title('Greeting App')\n",
    "root.geometry('400x200')\n",
    "\n",
    "label = tk.Label(root, text='Enter your name:', font=('Arial', 12))\n",
    "label.pack(pady=10)\n",
    "\n",
    "entry = tk.Entry(root, font=('Arial', 12))\n",
    "entry.pack(pady=5)\n",
    "\n",
    "button = tk.Button(root, text='Greet Me', command=show_message)\n",
    "button.pack(pady=10)\n",
    "\n",
    "root.mainloop()\n",
    "```"
   ]
  },
  {
   "cell_type": "markdown",
   "metadata": {},
   "source": [
    "### Example 3: Multiple Widgets\n",
    "```python\n",
    "root = tk.Tk()\n",
    "root.title('Simple Form')\n",
    "root.geometry('400x300')\n",
    "\n",
    "tk.Label(root, text='Username').pack()\n",
    "tk.Entry(root).pack()\n",
    "\n",
    "tk.Label(root, text='Password').pack()\n",
    "tk.Entry(root, show='*').pack()\n",
    "\n",
    "tk.Button(root, text='Login').pack(pady=10)\n",
    "\n",
    "root.mainloop()\n",
    "```"
   ]
  },
  {
   "cell_type": "markdown",
   "metadata": {},
   "source": [
    "### Best Practices\n",
    "- Widgets को organize करने के लिए `pack`, `grid`, `place` methods use करें\n",
    "- Event-driven programming समझें (button click, entry input)\n",
    "- GUI applications को modular बनाएं, functions और classes use करें\n",
    "- User-friendly और readable interface design करें"
   ]
  },
  {
   "cell_type": "markdown",
   "metadata": {},
   "source": [
    "### अभ्यास प्रश्न\n",
    "1. Simple Tkinter window बनाइए और उसमें एक Label और Button add करें।\n",
    "2. Entry widget से user input लेकर Label में दिखाएँ।\n",
    "3. एक login form create करें जिसमें username और password Entry हों।\n",
    "4. Multiple buttons बनाइए और अलग-अलग messages दिखाएँ।\n",
    "5. GUI में color, font और size customize करके visually appealing interface बनाइए।"
   ]
  },
  {
   "cell_type": "markdown",
   "metadata": {},
   "source": [
    "### सीखने योग्य बातें\n",
    "- Tkinter → GUI development in Python\n",
    "- Widgets → Label, Entry, Button, Text\n",
    "- Event handling → button clicks, input\n",
    "- Modular और user-friendly GUI design"
   ]
  },
  {
   "cell_type": "markdown",
   "metadata": {},
   "source": [
    "---\n",
    "🔔 **अगला अध्याय:** \"Python और File Handling – CSV, JSON और Excel\""
   ]
  }
 ],
 "metadata": {
  "kernelspec": {
   "display_name": "Python 3",
   "language": "python",
   "name": "python3"
  },
  "language_info": {
   "name": "python",
   "version": "3.12.0"
  }
 },
 "nbformat": 4,
 "nbformat_minor": 2
}
