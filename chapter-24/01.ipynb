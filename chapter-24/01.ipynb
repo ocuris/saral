{
 "cells": [
  {
   "cell_type": "markdown",
   "metadata": {},
   "source": [
    "# 📘 पायथन सीखें – आसान भाषा में\n",
    "## अध्याय 24: Abstraction – ज़रूरी बातें दिखाओ, details छुपाओ"
   ]
  },
  {
   "cell_type": "markdown",
   "metadata": {},
   "source": [
    "### कहानी\n",
    "राम और श्याम मोबाइल फोन की बात कर रहे थे।\n",
    "\n",
    "राम बोला:\n",
    "> \"मैं बस call करता हूँ, message भेजता हूँ। मुझे अंदर का chip, processor, RAM का detail जानने की ज़रूरत नहीं।\"\n",
    "\n",
    "श्याम ने कहा:\n",
    "> \"यही तो है Abstraction – user को सिर्फ़ ज़रूरी features दिखाओ, अंदर की जटिल details छुपा लो।\""
   ]
  },
  {
   "cell_type": "markdown",
   "metadata": {},
   "source": [
    "### Abstraction क्या है?\n",
    "- Implementation details छुपाना।\n",
    "- सिर्फ़ necessary methods user को देना।\n",
    "- Python में abstraction के लिए **Abstract Base Class (ABC)** का इस्तेमाल होता है।\n",
    "- Abstraction = Interface (क्या करना है) + Hidden details (कैसे करना है)।"
   ]
  },
  {
   "cell_type": "markdown",
   "metadata": {},
   "source": [
    "### Abstract Class\n",
    "- Normal class की तरह होती है लेकिन उसका object सीधे नहीं बना सकते।\n",
    "- उसमें **abstract methods** होते हैं जिनको child class में implement करना ज़रूरी है।"
   ]
  },
  {
   "cell_type": "code",
   "execution_count": null,
   "metadata": {},
   "outputs": [],
   "source": [
    "from abc import ABC, abstractmethod\n",
    "\n",
    "class Vehicle(ABC):\n",
    "    @abstractmethod\n",
    "    def start(self):\n",
    "        pass\n",
    "\n",
    "class Car(Vehicle):\n",
    "    def start(self):\n",
    "        print(\"Car engine started!\")\n",
    "\n",
    "class Bike(Vehicle):\n",
    "    def start(self):\n",
    "        print(\"Bike engine started!\")\n",
    "\n",
    "v1 = Car()\n",
    "v1.start()\n",
    "\n",
    "v2 = Bike()\n",
    "v2.start()"
   ]
  },
  {
   "cell_type": "markdown",
   "metadata": {},
   "source": [
    "👉 यहाँ `Vehicle` class सिर्फ़ blueprint है। Child classes (`Car`, `Bike`) ने उसका `start()` method implement किया।"
   ]
  },
  {
   "cell_type": "markdown",
   "metadata": {},
   "source": [
    "### Benefits of Abstraction\n",
    "- Code clean और manageable बनता है।\n",
    "- User को सिर्फ़ ज़रूरी features दिखते हैं।\n",
    "- Different implementations को common interface से handle किया जा सकता है।"
   ]
  },
  {
   "cell_type": "markdown",
   "metadata": {},
   "source": [
    "### Example: Payment System\n",
    "```python\n",
    "from abc import ABC, abstractmethod\n",
    "\n",
    "class Payment(ABC):\n",
    "    @abstractmethod\n",
    "    def pay(self, amount):\n",
    "        pass\n",
    "\n",
    "class CreditCard(Payment):\n",
    "    def pay(self, amount):\n",
    "        print(f\"Paid {amount} using Credit Card\")\n",
    "\n",
    "class UPI(Payment):\n",
    "    def pay(self, amount):\n",
    "        print(f\"Paid {amount} using UPI\")\n",
    "\n",
    "p1 = CreditCard()\n",
    "p1.pay(500)\n",
    "\n",
    "p2 = UPI()\n",
    "p2.pay(200)\n",
    "```"
   ]
  },
  {
   "cell_type": "markdown",
   "metadata": {},
   "source": [
    "### अभ्यास प्रश्न\n",
    "1. एक abstract class `Shape` बनाइए जिसमें `area()` और `perimeter()` abstract methods हों। Child classes: `Circle`, `Rectangle` बनाइए।\n",
    "2. एक abstract class `Animal` बनाइए जिसमें `sound()` method हो। `Dog` और `Cat` classes implement करें।\n",
    "3. एक `Transport` abstract class बनाइए जिसमें `capacity()` method हो। `Bus` और `Train` implement करें।\n",
    "4. एक abstract class `Appliance` बनाइए जिसमें `turn_on()` method हो। `Fan` और `Light` implement करें।\n",
    "5. Banking system example: abstract class `Account` जिसमें `deposit()` और `withdraw()` हों। `SavingAccount` और `CurrentAccount` implement करें।"
   ]
  },
  {
   "cell_type": "markdown",
   "metadata": {},
   "source": [
    "### सीखने योग्य बातें\n",
    "- Abstraction = ज़रूरी features दिखाना, details छुपाना।\n",
    "- Abstract classes blueprint होती हैं।\n",
    "- Abstract methods को child class में implement करना ज़रूरी है।\n",
    "- Code flexible और maintainable बनता है।"
   ]
  },
  {
   "cell_type": "markdown",
   "metadata": {},
   "source": [
    "---\n",
    "🔔 **अगला अध्याय:** \"Inheritance – गुण और व्यवहार विरासत में पाना\" जहाँ हम OOP का तीसरा pillar सीखेंगे।"
   ]
  }
 ],
 "metadata": {
  "kernelspec": {
   "display_name": "Python 3",
   "language": "python",
   "name": "python3"
  },
  "language_info": {
   "name": "python",
   "version": "3.12.0"
  }
 },
 "nbformat": 4,
 "nbformat_minor": 2
}
