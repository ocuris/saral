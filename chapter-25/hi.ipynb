{
 "cells": [
  {
   "cell_type": "markdown",
   "metadata": {},
   "source": [
    "# 📘 Python सीखें – आसान भाषा में\n",
    "## अध्याय 25: Inheritance – गुण और व्यवहार विरासत में पाना"
   ]
  },
  {
   "cell_type": "markdown",
   "metadata": {},
   "source": [
    "### कहानी\n",
    "राम और श्याम दोनों के पास घर थे।\n",
    "\n",
    "राम बोला:\n",
    "> \"मेरे बेटे को मेरी ज़मीन, घर और कारोबार सब विरासत में मिलेंगे।\"\n",
    "\n",
    "श्याम मुस्कुराया:\n",
    "> \"Programming में भी यही होता है। Class के गुण (attributes) और methods दूसरी class को विरासत में मिल सकते हैं। इसे कहते हैं **Inheritance**।\""
   ]
  },
  {
   "cell_type": "markdown",
   "metadata": {},
   "source": [
    "### Inheritance क्या है?\n",
    "- एक class (child/derived class) दूसरी class (parent/base class) के गुण और methods inherit करती है।\n",
    "- Code reuse और extend करने में आसान।\n",
    "- Parent class → General behavior\n",
    "- Child class → Specific behavior"
   ]
  },
  {
   "cell_type": "markdown",
   "metadata": {},
   "source": [
    "### Basic Example\n",
    "```python\n",
    "class Person:\n",
    "    def __init__(self, name):\n",
    "        self.name = name\n",
    "    \n",
    "    def greet(self):\n",
    "        print(f\"Hello, मेरा नाम {self.name} है।\")\n",
    "\n",
    "class Student(Person):   # Student inherits Person\n",
    "    def study(self):\n",
    "        print(f\"{self.name} पढ़ाई कर रहा है।\")\n",
    "\n",
    "s = Student(\"Rohan\")\n",
    "s.greet()     # Inherited method\n",
    "s.study()     # Child method\n",
    "```"
   ]
  },
  {
   "cell_type": "markdown",
   "metadata": {},
   "source": [
    "👉 यहाँ `Student` को `Person` की greet() method विरासत में मिल गई।"
   ]
  },
  {
   "cell_type": "markdown",
   "metadata": {},
   "source": [
    "### Types of Inheritance\n",
    "1. **Single Inheritance** → एक parent से inherit करना।\n",
    "2. **Multiple Inheritance** → कई parent classes से inherit करना।\n",
    "3. **Multilevel Inheritance** → Parent → Child → Grandchild (chain)।\n",
    "4. **Hierarchical Inheritance** → एक parent से कई children।\n",
    "5. **Hybrid Inheritance** → ऊपर के किसी भी combination का mix।"
   ]
  },
  {
   "cell_type": "code",
   "execution_count": null,
   "metadata": {},
   "outputs": [],
   "source": [
    "# Example: Multiple Inheritance\n",
    "class Father:\n",
    "    def skill(self):\n",
    "        print(\"Driving\")\n",
    "\n",
    "class Mother:\n",
    "    def skill(self):\n",
    "        print(\"Cooking\")\n",
    "\n",
    "class Child(Father, Mother):\n",
    "    def extra(self):\n",
    "        print(\"Coding\")\n",
    "\n",
    "c = Child()\n",
    "c.skill()   # Method Resolution Order (MRO) लागू होगा\n",
    "c.extra()"
   ]
  },
  {
   "cell_type": "markdown",
   "metadata": {},
   "source": [
    "👉 यहाँ `Child` को दोनों parent की skills मिलती हैं। लेकिन अगर दोनों में same method हो तो **पहले वाले parent** की method call होगी (MRO rule)।"
   ]
  },
  {
   "cell_type": "markdown",
   "metadata": {},
   "source": [
    "### super() का उपयोग\n",
    "Child class में parent का constructor और methods call करने के लिए `super()` का इस्तेमाल होता है।\n",
    "\n",
    "```python\n",
    "class Animal:\n",
    "    def __init__(self, name):\n",
    "        self.name = name\n",
    "\n",
    "class Dog(Animal):\n",
    "    def __init__(self, name, breed):\n",
    "        super().__init__(name)   # Parent constructor call\n",
    "        self.breed = breed\n",
    "\n",
    "    def show(self):\n",
    "        print(f\"{self.name} is a {self.breed}\")\n",
    "\n",
    "d = Dog(\"Tommy\", \"Labrador\")\n",
    "d.show()\n",
    "```"
   ]
  },
  {
   "cell_type": "markdown",
   "metadata": {},
   "source": [
    "### अभ्यास प्रश्न\n",
    "1. एक `Employee` class बनाइए और उससे `Manager` और `Developer` inherit कराइए।\n",
    "2. Multilevel inheritance का example बनाइए: `Grandfather → Father → Son`।\n",
    "3. एक `Shape` class बनाइए जिसमें area() method हो, और उससे `Circle` व `Square` inherit करें।\n",
    "4. Multiple inheritance का example बनाइए जहाँ `Singer` और `Dancer` से `Performer` inherit करे।\n",
    "5. super() का उपयोग करके parent constructor call करने का demo बनाइए।"
   ]
  },
  {
   "cell_type": "markdown",
   "metadata": {},
   "source": [
    "### सीखने योग्य बातें\n",
    "- Inheritance = code reuse और hierarchy बनाना।\n",
    "- Types → Single, Multiple, Multilevel, Hierarchical, Hybrid।\n",
    "- अगर same नाम का method multiple parents में है → **MRO** लागू होता है।\n",
    "- `super()` parent constructor और methods call करने के लिए उपयोग होता है।"
   ]
  },
  {
   "cell_type": "markdown",
   "metadata": {},
   "source": [
    "---\n",
    "🔔 **अगला अध्याय:** \"Polymorphism – एक रूप, कई व्यवहार\" जहाँ हम OOP का चौथा और आखिरी pillar सीखेंगे।"
   ]
  },
  {
   "cell_type": "markdown",
   "metadata": {},
   "source": [
    "<div style='display: flex; justify-content: space-between;'>\n",
    "  <a href='../chapter-24/hi.ipynb' style='background-color: #1E90FF; color: white; padding: 8px 16px; border-radius: 6px; text-decoration: none;'>⬅️ Previous</a>\n",
    "  <a href='../chapter-26/hi.ipynb' style='background-color: #28a745; color: white; padding: 8px 16px; border-radius: 6px; text-decoration: none;'>Next ➡️</a>\n",
    "</div>"
   ]
  }
 ],
 "metadata": {
  "kernelspec": {
   "display_name": "Python 3",
   "language": "python",
   "name": "python3"
  },
  "language_info": {
   "name": "python",
   "version": "3.12.0"
  }
 },
 "nbformat": 4,
 "nbformat_minor": 2
}
