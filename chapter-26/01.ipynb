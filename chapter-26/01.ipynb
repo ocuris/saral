{
 "cells": [
  {
   "cell_type": "markdown",
   "metadata": {},
   "source": [
    "# 📘 पायथन सीखें – आसान भाषा में\n",
    "## अध्याय 26: Polymorphism – एक रूप, कई व्यवहार"
   ]
  },
  {
   "cell_type": "markdown",
   "metadata": {},
   "source": [
    "### कहानी\n",
    "राम और श्याम दोनों के पास mobile phone था।\n",
    "\n",
    "राम बोला:\n",
    "> \"मैं अपने mobile से call करता हूँ।\"\n",
    "\n",
    "श्याम बोला:\n",
    "> \"मैं अपने mobile से song सुनता हूँ।\"\n",
    "\n",
    "👉 एक ही चीज़ (Mobile) अलग-अलग behavior कर रही है। यही है **Polymorphism**।"
   ]
  },
  {
   "cell_type": "markdown",
   "metadata": {},
   "source": [
    "### Polymorphism क्या है?\n",
    "- Poly = Many, Morph = Form → \"एक चीज़, कई रूप\"।\n",
    "- एक ही function, method या operator अलग-अलग situation में अलग तरह से काम करता है।\n",
    "- Code flexible और reusable बन जाता है।"
   ]
  },
  {
   "cell_type": "markdown",
   "metadata": {},
   "source": [
    "### 1. Operator Overloading\n",
    "```python\n",
    "print(10 + 20)       # numbers add हो रहे हैं\n",
    "print(\"Hello\" + \" World\")  # strings concatenate हो रही हैं\n",
    "print([1,2] + [3,4])  # lists merge हो रही हैं\n",
    "```\n",
    "👉 यहाँ `+` operator अलग-अलग प्रकार के data के लिए अलग behavior दिखा रहा है।"
   ]
  },
  {
   "cell_type": "markdown",
   "metadata": {},
   "source": [
    "### 2. Method Overriding (Inheritance के साथ)\n",
    "```python\n",
    "class Animal:\n",
    "    def sound(self):\n",
    "        print(\"Some generic sound\")\n",
    "\n",
    "class Dog(Animal):\n",
    "    def sound(self):\n",
    "        print(\"Bark\")\n",
    "\n",
    "class Cat(Animal):\n",
    "    def sound(self):\n",
    "        print(\"Meow\")\n",
    "\n",
    "a1 = Dog()\n",
    "a2 = Cat()\n",
    "\n",
    "a1.sound()\n",
    "a2.sound()\n",
    "```\n",
    "👉 एक ही method `sound()` अलग-अलग objects पर अलग behavior दिखा रही है।"
   ]
  },
  {
   "cell_type": "markdown",
   "metadata": {},
   "source": [
    "### 3. Duck Typing (Python का खास feature)\n",
    "- \"अगर वो बतख की तरह चलता है और बतख की तरह आवाज़ करता है → तो वो बतख ही है।\"\n",
    "- मतलब, Python में object का type नहीं बल्कि उसका behavior matter करता है।\n",
    "\n",
    "```python\n",
    "class Duck:\n",
    "    def swim(self):\n",
    "        print(\"Duck is swimming\")\n",
    "\n",
    "class Person:\n",
    "    def swim(self):\n",
    "        print(\"Person is swimming\")\n",
    "\n",
    "for obj in (Duck(), Person()):\n",
    "    obj.swim()\n",
    "```\n",
    "👉 दोनों में `swim()` है, इसलिए दोनों को समान तरीके से treat किया गया। यही Duck Typing है।"
   ]
  },
  {
   "cell_type": "markdown",
   "metadata": {},
   "source": [
    "### 4. Function Polymorphism\n",
    "एक ही function अलग data types पर अलग behavior दिखा सकता है।\n",
    "```python\n",
    "print(len(\"Hello\"))     # string की length\n",
    "print(len([1,2,3,4]))   # list की length\n",
    "print(len({1: 'a', 2:'b'})) # dictionary की length\n",
    "```\n",
    "👉 एक ही `len()` function अलग-अलग type के लिए अलग result देता है।"
   ]
  },
  {
   "cell_type": "markdown",
   "metadata": {},
   "source": [
    "### अभ्यास प्रश्न\n",
    "1. एक class `Calculator` बनाइए जिसमें `__add__` operator को overload करें ताकि दो objects का जोड़ हो सके।\n",
    "2. एक `Bird` parent class और उससे inherit करने वाली `Sparrow` और `Crow` classes बनाइए और `sound()` override कीजिए।\n",
    "3. Duck Typing का example लिखिए: `Car` और `Boat` दोनों में `start()` method हो।\n",
    "4. Function polymorphism दिखाइए `max()` function का उपयोग करके (list, tuple, string पर)।\n",
    "5. Polymorphism का real-world example सोचिए (जैसे Remote: TV, AC, Fan सब चला सकता है)।"
   ]
  },
  {
   "cell_type": "markdown",
   "metadata": {},
   "source": [
    "### सीखने योग्य बातें\n",
    "- Polymorphism = \"एक रूप, कई व्यवहार\"।\n",
    "- Types → Operator Overloading, Method Overriding, Duck Typing, Function Polymorphism।\n",
    "- Python में flexibility ज़्यादा है क्योंकि type checking strict नहीं होती (Duck Typing)।"
   ]
  },
  {
   "cell_type": "markdown",
   "metadata": {},
   "source": [
    "---\n",
    "🎉 अब आपने OOP के 4 pillars पूरे कर लिए →\n",
    "1. Encapsulation\n",
    "2. Abstraction\n",
    "3. Inheritance\n",
    "4. Polymorphism\n",
    "\n",
    "🔔 **अगला अध्याय:** \"File Handling – फाइलों से बातें करना\" जहाँ हम data को files में save और read करना सीखेंगे।"
   ]
  }
 ],
 "metadata": {
  "kernelspec": {
   "display_name": "Python 3",
   "language": "python",
   "name": "python3"
  },
  "language_info": {
   "name": "python",
   "version": "3.12.0"
  }
 },
 "nbformat": 4,
 "nbformat_minor": 2
}
