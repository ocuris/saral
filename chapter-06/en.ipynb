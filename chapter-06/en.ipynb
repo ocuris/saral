{
 "cells": [
  {
   "cell_type": "markdown",
   "metadata": {},
   "source": [
    "# 📘 Learn Python – In Simple Language\n",
    "## Chapter 6: The Bag of Boxes – Lists"
   ]
  },
  {
   "cell_type": "markdown",
   "metadata": {},
   "source": [
    "### Story\n",
    "\n",
    "Mohan used to bring different things from the fair every day – sometimes sweets, sometimes a toy, sometimes a book.\n",
    "But every time it was difficult for him to remember the names separately.\n",
    "\n",
    "Ravi said:\n",
    "> \"Imagine you have a bag. You can keep sweets, toys, and books together in that bag. Whenever you want, you can take something out.\"\n",
    "\n",
    "Mohan replied:\n",
    "> \"Oh! That means just like I keep different things in a bag, in the computer we can also keep many things together using a **List**.\""
   ]
  },
  {
   "cell_type": "markdown",
   "metadata": {},
   "source": [
    "### What is a List?\n",
    "\n",
    "- **List** = A container (box) where you can store many values together.\n",
    "- These values can be of different types (numbers, words, etc.).\n",
    "- A List is always created using `[]` (square brackets)."
   ]
  },
  {
   "cell_type": "code",
   "execution_count": 1,
   "metadata": {},
   "outputs": [
    {
     "name": "stdout",
     "output_type": "stream",
     "text": [
      "['Sweet', 'Toy', 'Book']\n"
     ]
    }
   ],
   "source": [
    "# Creating a list\n",
    "items = [\"Sweet\", \"Toy\", \"Book\"]\n",
    "print(items)"
   ]
  },
  {
   "cell_type": "markdown",
   "metadata": {},
   "source": [
    "Output:\n",
    "```\n",
    "['Sweet', 'Toy', 'Book']\n",
    "```"
   ]
  },
  {
   "cell_type": "markdown",
   "metadata": {},
   "source": [
    "### Indexing\n",
    "\n",
    "- Each item in a list has a number (called index).\n",
    "- Index always **starts from 0**.\n",
    "\n",
    "| Item | Index |\n",
    "|------|-------|\n",
    "| Sweet | 0 |\n",
    "| Toy | 1 |\n",
    "| Book | 2 |"
   ]
  },
  {
   "cell_type": "code",
   "execution_count": null,
   "metadata": {},
   "outputs": [],
   "source": [
    "items = [\"Sweet\", \"Toy\", \"Book\"]\n",
    "\n",
    "print(items[0])  # Sweet\n",
    "print(items[2])  # Book"
   ]
  },
  {
   "cell_type": "markdown",
   "metadata": {},
   "source": [
    "### Updating a List\n",
    "\n",
    "Values in a list can be changed."
   ]
  },
  {
   "cell_type": "code",
   "execution_count": 2,
   "metadata": {},
   "outputs": [
    {
     "name": "stdout",
     "output_type": "stream",
     "text": [
      "['Sweet', 'Pearl', 'Book']\n"
     ]
    }
   ],
   "source": [
    "items = [\"Sweet\", \"Toy\", \"Book\"]\n",
    "items[1] = \"Pearl\"\n",
    "print(items)"
   ]
  },
  {
   "cell_type": "markdown",
   "metadata": {},
   "source": [
    "Output:\n",
    "```\n",
    "['Sweet', 'Pearl', 'Book']\n",
    "```"
   ]
  },
  {
   "cell_type": "markdown",
   "metadata": {},
   "source": [
    "### List Methods\n",
    "\n",
    "| Method | Work |\n",
    "|--------|------|\n",
    "| `append(x)` | Add a new item at the end |\n",
    "| `insert(i, x)` | Insert a new item at a specific index |\n",
    "| `remove(x)` | Remove an item by value |\n",
    "| `pop(i)` | Remove item by index (default = last) |\n",
    "| `len(list)` | Find the length of the list (how many items) |\n",
    "| `sort()` | Sort the list |\n",
    "| `reverse()` | Reverse the list |"
   ]
  },
  {
   "cell_type": "code",
   "execution_count": 3,
   "metadata": {},
   "outputs": [
    {
     "name": "stdout",
     "output_type": "stream",
     "text": [
      "[4, 2, 9, 1, 7]\n",
      "[1, 2, 4, 7, 9]\n",
      "[9, 7, 4, 2, 1]\n"
     ]
    }
   ],
   "source": [
    "numbers = [4, 2, 9, 1]\n",
    "\n",
    "numbers.append(7)\n",
    "print(numbers)   # [4, 2, 9, 1, 7]\n",
    "\n",
    "numbers.sort()\n",
    "print(numbers)   # [1, 2, 4, 7, 9]\n",
    "\n",
    "numbers.reverse()\n",
    "print(numbers)   # [9, 7, 4, 2, 1]"
   ]
  },
  {
   "cell_type": "markdown",
   "metadata": {},
   "source": [
    "### List and Loop\n",
    "\n",
    "To read items of a list one by one, we use a loop."
   ]
  },
  {
   "cell_type": "code",
   "execution_count": 4,
   "metadata": {},
   "outputs": [
