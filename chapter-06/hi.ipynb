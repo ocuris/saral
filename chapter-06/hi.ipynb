{
 "cells": [
  {
   "cell_type": "markdown",
   "metadata": {},
   "source": [
    "# 📘 Python सीखें – आसान भाषा में\n",
    "## अध्याय 6: डब्बों का झोला – Lists"
   ]
  },
  {
   "cell_type": "markdown",
   "metadata": {},
   "source": [
    "### कहानी\n",
    "\n",
    "मोहन रोज़ मेले से कुछ सामान लाता था – कभी मिठाई, कभी खिलौना, कभी किताब।\n",
    "लेकिन हर बार उसे नया-नया नाम याद रखना मुश्किल हो जाता।\n",
    "\n",
    "रवि ने कहा:\n",
    "> \"मान लो तुम्हारे पास एक झोला है। उसमें मिठाई, खिलौना और किताब सब एक साथ रख सकते हो। जब चाहो निकाल सकते हो।\"\n",
    "\n",
    "मोहन बोला:\n",
    "> \"ओह! मतलब जैसे झोले में अलग-अलग चीज़ें रखूँ, वैसे ही कंप्यूटर में कई चीज़ें एक साथ रखने के लिए **List** होती है।\""
   ]
  },
  {
   "cell_type": "markdown",
   "metadata": {},
   "source": [
    "### List क्या है?\n",
    "\n",
    "- **List** = एक ऐसा डब्बा (container) जिसमें कई values एक साथ रखी जा सकती हैं।\n",
    "- ये values अलग-अलग प्रकार की भी हो सकती हैं (संख्या, शब्द, आदि)।\n",
    "- List हमेशा `[]` (square brackets) से बनाई जाती है।"
   ]
  },
  {
   "cell_type": "code",
   "execution_count": 1,
   "metadata": {},
   "outputs": [
    {
     "name": "stdout",
     "output_type": "stream",
     "text": [
      "['मिठाई', 'खिलौना', 'किताब']\n"
     ]
    }
   ],
   "source": [
    "# एक list बनाते हैं\n",
    "items = [\"मिठाई\", \"खिलौना\", \"किताब\"]\n",
    "print(items)"
   ]
  },
  {
   "cell_type": "markdown",
   "metadata": {},
   "source": [
    "आउटपुट:\n",
    "```\n",
    "['मिठाई', 'खिलौना', 'किताब']\n",
    "```"
   ]
  },
  {
   "cell_type": "markdown",
   "metadata": {},
   "source": [
    "### Indexing (क्रम संख्या)\n",
    "\n",
    "- लिस्ट में हर item का एक नंबर (index) होता है।\n",
    "- Index हमेशा **0 से शुरू** होता है।\n",
    "\n",
    "| Item | Index |\n",
    "|------|-------|\n",
    "| मिठाई | 0 |\n",
    "| खिलौना | 1 |\n",
    "| किताब | 2 |"
   ]
  },
  {
   "cell_type": "code",
   "execution_count": null,
   "metadata": {},
   "outputs": [],
   "source": [
    "items = [\"मिठाई\", \"खिलौना\", \"किताब\"]\n",
    "\n",
    "print(items[0])  # मिठाई\n",
    "print(items[2])  # किताब"
   ]
  },
  {
   "cell_type": "markdown",
   "metadata": {},
   "source": [
    "### List बदलना (Update)\n",
    "\n",
    "List में values बदली जा सकती हैं।"
   ]
  },
  {
   "cell_type": "code",
   "execution_count": 2,
   "metadata": {},
   "outputs": [
    {
     "name": "stdout",
     "output_type": "stream",
     "text": [
      "['मिठाई', 'मोती', 'किताब']\n"
     ]
    }
   ],
   "source": [
    "items = [\"मिठाई\", \"खिलौना\", \"किताब\"]\n",
    "items[1] = \"मोती\"\n",
    "print(items)"
   ]
  },
  {
   "cell_type": "markdown",
   "metadata": {},
   "source": [
    "आउटपुट:\n",
    "```\n",
    "['मिठाई', 'मोती', 'किताब']\n",
    "```"
   ]
  },
  {
   "cell_type": "markdown",
   "metadata": {},
   "source": [
    "### List Methods\n",
    "\n",
    "| Method | काम |\n",
    "|--------|-----|\n",
    "| `append(x)` | आख़िर में नया item जोड़ो |\n",
    "| `insert(i, x)` | किसी index पर नया item डालो |\n",
    "| `remove(x)` | किसी item को हटाओ |\n",
    "| `pop(i)` | index से item हटाओ (default = आख़िरी) |\n",
    "| `len(list)` | लिस्ट की लंबाई (कितने items हैं) |\n",
    "| `sort()` | लिस्ट को sort करो |\n",
    "| `reverse()` | उल्टा कर दो |"
   ]
  },
  {
   "cell_type": "code",
   "execution_count": 3,
   "metadata": {},
   "outputs": [
    {
     "name": "stdout",
     "output_type": "stream",
     "text": [
      "[4, 2, 9, 1, 7]\n",
      "[1, 2, 4, 7, 9]\n",
      "[9, 7, 4, 2, 1]\n"
     ]
    }
   ],
   "source": [
    "numbers = [4, 2, 9, 1]\n",
    "\n",
    "numbers.append(7)\n",
    "print(numbers)   # [4, 2, 9, 1, 7]\n",
    "\n",
    "numbers.sort()\n",
    "print(numbers)   # [1, 2, 4, 7, 9]\n",
    "\n",
    "numbers.reverse()\n",
    "print(numbers)   # [9, 7, 4, 2, 1]"
   ]
  },
  {
   "cell_type": "markdown",
   "metadata": {},
   "source": [
    "### List और Loop\n",
    "\n",
    "List के items को एक-एक करके पढ़ने के लिए loop का इस्तेमाल होता है।"
   ]
  },
  {
   "cell_type": "code",
   "execution_count": 4,
   "metadata": {},
   "outputs": [
    {
     "name": "stdout",
     "output_type": "stream",
     "text": [
      "सेब\n",
      "केला\n",
      "आम\n"
     ]
    }
   ],
   "source": [
    "fruits = [\"सेब\", \"केला\", \"आम\"]\n",
    "for fruit in fruits:\n",
    "    print(fruit)"
   ]
  },
  {
   "cell_type": "markdown",
   "metadata": {},
   "source": [
    "आउटपुट:\n",
    "```\n",
    "सेब\n",
    "केला\n",
    "आम\n",
    "```"
   ]
  },
  {
   "cell_type": "markdown",
   "metadata": {},
   "source": [
    "### अभ्यास प्रश्न\n"
   ]
  },
  {
   "cell_type": "markdown",
   "metadata": {},
   "source": [
    "\n",
    "1. पाँच दोस्तों के नामों की लिस्ट बनाइए और उन्हें प्रिंट कीजिए।"
   ]
  },
  {
   "cell_type": "code",
   "execution_count": null,
   "metadata": {},
   "outputs": [],
   "source": [
    "# अभ्यास कीजिए।"
   ]
  },
  {
   "cell_type": "markdown",
   "metadata": {},
   "source": [
    "2. लिस्ट `[10, 20, 30, 40, 50]` से तीसरा item हटाइए।"
   ]
  },
  {
   "cell_type": "code",
   "execution_count": null,
   "metadata": {},
   "outputs": [],
   "source": [
    "# अभ्यास कीजिए।"
   ]
  },
  {
   "cell_type": "markdown",
   "metadata": {},
   "source": [
    "\n",
    "3. एक लिस्ट बनाइए जिसमें संख्याएँ 1 से 10 तक हों, और उनका कुल योग (sum) निकालिए।"
   ]
  },
  {
   "cell_type": "code",
   "execution_count": null,
   "metadata": {},
   "outputs": [],
   "source": [
    "# अभ्यास कीजिए।"
   ]
  },
  {
   "cell_type": "markdown",
   "metadata": {},
   "source": [
    "\n",
    "4. फलों की लिस्ट में `\"अंगूर\"` जोड़कर sort कीजिए।"
   ]
  },
  {
   "cell_type": "code",
   "execution_count": null,
   "metadata": {},
   "outputs": [],
   "source": [
    "# अभ्यास कीजिए।"
   ]
  },
  {
   "cell_type": "markdown",
   "metadata": {},
   "source": [
    "\n",
    "5. नीचे दिए गए कोड का आउटपुट सोचकर बताइए:\n",
    "   ```python\n",
    "   nums = [2, 4, 6]\n",
    "   nums.append(8)\n",
    "   nums.remove(4)\n",
    "   print(nums)\n",
    "   ```"
   ]
  },
  {
   "cell_type": "code",
   "execution_count": null,
   "metadata": {},
   "outputs": [],
   "source": [
    "# अभ्यास कीजिए।"
   ]
  },
  {
   "cell_type": "markdown",
   "metadata": {},
   "source": [
    "### सीखने योग्य बातें\n",
    "\n",
    "- **List = डब्बों का झोला** (कई values एक साथ)।\n",
    "- Indexing से items निकाले जा सकते हैं।\n",
    "- Lists बदल भी सकती हैं।\n",
    "- कई methods (append, sort, remove) से काम आसान होता है।\n",
    "- Loop से list को एक-एक करके पढ़ा जा सकता है।"
   ]
  },
  {
   "cell_type": "markdown",
   "metadata": {},
   "source": [
    "---\n",
    "🔔 **अगला अध्याय:** \"कहानी में से चुनना – Tuples & Sets\" जहाँ हम सीखेंगे कि कब values को बदलना मना होता है (Tuple) और कब unique values चाहिए (Set)।"
   ]
  },
  {
   "cell_type": "markdown",
   "metadata": {},
   "source": [
    "<div style='display: flex; justify-content: space-between;'>\n",
    "  <a href='../chapter-05/hi.ipynb' style='background-color: #1E90FF; color: white; padding: 8px 16px; border-radius: 6px; text-decoration: none;'>⬅️ Previous</a>\n",
    "  <a href='../chapter-07/hi.ipynb' style='background-color: #28a745; color: white; padding: 8px 16px; border-radius: 6px; text-decoration: none;'>Next ➡️</a>\n",
    "</div>"
   ]
  }
 ],
 "metadata": {
  "kernelspec": {
   "display_name": "agents",
   "language": "python",
   "name": "python3"
  },
  "language_info": {
   "codemirror_mode": {
    "name": "ipython",
    "version": 3
   },
   "file_extension": ".py",
   "mimetype": "text/x-python",
   "name": "python",
   "nbconvert_exporter": "python",
   "pygments_lexer": "ipython3",
   "version": "3.12.11"
  }
 },
 "nbformat": 4,
 "nbformat_minor": 2
}
