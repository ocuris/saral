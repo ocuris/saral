{
 "cells": [
  {
   "cell_type": "markdown",
   "metadata": {},
   "source": [
    "# 📘 Python सीखें – आसान भाषा में\n",
    "## अध्याय 49: Python और Machine Learning – scikit-learn basics"
   ]
  },
  {
   "cell_type": "markdown",
   "metadata": {},
   "source": [
    "### कहानी\n",
    "राम अपनी shop के past sales data के आधार पर future sales predict करना चाहता था।\n",
    "श्याम ने कहा:\n",
    "> \"Python में scikit-learn library use करके supervised और unsupervised learning models train कर सकते हो।\"\n",
    "\n",
    "राम:\n",
    "> \"वाह! अब मैं trends देखकर business decisions ले सकता हूँ।\""
   ]
  },
  {
   "cell_type": "markdown",
   "metadata": {},
   "source": [
    "### scikit-learn क्या है?\n",
    "- Popular Python library for Machine Learning\n",
    "- Supervised Learning: Regression, Classification\n",
    "- Unsupervised Learning: Clustering, Dimensionality Reduction\n",
    "- Simple interface for training models, predicting, evaluating"
   ]
  },
  {
   "cell_type": "markdown",
   "metadata": {},
   "source": [
    "### Example 1: Simple Linear Regression\n",
    "```python\n",
    "from sklearn.linear_model import LinearRegression\n",
    "import numpy as np\n",
    "\n",
    "# Training data: X = day, y = sales\n",
    "X = np.array([1, 2, 3, 4, 5]).reshape(-1, 1)\n",
    "y = np.array([10, 15, 13, 18, 16])\n",
    "\n",
    "model = LinearRegression()\n",
    "model.fit(X, y)\n",
    "\n",
    "# Predict sales for day 6\n",
    "pred = model.predict([[6]])\n",
    "print(f'Predicted sales on day 6: {pred[0]:.2f}')\n",
    "```"
   ]
  },
  {
   "cell_type": "markdown",
   "metadata": {},
   "source": [
    "### Example 2: Train/Test Split and Accuracy\n",
    "```python\n",
    "from sklearn.model_selection import train_test_split\n",
    "from sklearn.metrics import mean_squared_error\n",
    "\n",
    "X_train, X_test, y_train, y_test = train_test_split(X, y, test_size=0.2, random_state=42)\n",
    "model.fit(X_train, y_train)\n",
    "y_pred = model.predict(X_test)\n",
    "\n",
    "mse = mean_squared_error(y_test, y_pred)\n",
    "print(f'Mean Squared Error: {mse:.2f}')\n",
    "```"
   ]
  },
  {
   "cell_type": "markdown",
   "metadata": {},
   "source": [
    "### Example 3: Classification Example (Iris Dataset)\n",
    "```python\n",
    "from sklearn.datasets import load_iris\n",
    "from sklearn.tree import DecisionTreeClassifier\n",
    "\n",
    "iris = load_iris()\n",
    "X, y = iris.data, iris.target\n",
    "\n",
    "clf = DecisionTreeClassifier()\n",
    "clf.fit(X, y)\n",
    "\n",
    "sample = [[5.1, 3.5, 1.4, 0.2]]\n",
    "pred_class = clf.predict(sample)\n",
    "print(f'Predicted class: {iris.target_names[pred_class][0]}')\n",
    "```"
   ]
  },
  {
   "cell_type": "markdown",
   "metadata": {},
   "source": [
    "### Best Practices\n",
    "- Train/Test Split → model evaluation\n",
    "- Scaling features if needed → StandardScaler / MinMaxScaler\n",
    "- Choose appropriate algorithm → Regression, Classification, Clustering\n",
    "- Evaluate using metrics → accuracy, MSE, confusion matrix\n",
    "- Save model for future use → joblib or pickle"
   ]
  },
  {
   "cell_type": "markdown",
   "metadata": {},
   "source": [
    "### अभ्यास प्रश्न\n",
    "1. Linear Regression model train करके sales predict करें।\n",
    "2. Dataset को train/test split करें और accuracy evaluate करें।\n",
    "3. Decision Tree या KNN classifier train करें और test data classify करें।\n",
    "4. Confusion matrix और accuracy metrics compute करें।\n",
    "5. Model save करके future predictions के लिए load करें।"
   ]
  },
  {
   "cell_type": "markdown",
   "metadata": {},
   "source": [
    "### सीखने योग्य बातें\n",
    "- Supervised learning: Regression और Classification\n",
    "- Model training, prediction, evaluation\n",
    "- Feature scaling और train/test split\n",
    "- Save/Load trained models for future use"
   ]
  },
  {
   "cell_type": "markdown",
   "metadata": {},
   "source": [
    "---\n",
    "🔔 **अगला अध्याय:** \"Python और Deep Learning – TensorFlow basics\""
   ]
  }
 ],
 "metadata": {
  "kernelspec": {
   "display_name": "Python 3",
   "language": "python",
   "name": "python3"
  },
  "language_info": {
   "name": "python",
   "version": "3.12.0"
  }
 },
 "nbformat": 4,
 "nbformat_minor": 2
}
