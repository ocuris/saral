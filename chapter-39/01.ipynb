{
 "cells": [
  {
   "cell_type": "markdown",
   "metadata": {},
   "source": [
    "# 📘 पायथन सीखें – आसान भाषा में\n",
    "## अध्याय 38: Python और Data Analysis – Pandas और Matplotlib"
   ]
  },
  {
   "cell_type": "markdown",
   "metadata": {},
   "source": [
    "### कहानी\n",
    "राम अपनी shop के sales data को analyze करना चाहता था।\n",
    "श्याम ने कहा:\n",
    "> \"Python में Pandas और Matplotlib use करके data को analyze और visualize कर सकते हो।\"\n",
    "\n",
    "राम:\n",
    "> \"वाह! अब मैं जान पाऊँगा कि कौन सा product ज्यादा बिक रहा है और trends क्या हैं।\""
   ]
  },
  {
   "cell_type": "markdown",
   "metadata": {},
   "source": [
    "### Pandas क्या है?\n",
    "- Powerful library for data manipulation और analysis\n",
    "- Data को **DataFrame** या **Series** में store करते हैं\n",
    "- CSV, Excel, SQL या JSON files से आसानी से data load कर सकते हैं"
   ]
  },
  {
   "cell_type": "markdown",
   "metadata": {},
   "source": [
    "### Matplotlib क्या है?\n",
    "- Data visualization के लिए Python library\n",
    "- Line chart, bar chart, histogram, pie chart आदि बनाना आसान\n",
    "- Pandas के साथ integrate होकर data insights दिखाने में helpful"
   ]
  },
  {
   "cell_type": "markdown",
   "metadata": {},
   "source": [
    "### Example 1: Pandas – Data Load और Basic Analysis\n",
    "```python\n",
    "import pandas as pd\n",
    "\n",
    "# CSV file load\n",
    "df = pd.read_csv('sales.csv')\n",
    "\n",
    "# Top 5 rows दिखाएँ\n",
    "print(df.head())\n",
    "\n",
    "# Summary statistics\n",
    "print(df.describe())\n",
    "\n",
    "# Specific column access\n",
    "print(df['product'])\n",
    "```"
   ]
  },
  {
   "cell_type": "markdown",
   "metadata": {},
   "source": [
    "### Example 2: Matplotlib – Line Chart\n",
    "```python\n",
    "import matplotlib.pyplot as plt\n",
    "\n",
    "# Sample data\n",
    "months = ['Jan', 'Feb', 'Mar', 'Apr']\n",
    "sales = [150, 200, 180, 220]\n",
    "\n",
    "plt.plot(months, sales, marker='o', color='blue')\n",
    "plt.title('Monthly Sales')\n",
    "plt.xlabel('Month')\n",
    "plt.ylabel('Sales')\n",
    "plt.grid(True)\n",
    "plt.show()\n",
    "```"
   ]
  },
  {
   "cell_type": "markdown",
   "metadata": {},
   "source": [
    "### Example 3: Pandas + Matplotlib – Bar Chart\n",
    "```python\n",
    "# Group by product and sum sales\n",
    "product_sales = df.groupby('product')['quantity'].sum()\n",
    "\n",
    "# Bar chart\n",
    "product_sales.plot(kind='bar', color='green')\n",
    "plt.title('Total Quantity Sold per Product')\n",
    "plt.xlabel('Product')\n",
    "plt.ylabel('Quantity')\n",
    "plt.show()\n",
    "```"
   ]
  },
  {
   "cell_type": "markdown",
   "metadata": {},
   "source": [
    "### Best Practices\n",
    "- Large datasets के लिए Pandas efficient methods (groupby, pivot) use करें\n",
    "- Visualizations readable और labeled हों\n",
    "- Always check missing values और clean data before analysis\n",
    "- Charts और tables दोनों से insights निकालें"
   ]
  },
  {
   "cell_type": "markdown",
   "metadata": {},
   "source": [
    "### अभ्यास प्रश्न\n",
    "1. CSV file load करके top 10 rows display करें।\n",
    "2. किसी column की summary statistics print करें।\n",
    "3. Line chart बनाइए जो sales trends दिखाए।\n",
    "4. Bar chart बनाइए जो products के total sales दिखाए।\n",
    "5. Pie chart बनाइए जो product-wise sales share दिखाए।"
   ]
  },
  {
   "cell_type": "markdown",
   "metadata": {},
   "source": [
    "### सीखने योग्य बातें\n",
    "- Pandas → Data manipulation और analysis\n",
    "- Matplotlib → Data visualization\n",
    "- CSV, Excel, SQL files से data load करना\n",
    "- Charts से insights निकालना सीखें"
   ]
  },
  {
   "cell_type": "markdown",
   "metadata": {},
   "source": [
    "---\n",
    "🔔 **अगला अध्याय:** \"Python और Web Scraping – BeautifulSoup और Requests\""
   ]
  }
 ],
 "metadata": {
  "kernelspec": {
   "display_name": "Python 3",
   "language": "python",
   "name": "python3"
  },
  "language_info": {
   "name": "python",
   "version": "3.12.0"
  }
 },
 "nbformat": 4,
 "nbformat_minor": 2
}
