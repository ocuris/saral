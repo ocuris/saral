{
 "cells": [
  {
   "cell_type": "markdown",
   "metadata": {},
   "source": [
    "# 📘 Python सीखें – आसान भाषा में\n",
    "## अध्याय 8: नाम से सामान ढूँढना – Dictionary"
   ]
  },
  {
   "cell_type": "markdown",
   "metadata": {},
   "source": [
    "### कहानी\n",
    "\n",
    "मोहन दुकान पर गया और बोला:\n",
    "> \"भैया, मुझे साबुन चाहिए।\"\n",
    "\n",
    "दुकानदार ने तुरंत रैक से साबुन निकाल दिया।\n",
    "\n",
    "मोहन ने सोचा:\n",
    "> \"ये दुकानदार हर सामान को उसके नाम से पहचानता है। उसे यह नहीं देखना पड़ता कि साबुन रैक की पहली पंक्ति में है या दूसरी में।\"\n",
    "\n",
    "रवि बोला:\n",
    "> \"भाई, यही तो Dictionary है। इसमें values (जैसे सामान) को हम keys (नाम) से ढूँढते हैं।\""
   ]
  },
  {
   "cell_type": "markdown",
   "metadata": {},
   "source": [
    "### Dictionary क्या है?\n",
    "- Dictionary = **key-value pairs** का collection।\n",
    "- Key = नाम (unique होना चाहिए)।\n",
    "- Value = उस नाम से जुड़ी जानकारी।\n",
    "\n",
    "| Feature | Dictionary |\n",
    "|----------|-------------|\n",
    "| Brackets | `{}` |\n",
    "| Structure | `key: value` |\n",
    "| Access | Key से |\n",
    "| Changeable | हाँ |\n",
    "| Ordered (Python 3.7+) | हाँ |\n"
   ]
  },
  {
   "cell_type": "code",
   "execution_count": null,
   "metadata": {},
   "outputs": [],
   "source": [
    "# Dictionary Example\n",
    "shop = {\n",
    "    \"साबुन\": 40,\n",
    "    \"तेल\": 120,\n",
    "    \"शैम्पू\": 5\n",
    "}\n",
    "\n",
    "print(shop[\"साबुन\"])   # Output: 40"
   ]
  },
  {
   "cell_type": "markdown",
   "metadata": {},
   "source": [
    "### Dictionary में Operations\n",
    "\n",
    "- Item जोड़ना: `dict[key] = value`\n",
    "- Item बदलना: `dict[key] = new_value`\n",
    "- Item हटाना: `del dict[key]`\n",
    "- Keys देखना: `dict.keys()`\n",
    "- Values देखना: `dict.values()`\n",
    "- Key और Value दोनों: `dict.items()`"
   ]
  },
  {
   "cell_type": "code",
   "execution_count": null,
   "metadata": {},
   "outputs": [],
   "source": [
    "shop[\"टूथपेस्ट\"] = 60   # नया item जोड़ना\n",
    "shop[\"तेल\"] = 150       # value बदलना\n",
    "del shop[\"शैम्पू\"]       # item हटाना\n",
    "\n",
    "print(shop)\n",
    "print(shop.keys())\n",
    "print(shop.values())\n",
    "print(shop.items())"
   ]
  },
  {
   "cell_type": "markdown",
   "metadata": {},
   "source": [
    "### Nested Dictionary\n",
    "Dictionary के अंदर Dictionary भी रख सकते हैं।\n"
   ]
  },
  {
   "cell_type": "code",
   "execution_count": null,
   "metadata": {},
   "outputs": [],
   "source": [
    "students = {\n",
    "    \"मोहन\": {\"age\": 15, \"class\": 10},\n",
    "    \"सीमा\": {\"age\": 14, \"class\": 9}\n",
    "}\n",
    "\n",
    "print(students[\"मोहन\"][\"class\"])  # Output: 10"
   ]
  },
  {
   "cell_type": "markdown",
   "metadata": {},
   "source": [
    "### अभ्यास प्रश्न\n",
    "1. एक Dictionary बनाइए जिसमें 3 फलों के नाम key हों और उनकी कीमत value हो।\n",
    "2. Dictionary में एक नया फल और उसकी कीमत जोड़िए।\n",
    "3. किसी एक फल की कीमत बदल दीजिए।\n",
    "4. Dictionary से एक फल को हटा दीजिए।\n",
    "5. एक Nested Dictionary बनाइए जिसमें छात्रों के नाम key हों और value में उनकी उम्र और क्लास दी गई हो।\n",
    "6. नीचे दिए गए कोड का आउटपुट बताइए:\n",
    "   ```python\n",
    "   data = {\"a\": 1, \"b\": 2}\n",
    "   data[\"c\"] = 3\n",
    "   print(len(data))\n",
    "   ```"
   ]
  },
  {
   "cell_type": "markdown",
   "metadata": {},
   "source": [
    "### सीखने योग्य बातें\n",
    "- Dictionary = key-value pairs का collection।\n",
    "- Key unique होती है, Value कुछ भी हो सकती है।\n",
    "- Dictionary में जोड़ना, बदलना और हटाना आसान है।\n",
    "- Nested Dictionary से complex data store किया जा सकता है।"
   ]
  },
  {
   "cell_type": "markdown",
   "metadata": {},
   "source": [
    "---\n",
    "🔔 **अगला अध्याय:** \"Functions – काम को पैक करना\" जहाँ हम सीखेंगे कि बार-बार इस्तेमाल होने वाले code को एक जगह कैसे रखा जाता है।"
   ]
  }
 ],
 "metadata": {
  "kernelspec": {
   "display_name": "Python 3",
   "language": "python",
   "name": "python3"
  },
  "language_info": {
   "name": "python",
   "version": "3.12.0"
  }
 },
 "nbformat": 4,
 "nbformat_minor": 2
}
