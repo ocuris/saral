{
 "cells": [
  {
   "cell_type": "markdown",
   "metadata": {},
   "source": [
    "# 📘 Python सीखें – आसान भाषा में\n",
    "## अध्याय 47: Python और Database Integration – SQLite और MySQL basics"
   ]
  },
  {
   "cell_type": "markdown",
   "metadata": {},
   "source": [
    "### कहानी\n",
    "राम अपनी shop के sales और inventory data store करना चाहता था ताकि analysis आसान हो।\n",
    "श्याम ने कहा:\n",
    "> \"Python में SQLite और MySQL use करके relational databases manage कर सकते हो।\"\n",
    "\n",
    "राम:\n",
    "> \"वाह! अब मैं data safe और structured तरीके से रख सकता हूँ।\""
   ]
  },
  {
   "cell_type": "markdown",
   "metadata": {},
   "source": [
    "### SQLite क्या है?\n",
    "- Lightweight, file-based database\n",
    "- Python में built-in `sqlite3` module के साथ काम करता है\n",
    "- Small projects और testing के लिए ideal"
   ]
  },
  {
   "cell_type": "markdown",
   "metadata": {},
   "source": [
    "### Example 1: SQLite Database Create और Insert\n",
    "```python\n",
    "import sqlite3\n",
    "\n",
    "conn = sqlite3.connect('shop.db')  # Database create/connect\n",
    "cursor = conn.cursor()\n",
    "\n",
    "# Table create\n",
    "cursor.execute('''CREATE TABLE IF NOT EXISTS products (\n",
    "                  id INTEGER PRIMARY KEY,\n",
    "                  name TEXT,\n",
    "                  price REAL)''')\n",
    "\n",
    "# Data insert\n",
    "cursor.execute('INSERT INTO products (name, price) VALUES (?, ?)', ('Wheat', 20.5))\n",
    "conn.commit()\n",
    "\n",
    "# Data fetch\n",
    "cursor.execute('SELECT * FROM products')\n",
    "print(cursor.fetchall())\n",
    "\n",
    "conn.close()\n",
    "```"
   ]
  },
  {
   "cell_type": "markdown",
   "metadata": {},
   "source": [
    "### MySQL क्या है?\n",
    "- Popular server-based relational database\n",
    "- Python में `mysql-connector-python` या `PyMySQL` library use करें\n",
    "- Large applications के लिए suitable"
   ]
  },
  {
   "cell_type": "markdown",
   "metadata": {},
   "source": [
    "### Example 2: MySQL Connection और Query\n",
    "```python\n",
    "import mysql.connector\n",
    "\n",
    "conn = mysql.connector.connect(\n",
    "    host='localhost',\n",
    "    user='root',\n",
    "    password='password',\n",
    "    database='shop'\n",
    ")\n",
    "cursor = conn.cursor()\n",
    "\n",
    "# Data insert\n",
    "cursor.execute('INSERT INTO products (name, price) VALUES (%s, %s)', ('Rice', 50))\n",
    "conn.commit()\n",
    "\n",
    "# Data fetch\n",
    "cursor.execute('SELECT * FROM products')\n",
    "for row in cursor.fetchall():\n",
    "    print(row)\n",
    "\n",
    "conn.close()\n",
    "```"
   ]
  },
  {
   "cell_type": "markdown",
   "metadata": {},
   "source": [
    "### Best Practices\n",
    "- Always use `commit()` after insert/update/delete\n",
    "- Close connection after use\n",
    "- Parameterized queries → SQL injection से बचने के लिए\n",
    "- Use exception handling (`try-except`) for robust code\n",
    "- SQLite → small apps, MySQL → large apps or production"
   ]
  },
  {
   "cell_type": "markdown",
   "metadata": {},
   "source": [
    "### अभ्यास प्रश्न\n",
    "1. SQLite में table create करें और data insert करें।\n",
    "2. SQLite से सभी data fetch करें और print करें।\n",
    "3. MySQL में table create करें और records insert करें।\n",
    "4. MySQL से data fetch करके Python में process करें।\n",
    "5. Parameterized queries use करके update और delete operations perform करें।"
   ]
  },
  {
   "cell_type": "markdown",
   "metadata": {},
   "source": [
    "### सीखने योग्य बातें\n",
    "- Relational database basics\n",
    "- SQLite → file-based, quick setup\n",
    "- MySQL → server-based, large projects\n",
    "- CRUD operations: Create, Read, Update, Delete\n",
    "- Safe queries → parameterized statements"
   ]
  },
  {
   "cell_type": "markdown",
   "metadata": {},
   "source": [
    "---\n",
    "🔔 **अगला अध्याय:** \"Python और Data Visualization – matplotlib और seaborn basics\""
   ]
  }
 ],
 "metadata": {
  "kernelspec": {
   "display_name": "Python 3",
   "language": "python",
   "name": "python3"
  },
  "language_info": {
   "name": "python",
   "version": "3.12.0"
  }
 },
 "nbformat": 4,
 "nbformat_minor": 2
}
