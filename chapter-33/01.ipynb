{
 "cells": [
  {
   "cell_type": "markdown",
   "metadata": {},
   "source": [
    "# 📘 पायथन सीखें – आसान भाषा में\n",
    "## अध्याय 33: Python और Web Scraping – BeautifulSoup और Requests"
   ]
  },
  {
   "cell_type": "markdown",
   "metadata": {},
   "source": [
    "### कहानी\n",
    "राम को daily news headlines collect करनी थी।\n",
    "श्याम ने कहा:\n",
    "> \"Python और BeautifulSoup का इस्तेमाल करो। Web scraping से ये आसानी से हो जाएगा।\"\n",
    "\n",
    "राम:\n",
    "> \"अरे वाह! अब मैं खुद headlines scrape कर सकता हूँ और app में दिखा सकता हूँ।\""
   ]
  },
  {
   "cell_type": "markdown",
   "metadata": {},
   "source": [
    "### Web Scraping क्या है?\n",
    "- Websites से data automatically collect करना\n",
    "- Mostly HTML parsing\n",
    "- Python में popular library: `BeautifulSoup` और `requests`"
   ]
  },
  {
   "cell_type": "markdown",
   "metadata": {},
   "source": [
    "### Step 1: Install Required Libraries\n",
    "```bash\n",
    "pip install requests beautifulsoup4\n",
    "```"
   ]
  },
  {
   "cell_type": "markdown",
   "metadata": {},
   "source": [
    "### Example 1: Simple HTML Request\n",
    "```python\n",
    "import requests\n",
    "from bs4 import BeautifulSoup\n",
    "\n",
    "url = 'https://www.example.com'\n",
    "response = requests.get(url)\n",
    "html = response.text\n",
    "soup = BeautifulSoup(html, 'html.parser')\n",
    "\n",
    "print(soup.prettify())  # formatted HTML\n",
    "```"
   ]
  },
  {
   "cell_type": "markdown",
   "metadata": {},
   "source": [
    "### Example 2: Extract Specific Tags\n",
    "```python\n",
    "# सभी headlines को extract करना\n",
    "headlines = soup.find_all('h2')  # assume h2 tags contain headlines\n",
    "for h in headlines:\n",
    "    print(h.text)\n",
    "```"
   ]
  },
  {
   "cell_type": "markdown",
   "metadata": {},
   "source": [
    "### Example 3: Extract Links\n",
    "```python\n",
    "links = soup.find_all('a')  # all anchor tags\n",
    "for link in links:\n",
    "    print(link.get('href'))\n",
    "```"
   ]
  },
  {
   "cell_type": "markdown",
   "metadata": {},
   "source": [
    "### Example 4: CSS Selectors\n",
    "```python\n",
    "items = soup.select('.news-item')  # select elements with class 'news-item'\n",
    "for item in items:\n",
    "    print(item.text)\n",
    "```"
   ]
  },
  {
   "cell_type": "markdown",
   "metadata": {},
   "source": [
    "### Best Practices\n",
    "- Respect website `robots.txt`\n",
    "- Avoid too many requests in short time → use time.sleep()\n",
    "- Don’t scrape copyrighted content without permission"
   ]
  },
  {
   "cell_type": "markdown",
   "metadata": {},
   "source": [
    "### अभ्यास प्रश्न\n",
    "1. किसी news website से top 5 headlines scrape कीजिए।\n",
    "2. किसी website से सभी links collect करके print कीजिए।\n",
    "3. किसी online book store page से book titles scrape कीजिए।\n",
    "4. BeautifulSoup में find() और find_all() का इस्तेमाल करके अलग-अलग tags extract कीजिए।\n",
    "5. Scraped data को CSV file में save कीजिए।"
   ]
  },
  {
   "cell_type": "markdown",
   "metadata": {},
   "source": [
    "### सीखने योग्य बातें\n",
    "- Web scraping → automatic data collection\n",
    "- `requests.get()` → page request\n",
    "- `BeautifulSoup` → HTML parsing\n",
    "- `find()`, `find_all()`, `select()` → elements extract\n",
    "- Scraped data → files / databases / APIs में store किया जा सकता है"
   ]
  },
  {
   "cell_type": "markdown",
   "metadata": {},
   "source": [
    "---\n",
    "🔔 **अगला अध्याय:** \"Python और Automation – Selenium और Task Automation\""
   ]
  }
 ],
 "metadata": {
  "kernelspec": {
   "display_name": "Python 3",
   "language": "python",
   "name": "python3"
  },
  "language_info": {
   "name": "python",
   "version": "3.12.0"
  }
 },
 "nbformat": 4,
 "nbformat_minor": 2
}
