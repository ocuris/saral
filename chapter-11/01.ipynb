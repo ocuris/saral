{
 "cells": [
  {
   "cell_type": "markdown",
   "metadata": {},
   "source": [
    "# 📘 Python सीखें – आसान भाषा में\n",
    "## अध्याय 11: List Comprehension – Shortcuts का जादू"
   ]
  },
  {
   "cell_type": "markdown",
   "metadata": {},
   "source": [
    "### कहानी\n",
    "\n",
    "मोहन और उसकी दोस्त सीमा होमवर्क कर रहे थे। टीचर ने कहा:\n",
    "> \"1 से 10 तक की संख्याओं के वर्ग (square) लिखो।\"\n",
    "\n",
    "मोहन ने ऐसे लिखा:\n",
    "```python\n",
    "squares = []\n",
    "for i in range(1, 11):\n",
    "    squares.append(i*i)\n",
    "```\n",
    "\n",
    "सीमा ने शॉर्टकट से लिखा:\n",
    "```python\n",
    "squares = [i*i for i in range(1, 11)]\n",
    "```\n",
    "\n",
    "मोहन बोला:\n",
    "> \"अरे वाह! इतना छोटा code? यही तो है **List Comprehension का जादू।\""
   ]
  },
  {
   "cell_type": "markdown",
   "metadata": {},
   "source": [
    "### List Comprehension क्या है?\n",
    "- Shortcut तरीका list बनाने का ✅\n",
    "- Loop + condition → एक ही line में list\n",
    "\n",
    "| तरीका | Example |\n",
    "|-------|---------|\n",
    "| Normal loop | `squares = []` + for loop + append |\n",
    "| List Comprehension | `[i*i for i in range(1, 11)]` |"
   ]
  },
  {
   "cell_type": "code",
   "execution_count": null,
   "metadata": {},
   "outputs": [],
   "source": [
    "# Normal तरीका\n",
    "numbers = []\n",
    "for i in range(1, 6):\n",
    "    numbers.append(i)\n",
    "print(numbers)\n",
    "\n",
    "# List Comprehension तरीका\n",
    "numbers2 = [i for i in range(1, 6)]\n",
    "print(numbers2)"
   ]
  },
  {
   "cell_type": "markdown",
   "metadata": {},
   "source": [
    "### Example 1: Squares\n",
    "```python\n",
    "squares = [i*i for i in range(1, 11)]\n",
    "print(squares)\n",
    "```"
   ]
  },
  {
   "cell_type": "markdown",
   "metadata": {},
   "source": [
    "### Example 2: Even Numbers\n",
    "```python\n",
    "evens = [i for i in range(1, 11) if i % 2 == 0]\n",
    "print(evens)\n",
    "```"
   ]
  },
  {
   "cell_type": "markdown",
   "metadata": {},
   "source": [
    "### Example 3: Words to Uppercase\n",
    "```python\n",
    "words = [\"apple\", \"banana\", \"mango\"]\n",
    "upper_words = [w.upper() for w in words]\n",
    "print(upper_words)\n",
    "```"
   ]
  },
  {
   "cell_type": "markdown",
   "metadata": {},
   "source": [
    "### अभ्यास प्रश्न\n",
    "1. List comprehension से 1 से 20 तक के वर्ग (squares) बनाइए।\n",
    "2. List comprehension से 1 से 30 तक के even numbers निकालिए।\n",
    "3. एक list = [\"ram\", \"shyam\", \"geeta\"] है। List comprehension से इन्हें capital letters में बदलें।\n",
    "4. List comprehension से 1 से 50 तक के ऐसे numbers निकालिए जो 5 से divisible हों।\n",
    "5. नीचे दिए गए code का आउटपुट बताइए:\n",
    "   ```python\n",
    "   result = [i*2 for i in range(5) if i%2==1]\n",
    "   print(result)\n",
    "   ```"
   ]
  },
  {
   "cell_type": "code",
   "execution_count": null,
   "metadata": {},
   "outputs": [],
   "source": []
  },
  {
   "cell_type": "markdown",
   "metadata": {},
   "source": [
    "### सीखने योग्य बातें\n",
    "- List comprehension → list बनाने का छोटा और fast तरीका।\n",
    "- Syntax: `[expression for item in iterable if condition]`\n",
    "- Loop और condition दोनों एक line में लिख सकते हैं।"
   ]
  },
  {
   "cell_type": "markdown",
   "metadata": {},
   "source": [
    "---\n",
    "🔔 **अगला अध्याय:** \"Dictionary – शब्दकोश का जादू\" जहाँ हम key-value pair के साथ काम करना सीखेंगे।"
   ]
  }
 ],
 "metadata": {
  "kernelspec": {
   "display_name": "Python 3",
   "language": "python",
   "name": "python3"
  },
  "language_info": {
   "name": "python",
   "version": "3.12.0"
  }
 },
 "nbformat": 4,
 "nbformat_minor": 2
}
