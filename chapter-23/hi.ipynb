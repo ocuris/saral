{
 "cells": [
  {
   "cell_type": "markdown",
   "metadata": {},
   "source": [
    "# 📘 Python सीखें – आसान भाषा में\n",
    "## अध्याय 23: Encapsulation – डेटा छुपाना और सुरक्षित रखना"
   ]
  },
  {
   "cell_type": "markdown",
   "metadata": {},
   "source": [
    "### कहानी\n",
    "श्याम अपने गाँव के बैंक में clerk था। उसने एक system बनाया जहाँ हर customer का balance दिखता था।\n",
    "राम ने कहा:\n",
    "> \"अगर कोई सीधे balance बदल दे तो? बिना permission withdrawal कर ले तो?\"\n",
    "\n",
    "श्याम बोला:\n",
    "> \"Python में solution है – **Encapsulation**। इससे हम data को hide और protect कर सकते हैं।\""
   ]
  },
  {
   "cell_type": "markdown",
   "metadata": {},
   "source": [
    "### Encapsulation क्या है?\n",
    "- Data और methods को एक unit (class) में बांधना।\n",
    "- Data को सीधे access न करने देना, बल्कि methods के जरिए access करना।\n",
    "- Public, Protected, Private access modifiers से control करना।"
   ]
  },
  {
   "cell_type": "markdown",
   "metadata": {},
   "source": [
    "### Access Modifiers\n",
    "| Modifier   | Syntax   | Meaning |\n",
    "|------------|----------|---------|\n",
    "| Public     | normal   | कहीं से भी access हो सकता है |\n",
    "| Protected  | _single  | class और child class से access |\n",
    "| Private    | __double | सिर्फ़ class के अंदर से access |"
   ]
  },
  {
   "cell_type": "code",
   "execution_count": null,
   "metadata": {},
   "outputs": [],
   "source": [
    "class BankAccount:\n",
    "    def __init__(self, owner, balance):\n",
    "        self.owner = owner        # Public\n",
    "        self._balance = balance   # Protected\n",
    "        self.__pin = 1234         # Private\n",
    "\n",
    "    def show_balance(self):\n",
    "        print(f\"{self.owner} का balance: {self._balance}\")\n",
    "\n",
    "    def withdraw(self, amount, pin):\n",
    "        if pin == self.__pin:\n",
    "            if amount <= self._balance:\n",
    "                self._balance -= amount\n",
    "                print(\"Withdraw successful!\")\n",
    "            else:\n",
    "                print(\"Insufficient balance!\")\n",
    "        else:\n",
    "            print(\"Wrong PIN!\")\n",
    "\n",
    "acc = BankAccount(\"Rohan\", 5000)\n",
    "acc.show_balance()\n",
    "acc.withdraw(1000, 1234)\n",
    "acc.show_balance()"
   ]
  },
  {
   "cell_type": "markdown",
   "metadata": {},
   "source": [
    "### क्यों ज़रूरी है Encapsulation?\n",
    "- Data security\n",
    "- Direct modification से बचाव\n",
    "- Code को cleaner और controlled बनाना"
   ]
  },
  {
   "cell_type": "markdown",
   "metadata": {},
   "source": [
    "### Example: Private variable hack\n",
    "```python\n",
    "class Student:\n",
    "    def __init__(self, name):\n",
    "        self.__name = name\n",
    "\n",
    "s = Student(\"Rohan\")\n",
    "print(s._Student__name)   # name mangling से access\n",
    "```\n",
    "👉 इससे समझ आता है कि private data पूरी तरह छुपा नहीं है, लेकिन convention है कि उसे छेड़ना नहीं चाहिए।"
   ]
  },
  {
   "cell_type": "markdown",
   "metadata": {},
   "source": [
    "### अभ्यास प्रश्न\n",
    "1. एक `Employee` class बनाइए जिसमें name और private salary हो। Salary सिर्फ method से ही access हो।\n",
    "2. एक `PasswordManager` class बनाइए जिसमें password private हो और check करने का method हो।\n",
    "3. एक `ATM` class बनाइए जिसमें private pin और balance हो। Withdraw और deposit methods बनाइए।\n",
    "4. Protected variable का example बनाइए जहाँ child class उसे access करे।\n",
    "5. Private variable को name mangling से access करने का demo दिखाइए।"
   ]
  },
  {
   "cell_type": "markdown",
   "metadata": {},
   "source": [
    "### सीखने योग्य बातें\n",
    "- Encapsulation = Data hiding + controlled access.\n",
    "- Access modifiers: Public, Protected, Private.\n",
    "- `__private` variables को methods से ही handle करना चाहिए।\n",
    "- Convention → private data से बाहर छेड़छाड़ नहीं करनी चाहिए।"
   ]
  },
  {
   "cell_type": "markdown",
   "metadata": {},
   "source": [
    "---\n",
    "🔔 **अगला अध्याय:** \"Abstraction – ज़रूरी बातें दिखाओ, details छुपाओ\" जहाँ हम OOP का दूसरा pillar सीखेंगे।"
   ]
  }
 ],
 "metadata": {
  "kernelspec": {
   "display_name": "Python 3",
   "language": "python",
   "name": "python3"
  },
  "language_info": {
   "name": "python",
   "version": "3.12.0"
  }
 },
 "nbformat": 4,
 "nbformat_minor": 2
}
