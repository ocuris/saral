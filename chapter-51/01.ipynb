{
 "cells": [
  {
   "cell_type": "markdown",
   "metadata": {},
   "source": [
    "# 📘 Python सीखें – आसान भाषा में\n",
    "## अध्याय 51: Python Project – End-to-End Application Development"
   ]
  },
  {
   "cell_type": "markdown",
   "metadata": {},
   "source": [
    "### कहानी\n",
    "राम अब अपने shop के लिए automated inventory और sales management system बनाना चाहता था।\n",
    "श्याम ने कहा:\n",
    "> \"Python में हम database, API और UI को जोड़कर full application बना सकते हैं।\"\n",
    "\n",
    "राम:\n",
    "> \"वाह! अब मेरा shop modern और automated हो जाएगा।\""
   ]
  },
  {
   "cell_type": "markdown",
   "metadata": {},
   "source": [
    "### Project Components\n",
    "- **Database**: SQLite/MySQL to store products and sales\n",
    "- **API**: Flask/Django for data interaction\n",
    "- **User Interface**: Tkinter or web frontend\n",
    "- **Automation**: Scheduled scripts or background tasks\n",
    "- **Data Visualization**: matplotlib/seaborn for reports"
   ]
  },
  {
   "cell_type": "markdown",
   "metadata": {},
   "source": [
    "### Example 1: Flask API for Product Management\n",
    "```python\n",
    "from flask import Flask, request, jsonify\n",
    "import sqlite3\n",
    "\n",
    "app = Flask(__name__)\n",
    "\n",
    "@app.route('/products', methods=['GET'])\n",
    "def get_products():\n",
    "    conn = sqlite3.connect('shop.db')\n",
    "    cursor = conn.cursor()\n",
    "    cursor.execute('SELECT * FROM products')\n",
    "    products = cursor.fetchall()\n",
    "    conn.close()\n",
    "    return jsonify(products)\n",
    "\n",
    "@app.route('/products', methods=['POST'])\n",
    "def add_product():\n",
    "    data = request.json\n",
    "    conn = sqlite3.connect('shop.db')\n",
    "    cursor = conn.cursor()\n",
    "    cursor.execute('INSERT INTO products (name, price) VALUES (?, ?)', (data['name'], data['price']))\n",
    "    conn.commit()\n",
    "    conn.close()\n",
    "    return jsonify({'message': 'Product added successfully'})\n",
    "\n",
    "if __name__ == '__main__':\n",
    "    app.run(debug=True)\n",
    "```"
   ]
  },
  {
   "cell_type": "markdown",
   "metadata": {},
   "source": [
    "### Example 2: Tkinter GUI for Sales Entry\n",
    "```python\n",
    "import tkinter as tk\n",
    "from tkinter import messagebox\n",
    "import sqlite3\n",
    "\n",
    "def add_sale():\n",
    "    product = entry_product.get()\n",
    "    qty = entry_qty.get()\n",
    "    conn = sqlite3.connect('shop.db')\n",
    "    cursor = conn.cursor()\n",
    "    cursor.execute('INSERT INTO sales (product, qty) VALUES (?, ?)', (product, qty))\n",
    "    conn.commit()\n",
    "    conn.close()\n",
    "    messagebox.showinfo('Success', 'Sale added!')\n",
    "\n",
    "root = tk.Tk()\n",
    "root.title('Sales Entry')\n",
    "\n",
    "tk.Label(root, text='Product').grid(row=0, column=0)\n",
    "tk.Label(root, text='Quantity').grid(row=1, column=0)\n",
    "\n",
    "entry_product = tk.Entry(root)\n",
    "entry_product.grid(row=0, column=1)\n",
    "entry_qty = tk.Entry(root)\n",
    "entry_qty.grid(row=1, column=1)\n",
    "\n",
    "tk.Button(root, text='Add Sale', command=add_sale).grid(row=2, column=0, columnspan=2)\n",
    "root.mainloop()\n",
    "```"
   ]
  },
  {
   "cell_type": "markdown",
   "metadata": {},
   "source": [
    "### Best Practices\n",
    "- Modular code → separate files for DB, API, UI\n",
    "- Error handling → try-except, validations\n",
    "- Secure API endpoints → authentication\n",
    "- Logging → keep track of user actions\n",
    "- Version control → git for project management"
   ]
  },
  {
   "cell_type": "markdown",
   "metadata": {},
   "source": [
    "### अभ्यास प्रश्न\n",
    "1. Flask API से products list fetch करें और GUI में दिखाएँ।\n",
    "2. Sales entry को database में store करें।\n",
    "3. Data visualization component add करें (e.g., daily sales chart)।\n",
    "4. Scheduled script लिखें जो daily summary email भेजे।\n",
    "5. Modularize code: separate files for DB, API, GUI, and scripts।"
   ]
  },
  {
   "cell_type": "markdown",
   "metadata": {},
   "source": [
    "### सीखने योग्य बातें\n",
    "- End-to-end application flow: DB → API → GUI → Automation → Visualization\n",
    "- Modular, secure और maintainable code practices\n",
    "- Real-world project development experience with Python"
   ]
  },
  {
   "cell_type": "markdown",
   "metadata": {},
   "source": [
    "---\n",
    "🎉 Congratulations! आप Python course के सभी 51 chapters complete कर चुके हैं। अब आप real-world Python applications बना सकते हैं।"
   ]
  }
 ],
 "metadata": {
  "kernelspec": {
   "display_name": "Python 3",
   "language": "python",
   "name": "python3"
  },
  "language_info": {
   "name": "python",
   "version": "3.12.0"
  }
 },
 "nbformat": 4,
 "nbformat_minor": 2
}
