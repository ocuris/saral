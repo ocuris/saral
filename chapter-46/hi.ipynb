{
 "cells": [
  {
   "cell_type": "markdown",
   "metadata": {},
   "source": [
    "# 📘 Python सीखें – आसान भाषा में\n",
    "## अध्याय 46: Python और API Integration – requests और JSON handling"
   ]
  },
  {
   "cell_type": "markdown",
   "metadata": {},
   "source": [
    "### कहानी\n",
    "राम अपनी shop के लिए weather data और stock prices को automatically fetch करना चाहता था।\n",
    "श्याम ने कहा:\n",
    "> \"Python में requests library और JSON handling से APIs से data आसानी से ले सकते हो।\"\n",
    "\n",
    "राम:\n",
    "> \"वाह! अब मुझे हर जगह manually data collect नहीं करना पड़ेगा।\""
   ]
  },
  {
   "cell_type": "markdown",
   "metadata": {},
   "source": [
    "### requests library क्या है?\n",
    "- HTTP requests भेजने के लिए Python library\n",
    "- GET, POST, PUT, DELETE requests support करती है\n",
    "- API से data fetch करने के लिए widely use होती है"
   ]
  },
  {
   "cell_type": "markdown",
   "metadata": {},
   "source": [
    "### Example 1: Simple GET Request\n",
    "```python\n",
    "import requests\n",
    "\n",
    "url = 'https://api.github.com'\n",
    "response = requests.get(url)\n",
    "\n",
    "print(response.status_code)\n",
    "print(response.json())\n",
    "```"
   ]
  },
  {
   "cell_type": "markdown",
   "metadata": {},
   "source": [
    "### Example 2: GET Request with Parameters\n",
    "```python\n",
    "params = {'q': 'Python', 'sort': 'stars'}\n",
    "url = 'https://api.github.com/search/repositories'\n",
    "\n",
    "response = requests.get(url, params=params)\n",
    "data = response.json()\n",
    "print(data['items'][0]['name'])  # top repo name\n",
    "```"
   ]
  },
  {
   "cell_type": "markdown",
   "metadata": {},
   "source": [
    "### Example 3: POST Request\n",
    "```python\n",
    "url = 'https://httpbin.org/post'\n",
    "payload = {'username': 'ram', 'password': '1234'}\n",
    "\n",
    "response = requests.post(url, json=payload)\n",
    "print(response.status_code)\n",
    "print(response.json())\n",
    "```"
   ]
  },
  {
   "cell_type": "markdown",
   "metadata": {},
   "source": [
    "### JSON Handling\n",
    "- `response.json()` → JSON data को Python dict में convert करता है\n",
    "- Nested JSON → dictionary और list access करना\n",
    "- Example:\n",
    "```python\n",
    "data = response.json()\n",
    "print(data['key']['subkey'])\n",
    "```"
   ]
  },
  {
   "cell_type": "markdown",
   "metadata": {},
   "source": [
    "### Best Practices\n",
    "- API keys और credentials `.env` file में रखें\n",
    "- Error handling: `try-except` और `response.status_code` check करें\n",
    "- Rate limits और request headers का ध्यान रखें\n",
    "- JSON structure समझकर data parse करें"
   ]
  },
  {
   "cell_type": "markdown",
   "metadata": {},
   "source": [
    "### अभ्यास प्रश्न\n",
    "1. किसी public API से data fetch करें और JSON output print करें।\n",
    "2. GET request के साथ parameters भेजें और top result extract करें।\n",
    "3. POST request भेजें और response handle करें।\n",
    "4. JSON response से nested data extract करें।\n",
    "5. API key use करके authenticated request भेजें।"
   ]
  },
  {
   "cell_type": "markdown",
   "metadata": {},
   "source": [
    "### सीखने योग्य बातें\n",
    "- requests → GET, POST, PUT, DELETE requests\n",
    "- JSON → structured data handling\n",
    "- APIs से automated data fetch करना\n",
    "- Error handling और authentication"
   ]
  },
  {
   "cell_type": "markdown",
   "metadata": {},
   "source": [
    "---\n",
    "🔔 **अगला अध्याय:** \"Python और Database Integration – SQLite और MySQL basics\""
   ]
  },
  {
   "cell_type": "markdown",
   "metadata": {},
   "source": [
    "<div style='display: flex; justify-content: space-between;'>\n",
    "  <a href='../chapter-45/hi.ipynb' style='background-color: #1E90FF; color: white; padding: 8px 16px; border-radius: 6px; text-decoration: none;'>⬅️ Previous</a>\n",
    "  <a href='../chapter-47/hi.ipynb' style='background-color: #28a745; color: white; padding: 8px 16px; border-radius: 6px; text-decoration: none;'>Next ➡️</a>\n",
    "</div>"
   ]
  }
 ],
 "metadata": {
  "kernelspec": {
   "display_name": "Python 3",
   "language": "python",
   "name": "python3"
  },
  "language_info": {
   "name": "python",
   "version": "3.12.0"
  }
 },
 "nbformat": 4,
 "nbformat_minor": 2
}
