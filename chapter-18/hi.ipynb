{
 "cells": [
  {
   "cell_type": "markdown",
   "metadata": {},
   "source": [
    "# 📘 Python सीखें – आसान भाषा में\n",
    "## अध्याय 18: Object-Oriented Programming – ऑब्जेक्ट्स की दुनिया"
   ]
  },
  {
   "cell_type": "markdown",
   "metadata": {},
   "source": [
    "### कहानी\n",
    "\n",
    "राहुल और सीमा एक खिलौनों की दुकान पर गए।\n",
    "राहुल ने कहा:\n",
    "> \"देखो ये कार, ये ट्रक, और ये बस — सब दिखने में अलग हैं लेकिन सभी **गाड़ियों** की श्रेणी में आते हैं।\"\n",
    "\n",
    "सीमा ने जवाब दिया:\n",
    "> \"मतलब सबके पास **समान गुण** (जैसे wheels) और **समान क्रियाएँ** (जैसे चलना) हैं।\"\n",
    "\n",
    "राहुल मुस्कुराया:\n",
    "> \"बिलकुल! Python भी चीज़ों (objects) को इसी तरह समझता है। यही है **Object-Oriented Programming (OOP)।** 🚗🚙🚌\""
   ]
  },
  {
   "cell_type": "markdown",
   "metadata": {},
   "source": [
    "### OOP Basics\n",
    "- **Class** → किसी object का blueprint (ढाँचा)\n",
    "- **Object** → class का असली रूप (instance)\n",
    "- **Attributes** → object की properties (data)\n",
    "- **Methods** → object के actions (functions)\n",
    "- 4 मुख्य pillars:\n",
    "  1. Encapsulation\n",
    "  2. Abstraction\n",
    "  3. Inheritance\n",
    "  4. Polymorphism"
   ]
  },
  {
   "cell_type": "code",
   "execution_count": null,
   "metadata": {},
   "outputs": [],
   "source": [
    "# Class और Object का उदाहरण\n",
    "class Car:\n",
    "    def __init__(self, brand, color):\n",
    "        self.brand = brand\n",
    "        self.color = color\n",
    "\n",
    "    def drive(self):\n",
    "        print(f\"{self.color} {self.brand} कार सड़क पर दौड़ रही है 🚗\")\n",
    "\n",
    "car1 = Car(\"Tata\", \"Red\")\n",
    "car2 = Car(\"Maruti\", \"Blue\")\n",
    "\n",
    "car1.drive()\n",
    "car2.drive()"
   ]
  },
  {
   "cell_type": "markdown",
   "metadata": {},
   "source": [
    "### Encapsulation\n",
    "- डेटा और methods को एक साथ class में रखना\n",
    "- Private attributes को `_` या `__` से define किया जाता है"
   ]
  },
  {
   "cell_type": "code",
   "execution_count": null,
   "metadata": {},
   "outputs": [],
   "source": [
    "class Student:\n",
    "    def __init__(self, name, marks):\n",
    "        self.__name = name\n",
    "        self.__marks = marks\n",
    "\n",
    "    def show(self):\n",
    "        print(f\"नाम: {self.__name}, अंक: {self.__marks}\")\n",
    "\n",
    "s = Student(\"सीमा\", 95)\n",
    "s.show()"
   ]
  },
  {
   "cell_type": "markdown",
   "metadata": {},
   "source": [
    "### Inheritance\n",
    "- एक class दूसरी class से properties और methods ले सकती है\n",
    "- इससे code reuse होता है"
   ]
  },
  {
   "cell_type": "code",
   "execution_count": null,
   "metadata": {},
   "outputs": [],
   "source": [
    "class Animal:\n",
    "    def speak(self):\n",
    "        print(\"Animal बोल रहा है\")\n",
    "\n",
    "class Dog(Animal):\n",
    "    def speak(self):\n",
    "        print(\"कुत्ता भौंक रहा है 🐶\")\n",
    "\n",
    "d = Dog()\n",
    "d.speak()"
   ]
  },
  {
   "cell_type": "markdown",
   "metadata": {},
   "source": [
    "### Polymorphism\n",
    "- एक ही नाम का method अलग-अलग रूप ले सकता है\n",
    "- Example: `speak()` method हर animal में अलग output दे सकता है"
   ]
  },
  {
   "cell_type": "code",
   "execution_count": null,
   "metadata": {},
   "outputs": [],
   "source": [
    "class Cat(Animal):\n",
    "    def speak(self):\n",
    "        print(\"बिल्ली म्याऊँ कर रही है 🐱\")\n",
    "\n",
    "animals = [Dog(), Cat()]\n",
    "for a in animals:\n",
    "    a.speak()"
   ]
  },
  {
   "cell_type": "markdown",
   "metadata": {},
   "source": [
    "### अभ्यास प्रश्न\n",
    "1. एक `Book` class बनाइए जिसमें title और author attributes हों और एक method `show()` जो किताब का नाम प्रिंट करे।\n",
    "2. एक `Person` class और उससे inherited `Student` class बनाइए।\n",
    "3. `Animal` से inherited `Bird` class बनाइए और उसमें `speak()` method override कीजिए।\n",
    "4. Encapsulation का उदाहरण दिखाइए (private data + method)।\n",
    "5. Polymorphism का प्रयोग करके `shape` (circle, rectangle) का area निकालने वाले methods बनाइए।"
   ]
  },
  {
   "cell_type": "markdown",
   "metadata": {},
   "source": [
    "### सीखने योग्य बातें\n",
    "- OOP → वास्तविक दुनिया की objects को code में लाने का तरीका\n",
    "- Class = blueprint, Object = instance\n",
    "- Encapsulation, Inheritance, Polymorphism → OOP की नींव\n",
    "- Code reuse और maintain करना आसान हो जाता है"
   ]
  },
  {
   "cell_type": "markdown",
   "metadata": {},
   "source": [
    "---\n",
    "🔔 **अगला अध्याय:** \"Modules और Packages – कोड की पेटी\" जहाँ हम सीखेंगे कि Python code को अलग-अलग files और libraries में कैसे बाँटते हैं।"
   ]
  },
  {
   "cell_type": "markdown",
   "metadata": {},
   "source": [
    "<div style='display: flex; justify-content: space-between;'>\n",
    "  <a href='../chapter-17/hi.ipynb' style='background-color: #1E90FF; color: white; padding: 8px 16px; border-radius: 6px; text-decoration: none;'>⬅️ Previous</a>\n",
    "  <a href='../chapter-19/hi.ipynb' style='background-color: #28a745; color: white; padding: 8px 16px; border-radius: 6px; text-decoration: none;'>Next ➡️</a>\n",
    "</div>"
   ]
  }
 ],
 "metadata": {
  "kernelspec": {
   "display_name": "Python 3",
   "language": "python",
   "name": "python3"
  },
  "language_info": {
   "name": "python",
   "version": "3.12.0"
  }
 },
 "nbformat": 4,
 "nbformat_minor": 2
}
