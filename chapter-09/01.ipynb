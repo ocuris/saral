{
 "cells": [
  {
   "cell_type": "markdown",
   "metadata": {},
   "source": [
    "# 📘 Python सीखें – आसान भाषा में\n",
    "## अध्याय 9: Functions – काम को पैक करना"
   ]
  },
  {
   "cell_type": "markdown",
   "metadata": {},
   "source": [
    "### कहानी\n",
    "\n",
    "मोहन अपनी मम्मी के साथ रसोई में बैठा था। मम्मी बार-बार वही काम कर रही थीं:\n",
    "- चाय बनाना ☕\n",
    "- सब्ज़ी काटना 🥕\n",
    "- आटा गूँथना 🍞\n",
    "\n",
    "मोहन ने कहा:\n",
    "> \"मम्मी, अगर ये काम एक डब्बे (पैकेट) में पैक कर दिए जाएँ, तो जब भी ज़रूरत हो, बस डब्बा खोलकर इस्तेमाल कर लेंगे।\"\n",
    "\n",
    "मम्मी हँसकर बोलीं:\n",
    "> \"यही तो पायथन में **Function** होता है। एक बार काम (code) लिखो, बार-बार इस्तेमाल करो।\""
   ]
  },
  {
   "cell_type": "markdown",
   "metadata": {},
   "source": [
    "### Function क्या है?\n",
    "- Function = code का पैकेट 🎁\n",
    "- Reusable (बार-बार इस्तेमाल किया जा सकता है)\n",
    "- Input ले सकता है (arguments)\n",
    "- Output दे सकता है (return value)\n",
    "\n",
    "| Feature | Function |\n",
    "|----------|-----------|\n",
    "| Define | `def name():` |\n",
    "| Call | `name()` |\n",
    "| Input | Arguments |\n",
    "| Output | Return value |"
   ]
  },
  {
   "cell_type": "code",
   "execution_count": null,
   "metadata": {},
   "outputs": [],
   "source": [
    "# Simple Function\n",
    "def greet():\n",
    "    print(\"नमस्ते!\")\n",
    "\n",
    "greet()  # Function call"
   ]
  },
  {
   "cell_type": "markdown",
   "metadata": {},
   "source": [
    "### Function with Input\n",
    "Function में parameters (input values) भी दिए जा सकते हैं।"
   ]
  },
  {
   "cell_type": "code",
   "execution_count": null,
   "metadata": {},
   "outputs": [],
   "source": [
    "def greet_person(name):\n",
    "    print(\"नमस्ते,\", name)\n",
    "\n",
    "greet_person(\"मोहन\")\n",
    "greet_person(\"सीमा\")"
   ]
  },
  {
   "cell_type": "markdown",
   "metadata": {},
   "source": [
    "### Function with Output\n",
    "Function से result (output) भी वापस मिल सकता है।"
   ]
  },
  {
   "cell_type": "code",
   "execution_count": null,
   "metadata": {},
   "outputs": [],
   "source": [
    "def add(a, b):\n",
    "    return a + b\n",
    "\n",
    "result = add(5, 7)\n",
    "print(result)"
   ]
  },
  {
   "cell_type": "markdown",
   "metadata": {},
   "source": [
    "### Default Parameters\n",
    "अगर input न मिले, तो default value इस्तेमाल होगी।"
   ]
  },
  {
   "cell_type": "code",
   "execution_count": null,
   "metadata": {},
   "outputs": [],
   "source": [
    "def greet_city(city=\"दिल्ली\"):\n",
    "    print(\"स्वागत है\", city, \"में!\")\n",
    "\n",
    "greet_city(\"मुंबई\")\n",
    "greet_city()"
   ]
  },
  {
   "cell_type": "markdown",
   "metadata": {},
   "source": [
    "### अभ्यास प्रश्न\n",
    "1. एक Function लिखिए जो 2 संख्याएँ ले और उनका योग (sum) प्रिंट करे।\n",
    "2. एक Function लिखिए जो किसी का नाम input ले और उसे Hello कहे।\n",
    "3. एक Function लिखिए जो दिए गए नंबर का वर्ग (square) return करे।\n",
    "4. एक Function बनाइए जिसमें city नाम का parameter हो और default value \"जयपुर\" हो।\n",
    "5. नीचे दिए गए code का आउटपुट बताइए:\n",
    "   ```python\n",
    "   def mystery(x, y=5):\n",
    "       return x * y\n",
    "   \n",
    "   print(mystery(3))\n",
    "   print(mystery(3, 2))\n",
    "   ```"
   ]
  },
  {
   "cell_type": "markdown",
   "metadata": {},
   "source": [
    "### सीखने योग्य बातें\n",
    "- Function = code का पैकेट जो बार-बार इस्तेमाल किया जा सकता है।\n",
    "- Parameters = input values।\n",
    "- Return = output value।\n",
    "- Default parameters से function flexible हो जाता है।"
   ]
  },
  {
   "cell_type": "markdown",
   "metadata": {},
   "source": [
    "---\n",
    "🔔 **अगला अध्याय:** \"Loop के जादू – For और While\" जहाँ हम सीखेंगे कि एक काम बार-बार कैसे कराया जाता है।"
   ]
  }
 ],
 "metadata": {
  "kernelspec": {
   "display_name": "Python 3",
   "language": "python",
   "name": "python3"
  },
  "language_info": {
   "name": "python",
   "version": "3.12.0"
  }
 },
 "nbformat": 4,
 "nbformat_minor": 2
}
