{
 "cells": [
  {
   "cell_type": "markdown",
   "metadata": {},
   "source": [
    "# 📘 पायथन सीखें – आसान भाषा में\n",
    "## अध्याय 17: Exception Handling – गलती से सीखना"
   ]
  },
  {
   "cell_type": "markdown",
   "metadata": {},
   "source": [
    "### कहानी\n",
    "\n",
    "सीमा और राहुल साइकिल चलाना सीख रहे थे।\n",
    "राहुल गिर पड़ा। सीमा ने कहा:\n",
    "> \"गिरना बुरी बात नहीं है, बुरा तब है जब गिरकर उठो ही नहीं।\"\n",
    "\n",
    "राहुल बोला:\n",
    "> \"मतलब गलती (Error) हमें रोकती नहीं, सिखाती है।\"\n",
    "\n",
    "सीमा मुस्कुराई:\n",
    "> \"जैसे Python में error आए तो हम उसे संभाल सकते हैं – इसे कहते हैं **Exception Handling**।\" ⚡"
   ]
  },
  {
   "cell_type": "markdown",
   "metadata": {},
   "source": [
    "### Error और Exception क्या है?\n",
    "- **Error** → कुछ गलत हो गया (e.g. code में typing mistake)\n",
    "- **Exception** → error आने पर प्रोग्राम रुकने की बजाय उसे संभालने का तरीका\n",
    "- Python exceptions को संभालने के लिए `try-except` block देता है"
   ]
  },
  {
   "cell_type": "code",
   "execution_count": null,
   "metadata": {},
   "outputs": [],
   "source": [
    "try:\n",
    "    num = int(input(\"किसी संख्या दर्ज करें: \"))\n",
    "    print(\"10 / num =\", 10/num)\n",
    "except Exception as e:\n",
    "    print(\"कुछ गलती हो गई:\", e)"
   ]
  },
  {
   "cell_type": "markdown",
   "metadata": {},
   "source": [
    "### Specific Exceptions\n",
    "- हम अलग-अलग exceptions को अलग तरह से संभाल सकते हैं\n",
    "- Common exceptions:\n",
    "  - `ZeroDivisionError`\n",
    "  - `ValueError`\n",
    "  - `FileNotFoundError`"
   ]
  },
  {
   "cell_type": "code",
   "execution_count": null,
   "metadata": {},
   "outputs": [],
   "source": [
    "try:\n",
    "    a = int(input(\"पहली संख्या: \"))\n",
    "    b = int(input(\"दूसरी संख्या: \"))\n",
    "    print(\"भागफल:\", a/b)\n",
    "except ZeroDivisionError:\n",
    "    print(\"Error: शून्य से भाग नहीं कर सकते!\")\n",
    "except ValueError:\n",
    "    print(\"Error: कृपया केवल संख्या दर्ज करें!\")"
   ]
  },
  {
   "cell_type": "markdown",
   "metadata": {},
   "source": [
    "### try-except-else-finally\n",
    "- `else` → जब कोई error नहीं आए तब चलता है\n",
    "- `finally` → हमेशा चलता है (error हो या न हो)\n"
   ]
  },
  {
   "cell_type": "code",
   "execution_count": null,
   "metadata": {},
   "outputs": [],
   "source": [
    "try:\n",
    "    x = int(input(\"संख्या दर्ज करें: \"))\n",
    "    print(\"Square:\", x*x)\n",
    "except ValueError:\n",
    "    print(\"Error: केवल संख्या दर्ज करें!\")\n",
    "else:\n",
    "    print(\"कोई error नहीं आया ✅\")\n",
    "finally:\n",
    "    print(\"यह block हमेशा चलेगा।\")"
   ]
  },
  {
   "cell_type": "markdown",
   "metadata": {},
   "source": [
    "### Raise Exception\n",
    "- कभी-कभी हमें खुद error उठानी होती है\n",
    "- इसके लिए `raise` keyword use होता है"
   ]
  },
  {
   "cell_type": "code",
   "execution_count": null,
   "metadata": {},
   "outputs": [],
   "source": [
    "age = int(input(\"अपनी उम्र दर्ज करें: \"))\n",
    "if age < 18:\n",
    "    raise Exception(\"आप वयस्क नहीं हैं!\")\n",
    "else:\n",
    "    print(\"स्वागत है!\")"
   ]
  },
  {
   "cell_type": "markdown",
   "metadata": {},
   "source": [
    "### अभ्यास प्रश्न\n",
    "1. एक प्रोग्राम लिखिए जो user से संख्या ले और 10 से divide करे। अगर user ने `0` डाला तो error संभालिए।\n",
    "2. User से age लीजिए, अगर वो integer नहीं है तो error संभालिए।\n",
    "3. File खोलने का प्रयास कीजिए और अगर file ना मिले तो error message दिखाइए।\n",
    "4. `try-except-else-finally` का demo बनाइए।\n",
    "5. खुद से `raise` keyword का use करके कोई custom error उठाइए।"
   ]
  },
  {
   "cell_type": "markdown",
   "metadata": {},
   "source": [
    "### सीखने योग्य बातें\n",
    "- Error आना normal है → उसे संभालना जरूरी है\n",
    "- `try-except` → error को पकड़ता है\n",
    "- Specific exceptions → अलग-अलग errors को अलग handle करना\n",
    "- `else` और `finally` blocks → अतिरिक्त control\n",
    "- `raise` → खुद error generate करना"
   ]
  },
  {
   "cell_type": "markdown",
   "metadata": {},
   "source": [
    "---\n",
    "🔔 **अगला अध्याय:** \"Object-Oriented Programming – ऑब्जेक्ट्स की दुनिया\" जहाँ हम Python के OOP concepts (class, object, inheritance) सीखेंगे।"
   ]
  }
 ],
 "metadata": {
  "kernelspec": {
   "display_name": "Python 3",
   "language": "python",
   "name": "python3"
  },
  "language_info": {
   "name": "python",
   "version": "3.12.0"
  }
 },
 "nbformat": 4,
 "nbformat_minor": 2
}
