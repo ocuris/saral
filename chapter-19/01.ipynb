{
 "cells": [
  {
   "cell_type": "markdown",
   "metadata": {},
   "source": [
    "# 📘 पायथन सीखें – आसान भाषा में\n",
    "## अध्याय 19: Modules और Packages – कोड की पेटी"
   ]
  },
  {
   "cell_type": "markdown",
   "metadata": {},
   "source": [
    "### कहानी\n",
    "\n",
    "सीमा के घर में एक बड़ी अलमारी थी। उसमें अलग-अलग **दराज़** बने थे।\n",
    "- एक दराज़ में किताबें 📚\n",
    "- दूसरे में खिलौने 🧸\n",
    "- तीसरे में कपड़े 👕\n",
    "\n",
    "राहुल ने कहा:\n",
    "> \"वाह! तुमने सबको अलग-अलग जगह पर रखा है, इसलिए ढूँढना आसान है।\"\n",
    "\n",
    "सीमा बोली:\n",
    "> \"Python में भी ऐसा ही होता है। कोड को छोटे-छोटे हिस्सों में बाँट देते हैं जिन्हें कहते हैं **Modules** और कई modules मिलकर बनाते हैं **Package**।\""
   ]
  },
  {
   "cell_type": "markdown",
   "metadata": {},
   "source": [
    "### Module क्या है?\n",
    "- Module = Python file (.py) जिसमें code होता है\n",
    "- Reuse के लिए helpful\n",
    "- Import करके इस्तेमाल किया जाता है"
   ]
  },
  {
   "cell_type": "code",
   "execution_count": null,
   "metadata": {},
   "outputs": [],
   "source": [
    "# math module example\n",
    "import math\n",
    "\n",
    "print(math.sqrt(16))  # 4.0\n",
    "print(math.pi)        # 3.14159..."
   ]
  },
  {
   "cell_type": "markdown",
   "metadata": {},
   "source": [
    "### Custom Module\n",
    "- खुद का module बनाना आसान है\n",
    "- Example: `mymodule.py` नाम से file\n",
    "```python\n",
    "def greet(name):\n",
    "    return f\"Hello, {name}!\"\n",
    "```\n",
    "\n",
    "- अब main file में import:\n",
    "```python\n",
    "import mymodule\n",
    "print(mymodule.greet(\"Rohan\"))\n",
    "```"
   ]
  },
  {
   "cell_type": "markdown",
   "metadata": {},
   "source": [
    "### from-import Syntax\n",
    "- केवल specific function import करना\n",
    "```python\n",
    "from math import sqrt\n",
    "print(sqrt(25))\n",
    "```"
   ]
  },
  {
   "cell_type": "markdown",
   "metadata": {},
   "source": [
    "### Package क्या है?\n",
    "- Folder जिसमें कई modules होते हैं\n",
    "- उसमें `__init__.py` file होनी चाहिए\n",
    "- Example structure:\n",
    "```\n",
    "mypackage/\n",
    "    __init__.py\n",
    "    module1.py\n",
    "    module2.py\n",
    "```"
   ]
  },
  {
   "cell_type": "code",
   "execution_count": null,
   "metadata": {},
   "outputs": [],
   "source": [
    "# Example: Using package\n",
    "from datetime import datetime\n",
    "print(datetime.now())"
   ]
  },
  {
   "cell_type": "markdown",
   "metadata": {},
   "source": [
    "### Built-in Useful Modules\n",
    "- `random` → random numbers\n",
    "- `datetime` → तारीख और समय\n",
    "- `os` → operating system\n",
    "- `sys` → system info\n",
    "- `json` → data handling"
   ]
  },
  {
   "cell_type": "code",
   "execution_count": null,
   "metadata": {},
   "outputs": [],
   "source": [
    "import random\n",
    "print(random.randint(1, 10))  # 1 से 10 के बीच random संख्या"
   ]
  },
  {
   "cell_type": "markdown",
   "metadata": {},
   "source": [
    "### अभ्यास प्रश्न\n",
    "1. `math` module का use करके square root और factorial निकालिए।\n",
    "2. एक custom module बनाइए जिसमें `add(a, b)` और `multiply(a, b)` functions हों और main file से import करके चलाइए।\n",
    "3. `random` module का use करके dice (1–6) का simulation कीजिए।\n",
    "4. `datetime` module का use करके current date और time प्रिंट कीजिए।\n",
    "5. एक package structure बनाइए जिसमें दो modules हों और दोनों से function import करके use कीजिए।"
   ]
  },
  {
   "cell_type": "markdown",
   "metadata": {},
   "source": [
    "### सीखने योग्य बातें\n",
    "- Module = एक file\n",
    "- Package = modules का collection (folder)\n",
    "- `import`, `from-import` syntax से इस्तेमाल\n",
    "- Built-in modules = Python के ready-made tools\n",
    "- Code को व्यवस्थित और reusable बनाने का best तरीका"
   ]
  },
  {
   "cell_type": "markdown",
   "metadata": {},
   "source": [
    "---\n",
    "🔔 **अगला अध्याय:** \"File Handling – फाइलों की दुनिया\" जहाँ हम सीखेंगे Python से file बनाना, पढ़ना और लिखना।"
   ]
  }
 ],
 "metadata": {
  "kernelspec": {
   "display_name": "Python 3",
   "language": "python",
   "name": "python3"
  },
  "language_info": {
   "name": "python",
   "version": "3.12.0"
  }
 },
 "nbformat": 4,
 "nbformat_minor": 2
}
