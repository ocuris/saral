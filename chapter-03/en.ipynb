{
 "cells": [
  {
   "cell_type": "markdown",
   "metadata": {},
   "source": [
    "# 📘 Learn Python – In Simple Language\n",
    "## Chapter 3: The Magic of Math – Operators"
   ]
  },
  {
   "cell_type": "markdown",
   "metadata": {},
   "source": [
    "### Story\n",
    "\n",
    "Mohan had now mastered the magic of variables. He could store the count of sacks into boxes (variables).\n",
    "But one day his father asked:\n",
    "\n",
    "> \"Mohan, if we add Monday’s and Tuesday’s sacks, how many will there be? And if we subtract Wednesday from Tuesday, how many will be left?\"\n",
    "\n",
    "Mohan started thinking – \"I’ll have to do addition and subtraction for this.\"\n",
    "\n",
    "Just then Ravi said:\n",
    "\n",
    "> \"Don’t worry! In Python, there’s magic for addition, subtraction, multiplication, and division. We call these **Operators**.\""
   ]
  },
  {
   "cell_type": "markdown",
   "metadata": {},
   "source": [
    "### What are Operators?\n",
    "\n",
    "* Operators = Tools for doing math.\n",
    "* They let us perform addition, subtraction, multiplication, division, and other calculations.\n",
    "\n",
    "The most commonly used **Arithmetic Operators** in Python are:\n",
    "\n",
    "| Operator | Work |\n",
    "|----------|------|\n",
    "| `+` | Addition |\n",
    "| `-` | Subtraction |\n",
    "| `*` | Multiplication |\n",
    "| `/` | Division (gives decimal result) |\n",
    "| `//` | Division (gives only integer part) |\n",
    "| `%` | Remainder |\n",
    "| `**` | Power (Exponentiation) |"
   ]
  },
  {
   "cell_type": "code",
   "execution_count": null,
   "metadata": {},
   "outputs": [],
   "source": [
    "# Example: Mohan’s sack calculations\n",
    "monday = 10\n",
    "tuesday = 12\n",
    "wednesday = 8\n",
    "\n",
    "# Addition\n",
    "print(\"Monday + Tuesday =\", monday + tuesday)\n",
    "\n",
    "# Subtraction\n",
    "print(\"Tuesday - Wednesday =\", tuesday - wednesday)\n",
    "\n",
    "# Multiplication\n",
    "print(\"Monday × 2 =\", monday * 2)\n",
    "\n",
    "# Division (decimal)\n",
    "print(\"Tuesday ÷ 3 =\", tuesday / 3)\n",
    "\n",
    "# Division (integer)\n",
    "print(\"Tuesday ÷ 3 (integer) =\", tuesday // 3)\n",
    "\n",
    "# Remainder\n",
    "print(\"Remainder of Tuesday ÷ 3 =\", tuesday % 3)\n",
    "\n",
    "# Power\n",
    "print(\"2 raised to the power 3 =\", 2 ** 3)"
   ]
  },
  {
   "cell_type": "markdown",
   "metadata": {},
   "source": [
    "Output:\n",
    "```\n",
    "Monday + Tuesday = 22\n",
    "Tuesday - Wednesday = 4\n",
    "Monday × 2 = 20\n",
    "Tuesday ÷ 3 = 4.0\n",
    "Tuesday ÷ 3 (integer) = 4\n",
    "Remainder of Tuesday ÷ 3 = 0\n",
    "2 raised to the power 3 = 8\n",
    "```"
   ]
  },
  {
   "cell_type": "markdown",
   "metadata": {},
   "source": [
    "### Practice Questions\n",
    "\n",
    "Now it’s your turn! Try solving the questions below:\n",
    "\n",
    "1. Store the ages of two of your friends in two variables and find their sum.\n",
    "\n",
    "2. If one mango costs 15 rupees and you buy 7 mangoes, calculate the total price.\n",
    "\n",
    "3. In a room there are 45 people. If each chair can hold 4 people, how many chairs will be completely filled and how many people will be left? (Hint: use `//` and `%`).\n",
    "\n",
    "4. Use the `**` operator to find the power of any number (like 5² or 2³).\n",
    "\n",
    "5. Predict the output of the following code (think first, then run it):\n",
    "   ```python\n",
    "   a = 20\n",
    "   b = 3\n",
    "   print(a // b)\n",
    "   print(a % b)\n",
    "   ```\n",
    "\n",
    "6. Create a variable for your pocket money and calculate how much remains after spending some each day."
   ]
  },
  {
   "cell_type": "code",
   "execution_count": null,
   "metadata": {},
   "outputs": [],
   "source": []
  },
  {
   "cell_type": "markdown",
   "metadata": {},
   "source": [
    "### Key Takeaways\n",
    "\n",
    "- Operators work like mathematical magic.\n",
    "- `/` always gives a decimal result, while `//` only gives the integer part.\n",
    "- `%` tells us the remainder.\n",
    "- `**` is used to calculate the power of a number.\n",
    "\n",
    "👉 Now Mohan could easily do addition and subtraction, and let the computer handle all the calculations."
   ]
  },
  {
   "cell_type": "markdown",
   "metadata": {},
   "source": [
    "---\n",
    "🔔 **Next Chapter:** \"Decisions and Paths – If/Else\" where we will learn how the computer makes decisions."
   ]
  }
 ],
 "metadata": {
  "kernelspec": {
   "display_name": "Python 3",
   "language": "python",
   "name": "python3"
  },
  "language_info": {
   "name": "python",
   "version": "3.12.0"
  }
 },
 "nbformat": 4,
 "nbformat_minor": 2
}
