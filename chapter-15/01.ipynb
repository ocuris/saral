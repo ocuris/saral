{
 "cells": [
  {
   "cell_type": "markdown",
   "metadata": {},
   "source": [
    "# 📘 पायथन सीखें – आसान भाषा में\n",
    "## अध्याय 15: Modules – जादुई डब्बों की लाइब्रेरी"
   ]
  },
  {
   "cell_type": "markdown",
   "metadata": {},
   "source": [
    "### कहानी\n",
    "\n",
    "सीमा और मोहन एक गाँव के मेले में गए। वहाँ कई **डब्बे** रखे थे।\n",
    "हर डब्बे पर लिखा था – *गणित का डब्बा*, *समय का डब्बा*, *यादृच्छिक नंबरों का डब्बा*...\n",
    "\n",
    "मोहन ने पूछा:\n",
    "> \"ये डब्बों में क्या है?\"\n",
    "\n",
    "विक्रेता बोला:\n",
    "> \"हर डब्बे में पहले से बनी चीज़ें हैं। जब चाहो, खोलो और use करो।\"\n",
    "\n",
    "सीमा ने कहा:\n",
    "> \"यानी Python के Modules भी ऐसे ही होते हैं – ready-made code के डब्बे!\" 🎁"
   ]
  },
  {
   "cell_type": "markdown",
   "metadata": {},
   "source": [
    "### Module क्या है?\n",
    "- Module = Python file जिसमें code (functions, classes, variables) लिखा है\n",
    "- Reusable होता है → बार-बार use कर सकते हैं\n",
    "- Python में बहुत सारे built-in modules already मौजूद हैं\n",
    "\n",
    "| Concept | Example |\n",
    "|---------|---------|\n",
    "| Module import करना | `import math` |\n",
    "| Function use करना | `math.sqrt(16)` |"
   ]
  },
  {
   "cell_type": "code",
   "execution_count": null,
   "metadata": {},
   "outputs": [],
   "source": [
    "import math\n",
    "\n",
    "print(math.sqrt(25))   # square root\n",
    "print(math.factorial(5))  # factorial\n",
    "print(math.pi)   # π का मान"
   ]
  },
  {
   "cell_type": "markdown",
   "metadata": {},
   "source": [
    "### Random Module\n",
    "Random numbers generate करने के लिए Python का **random** module use होता है।"
   ]
  },
  {
   "cell_type": "code",
   "execution_count": null,
   "metadata": {},
   "outputs": [],
   "source": [
    "import random\n",
    "\n",
    "print(random.randint(1, 10))  # 1 से 10 तक random number\n",
    "print(random.choice([\"apple\", \"banana\", \"cherry\"]))  # random element"
   ]
  },
  {
   "cell_type": "markdown",
   "metadata": {},
   "source": [
    "### Datetime Module\n",
    "Date और Time से जुड़े कामों के लिए **datetime** module use होता है।"
   ]
  },
  {
   "cell_type": "code",
   "execution_count": null,
   "metadata": {},
   "outputs": [],
   "source": [
    "import datetime\n",
    "\n",
    "now = datetime.datetime.now()\n",
    "print(\"आज की तारीख और समय:\", now)\n",
    "print(\"सिर्फ़ साल:\", now.year)\n",
    "print(\"सिर्फ़ महीना:\", now.month)"
   ]
  },
  {
   "cell_type": "markdown",
   "metadata": {},
   "source": [
    "### Module को alias से Import करना\n",
    "- हम module का छोटा नाम (alias) भी दे सकते हैं\n",
    "- Example: `import math as m`"
   ]
  },
  {
   "cell_type": "code",
   "execution_count": null,
   "metadata": {},
   "outputs": [],
   "source": [
    "import math as m\n",
    "\n",
    "print(m.sqrt(49))\n",
    "print(m.pow(2, 3))"
   ]
  },
  {
   "cell_type": "markdown",
   "metadata": {},
   "source": [
    "### किसी Module से Specific चीज़ Import करना\n",
    "- हम चाहें तो पूरे module की बजाय किसी खास function को import कर सकते हैं\n",
    "- Example: `from math import sqrt, pi`"
   ]
  },
  {
   "cell_type": "code",
   "execution_count": null,
   "metadata": {},
   "outputs": [],
   "source": [
    "from math import sqrt, pi\n",
    "\n",
    "print(sqrt(100))\n",
    "print(pi)"
   ]
  },
  {
   "cell_type": "markdown",
   "metadata": {},
   "source": [
    "### अभ्यास प्रश्न\n",
    "1. `math` module use करके किसी संख्या का factorial निकालिए।\n",
    "2. `random` module से 1 से 6 के बीच dice रोल कीजिए।\n",
    "3. `datetime` module से आज की तारीख प्रिंट कीजिए।\n",
    "4. `from math import pow` use करके 2^5 निकालिए।\n",
    "5. नीचे दिए गए code का आउटपुट बताइए:\n",
    "   ```python\n",
    "   import random\n",
    "   nums = [1,2,3,4,5]\n",
    "   print(random.choice(nums))\n",
    "   ```"
   ]
  },
  {
   "cell_type": "markdown",
   "metadata": {},
   "source": [
    "### सीखने योग्य बातें\n",
    "- Module = ready-made code का डब्बा\n",
    "- Import करने के कई तरीके हैं: `import`, `as`, `from ... import`\n",
    "- Common modules: `math`, `random`, `datetime`\n",
    "- Modules से काम तेज़ और आसान हो जाता है"
   ]
  },
  {
   "cell_type": "markdown",
   "metadata": {},
   "source": [
    "---\n",
    "🔔 **अगला अध्याय:** \"File Handling – फाइलों से दोस्ती\" जहाँ हम सीखेंगे कि Python से फाइलें कैसे पढ़ें और लिखें।"
   ]
  }
 ],
 "metadata": {
  "kernelspec": {
   "display_name": "Python 3",
   "language": "python",
   "name": "python3"
  },
  "language_info": {
   "name": "python",
   "version": "3.12.0"
  }
 },
 "nbformat": 4,
 "nbformat_minor": 2
}
