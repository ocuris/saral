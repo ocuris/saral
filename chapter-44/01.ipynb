{
 "cells": [
  {
   "cell_type": "markdown",
   "metadata": {},
   "source": [
    "# 📘 पायथन सीखें – आसान भाषा में\n",
    "## अध्याय 44: Python और Logging – log module, debug और error tracking"
   ]
  },
  {
   "cell_type": "markdown",
   "metadata": {},
   "source": [
    "### कहानी\n",
    "राम अपनी shop automation scripts में errors और events track करना चाहता था।\n",
    "श्याम ने कहा:\n",
    "> \"Python में logging module use करके debugging और error tracking बहुत आसान है।\"\n",
    "\n",
    "राम:\n",
    "> \"वाह! अब मैं errors और warnings को आसानी से monitor कर पाऊँगा।\""
   ]
  },
  {
   "cell_type": "markdown",
   "metadata": {},
   "source": [
    "### logging module क्या है?\n",
    "- Python का built-in module\n",
    "- Events, errors, warnings, debug info save करने के लिए\n",
    "- Different logging levels: DEBUG, INFO, WARNING, ERROR, CRITICAL"
   ]
  },
  {
   "cell_type": "markdown",
   "metadata": {},
   "source": [
    "### Example 1: Basic Logging\n",
    "```python\n",
    "import logging\n",
    "\n",
    "logging.basicConfig(level=logging.INFO)\n",
    "\n",
    "logging.debug('This is a debug message')\n",
    "logging.info('This is an info message')\n",
    "logging.warning('This is a warning')\n",
    "logging.error('This is an error')\n",
    "logging.critical('This is critical')\n",
    "```"
   ]
  },
  {
   "cell_type": "markdown",
   "metadata": {},
   "source": [
    "### Example 2: Logging to a File\n",
    "```python\n",
    "logging.basicConfig(filename='app.log',\n",
    "                    filemode='w',\n",
    "                    format='%(name)s - %(levelname)s - %(message)s',\n",
    "                    level=logging.INFO)\n",
    "\n",
    "logging.info('Application started')\n",
    "logging.warning('This is a warning saved in file')\n",
    "logging.error('An error occurred')\n",
    "```"
   ]
  },
  {
   "cell_type": "markdown",
   "metadata": {},
   "source": [
    "### Example 3: Advanced Logging with Functions\n",
    "```python\n",
    "def divide(a, b):\n",
    "    try:\n",
    "        result = a / b\n",
    "        logging.info(f'Division successful: {result}')\n",
    "        return result\n",
    "    except ZeroDivisionError as e:\n",
    "        logging.error(f'Error: {e}')\n",
    "\n",
    "divide(10, 2)\n",
    "divide(5, 0)\n",
    "```"
   ]
  },
  {
   "cell_type": "markdown",
   "metadata": {},
   "source": [
    "### Best Practices\n",
    "- Different logging levels use करें: DEBUG → detailed info, INFO → normal info, WARNING → potential problem, ERROR → serious problem, CRITICAL → critical failure\n",
    "- File logging → track long-running applications\n",
    "- Exceptions capture करें और log करें\n",
    "- Log format clear और readable रखें"
   ]
  },
  {
   "cell_type": "markdown",
   "metadata": {},
   "source": [
    "### अभ्यास प्रश्न\n",
    "1. Python script में basic logging setup करें और अलग-अलग levels में messages print करें।\n",
    "2. Logging output को file में save करें।\n",
    "3. कोई function लिखें जिसमें exception handling हो और errors log हों।\n",
    "4. Log format को customize करें (time, level, message)।\n",
    "5. Long-running task को monitor करने के लिए logging implement करें।"
   ]
  },
  {
   "cell_type": "markdown",
   "metadata": {},
   "source": [
    "### सीखने योग्य बातें\n",
    "- logging module → debug, info, warning, error, critical\n",
    "- File logging → persistent error tracking\n",
    "- Exception handling + logging → robust programs\n",
    "- Monitoring long-running applications"
   ]
  },
  {
   "cell_type": "markdown",
   "metadata": {},
   "source": [
    "---\n",
    "🔔 **अगला अध्याय:** \"Python और Web Automation – Selenium basics\""
   ]
  }
 ],
 "metadata": {
  "kernelspec": {
   "display_name": "Python 3",
   "language": "python",
   "name": "python3"
  },
  "language_info": {
   "name": "python",
   "version": "3.12.0"
  }
 },
 "nbformat": 4,
 "nbformat_minor": 2
}
