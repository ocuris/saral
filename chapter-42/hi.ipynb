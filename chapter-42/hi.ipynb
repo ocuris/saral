{
 "cells": [
  {
   "cell_type": "markdown",
   "metadata": {},
   "source": [
    "# 📘 Python सीखें – आसान भाषा में\n",
    "## अध्याय 42: Python और Email Automation – smtplib और email modules"
   ]
  },
  {
   "cell_type": "markdown",
   "metadata": {},
   "source": [
    "### कहानी\n",
    "राम अपनी shop के monthly reports automatically भेजना चाहता था।\n",
    "श्याम ने कहा:\n",
    "> \"Python के smtplib और email modules से email send करना आसान है।\"\n",
    "\n",
    "राम:\n",
    "> \"वाह! अब मुझे manually emails नहीं भेजनी पड़ेंगी।\""
   ]
  },
  {
   "cell_type": "markdown",
   "metadata": {},
   "source": [
    "### smtplib क्या है?\n",
    "- SMTP = Simple Mail Transfer Protocol\n",
    "- `smtplib` module का use करके Python से emails भेज सकते हैं\n",
    "- Gmail, Outlook या कोई भी SMTP server use किया जा सकता है"
   ]
  },
  {
   "cell_type": "markdown",
   "metadata": {},
   "source": [
    "### email module क्या है?\n",
    "- `email` module email messages create और format करने के लिए\n",
    "- Text, HTML, attachments add कर सकते हैं\n",
    "- MIME format support करता है"
   ]
  },
  {
   "cell_type": "markdown",
   "metadata": {},
   "source": [
    "### Example 1: Simple Text Email\n",
    "```python\n",
    "import smtplib\n",
    "from email.mime.text import MIMEText\n",
    "\n",
    "sender = 'your_email@gmail.com'\n",
    "receiver = 'friend_email@gmail.com'\n",
    "password = 'your_app_password'  # Gmail में App Password use करें\n",
    "\n",
    "msg = MIMEText('Hello, यह automatic email है!')\n",
    "msg['Subject'] = 'Test Email'\n",
    "msg['From'] = sender\n",
    "msg['To'] = receiver\n",
    "\n",
    "with smtplib.SMTP_SSL('smtp.gmail.com', 465) as server:\n",
    "    server.login(sender, password)\n",
    "    server.send_message(msg)\n",
    "\n",
    "print('Email sent successfully!')\n",
    "```"
   ]
  },
  {
   "cell_type": "markdown",
   "metadata": {},
   "source": [
    "### Example 2: HTML Email\n",
    "```python\n",
    "from email.mime.multipart import MIMEMultipart\n",
    "from email.mime.text import MIMEText\n",
    "\n",
    "msg = MIMEMultipart()\n",
    "msg['From'] = sender\n",
    "msg['To'] = receiver\n",
    "msg['Subject'] = 'HTML Email Example'\n",
    "\n",
    "html_content = '<h2>Hello!</h2><p>This is an <b>HTML</b> email.</p>'\n",
    "msg.attach(MIMEText(html_content, 'html'))\n",
    "\n",
    "with smtplib.SMTP_SSL('smtp.gmail.com', 465) as server:\n",
    "    server.login(sender, password)\n",
    "    server.send_message(msg)\n",
    "\n",
    "print('HTML Email sent successfully!')\n",
    "```"
   ]
  },
  {
   "cell_type": "markdown",
   "metadata": {},
   "source": [
    "### Example 3: Email with Attachment\n",
    "```python\n",
    "from email.mime.base import MIMEBase\n",
    "from email import encoders\n",
    "\n",
    "filename = 'report.pdf'\n",
    "with open(filename, 'rb') as attachment:\n",
    "    part = MIMEBase('application', 'octet-stream')\n",
    "    part.set_payload(attachment.read())\n",
    "\n",
    "encoders.encode_base64(part)\n",
    "part.add_header('Content-Disposition', f'attachment; filename={filename}')\n",
    "msg.attach(part)\n",
    "\n",
    "with smtplib.SMTP_SSL('smtp.gmail.com', 465) as server:\n",
    "    server.login(sender, password)\n",
    "    server.send_message(msg)\n",
    "\n",
    "print('Email with attachment sent successfully!')\n",
    "```"
   ]
  },
  {
   "cell_type": "markdown",
   "metadata": {},
   "source": [
    "### Best Practices\n",
    "- Gmail और Outlook के लिए App Password use करें\n",
    "- Multiple recipients → `msg['To']` में comma-separated list\n",
    "- Large attachments → check size limits\n",
    "- Sensitive info → `.env` file में store करें, code में hardcode न करें"
   ]
  },
  {
   "cell_type": "markdown",
   "metadata": {},
   "source": [
    "### अभ्यास प्रश्न\n",
    "1. Simple text email भेजें।\n",
    "2. HTML formatted email भेजें।\n",
    "3. CSV attachment के साथ email भेजें।\n",
    "4. Multiple recipients को email भेजें।\n",
    "5. `.env` file से credentials load करके email send करें।"
   ]
  },
  {
   "cell_type": "markdown",
   "metadata": {},
   "source": [
    "### सीखने योग्य बातें\n",
    "- smtplib → SMTP server use करके email send\n",
    "- email module → message create, text/html, attachment\n",
    "- App password और credentials secure रखना\n",
    "- Automated email reports और notifications setup करना"
   ]
  },
  {
   "cell_type": "markdown",
   "metadata": {},
   "source": [
    "---\n",
    "🔔 **अगला अध्याय:** \"Python और Scheduling – schedule module और cron jobs\""
   ]
  },
  {
   "cell_type": "markdown",
   "metadata": {},
   "source": [
    "<div style='display: flex; justify-content: space-between;'>\n",
    "  <a href='../chapter-41/hi.ipynb' style='background-color: #1E90FF; color: white; padding: 8px 16px; border-radius: 6px; text-decoration: none;'>⬅️ Previous</a>\n",
    "  <a href='../chapter-43/hi.ipynb' style='background-color: #28a745; color: white; padding: 8px 16px; border-radius: 6px; text-decoration: none;'>Next ➡️</a>\n",
    "</div>"
   ]
  }
 ],
 "metadata": {
  "kernelspec": {
   "display_name": "Python 3",
   "language": "python",
   "name": "python3"
  },
  "language_info": {
   "name": "python",
   "version": "3.12.0"
  }
 },
 "nbformat": 4,
 "nbformat_minor": 2
}
