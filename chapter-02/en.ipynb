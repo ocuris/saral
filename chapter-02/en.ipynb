{
 "cells": [
  {
   "cell_type": "markdown",
   "metadata": {},
   "source": [
    "# 📘 Learn Python – In Simple Language\n",
    "## Chapter 2: The Box – Variables"
   ]
  },
  {
   "cell_type": "markdown",
   "metadata": {},
   "source": [
    "### Story\n",
    "\n",
    "In the first chapter, Mohan learned that with Python we can give commands to the computer and make it do what we want.\n",
    "But now, a new problem appeared.\n",
    "\n",
    "Mohan used to record the sacks (bori) that came from the farm every day:\n",
    "- Monday: 10 sacks\n",
    "- Tuesday: 12 sacks\n",
    "- Wednesday: 8 sacks\n",
    "\n",
    "Every time, he had to write a new `print()` for each count.\n",
    "Seeing this, Ravi said:\n",
    "\n",
    "> \"Mohan! Will you keep every sack in a different corner, or will you put them all in a **box (container)**?\"\n",
    "\n",
    "Mohan replied:\n",
    "> \"A box is very useful, it keeps things safe in one place.\"\n",
    "\n",
    "Ravi smiled and said:\n",
    "> \"Exactly! In programming, we also keep things in **boxes** called Variables.\""
   ]
  },
  {
   "cell_type": "markdown",
   "metadata": {},
   "source": [
    "### What is a Variable?\n",
    "\n",
    "* A variable = a box to store data.\n",
    "* In it, we can keep **numbers**, **words**, or any information.\n",
    "* Whenever we want, we can use the box’s name to get its value.\n",
    "\n",
    "👉 Think of it like this: Variable = Name + Value."
   ]
  },
  {
   "cell_type": "code",
   "execution_count": null,
   "metadata": {},
   "outputs": [],
   "source": [
    "# Let’s make some boxes (variables)\n",
    "sacks_monday = 10\n",
    "sacks_tuesday = 12\n",
    "sacks_wednesday = 8\n",
    "\n",
    "# Now print them\n",
    "print(\"Monday:\", sacks_monday)\n",
    "print(\"Tuesday:\", sacks_tuesday)\n",
    "print(\"Wednesday:\", sacks_wednesday)"
   ]
  },
  {
   "cell_type": "markdown",
   "metadata": {},
   "source": [
    "Output:\n",
    "```\n",
    "Monday: 10\n",
    "Tuesday: 12\n",
    "Wednesday: 8\n",
    "```"
   ]
  },
  {
   "cell_type": "markdown",
   "metadata": {},
   "source": [
    "### Benefits of Variables\n",
    "\n",
    "* Change the value in one place, and the entire calculation updates.\n",
    "* With variables we can do addition, subtraction, multiplication, division.\n",
    "\n",
    "For example, Mohan wants the total for three days:"
   ]
  },
  {
   "cell_type": "code",
   "execution_count": null,
   "metadata": {},
   "outputs": [],
   "source": [
    "# Total of three days\n",
    "total_sacks = sacks_monday + sacks_tuesday + sacks_wednesday\n",
    "print(\"Total sacks:\", total_sacks)"
   ]
  },
  {
   "cell_type": "markdown",
   "metadata": {},
   "source": [
    "Output:\n",
    "```\n",
    "Total sacks: 30\n",
    "```"
   ]
  },
  {
   "cell_type": "markdown",
   "metadata": {},
   "source": [
    "### Practice Questions\n",
    "\n",
    "Now it’s your turn! Try these exercises:\n",
    "\n",
    "1. Store your name in a variable and `print()` it on the screen.\n",
    "\n",
    "   ```python\n",
    "   name = \"Ram\"\n",
    "   print(name)\n",
    "   ```\n",
    "\n",
    "2. Store your age in a variable and calculate your age 5 years later.\n",
    "\n",
    "3. Store marks of three subjects (like Math, English, Science) in variables and calculate the total.\n",
    "\n",
    "4. Run the code below and explain what happens:\n",
    "   ```python\n",
    "   x = 10\n",
    "   y = x\n",
    "   x = 20\n",
    "   print(y)\n",
    "   ```\n",
    "   👉 Why is the output 10? Explain.\n",
    "\n",
    "5. Store your favorite book, author, and year in three variables and print them in a nice format."
   ]
  },
  {
   "cell_type": "code",
   "execution_count": 1,
   "metadata": {},
   "outputs": [
    {
     "name": "stdout",
     "output_type": "stream",
     "text": [
      "20\n"
     ]
    }
   ],
   "source": [
    "x = 10\n",
    "y = 10\n",
    "print(x + y)"
   ]
  },
  {
   "cell_type": "markdown",
   "metadata": {},
   "source": [
    "### Key Learnings\n",
    "\n",
    "- Variable = a box to store data.\n",
    "- Variable names should be clear and meaningful (like `age`, `marks`, `village_name`).\n",
    "- Changing the value of a variable changes the result.\n",
    "- This is the foundation of all bigger programs."
   ]
  },
  {
   "cell_type": "markdown",
   "metadata": {},
   "source": [
    "---\n",
    "🔔 **Next Chapter:** \"The Magic of Math – Operators\" where we’ll learn addition, subtraction, multiplication, division and other math tricks."
   ]
  }
 ],
 "metadata": {
  "kernelspec": {
   "display_name": "agents",
   "language": "python",
   "name": "python3"
  },
  "language_info": {
   "codemirror_mode": {
    "name": "ipython",
    "version": 3
   },
   "file_extension": ".py",
   "mimetype": "text/x-python",
   "name": "python",
   "nbconvert_exporter": "python",
   "pygments_lexer": "ipython3",
   "version": "3.12.11"
  }
 },
 "nbformat": 4,
 "nbformat_minor": 2
}
