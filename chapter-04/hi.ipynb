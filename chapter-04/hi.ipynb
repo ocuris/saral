{
 "cells": [
  {
   "cell_type": "markdown",
   "metadata": {},
   "source": [
    "# 📘 Python सीखें – आसान भाषा में\n",
    "## अध्याय 4: फैसले और रास्ते – If/Else"
   ]
  },
  {
   "cell_type": "markdown",
   "metadata": {},
   "source": [
    "### कहानी\n",
    "\n",
    "मोहन अब जोड़-घटाव, गुणा-भाग सब सीख गया था।\n",
    "एक दिन गाँव में मेले की घोषणा हुई। नियम था:\n",
    "\n",
    "> \"अगर आपकी उम्र 18 साल से ज़्यादा है, तो आप मेले में झूला झूल सकते हैं। अगर कम है, तो केवल मिठाई खा सकते हैं।\"\n",
    "\n",
    "मोहन ने सोचा – \"तो अब कंप्यूटर को भी यही सिखाना होगा कि कौन झूले पर जाएगा और कौन मिठाई खाएगा।\"\n",
    "\n",
    "रवि बोला:\n",
    "\n",
    "> \"बिलकुल! यही काम होता है **if/else** का – कंप्यूटर से निर्णय (decision) करवाना।\""
   ]
  },
  {
   "cell_type": "markdown",
   "metadata": {},
   "source": [
    "### If/Else क्या है?\n",
    "\n",
    "- `if` = अगर शर्त (condition) सही है तो ये काम करो।\n",
    "- `else` = वरना ये दूसरा काम करो।\n",
    "- इसे ऐसे समझो जैसे रास्ते का मोड़: अगर बायीं ओर मुड़ना है तो एक रास्ता, वरना दूसरा।"
   ]
  },
  {
   "cell_type": "code",
   "execution_count": 1,
   "metadata": {},
   "outputs": [
    {
     "name": "stdout",
     "output_type": "stream",
     "text": [
      "आप केवल मिठाई खा सकते हैं।\n"
     ]
    }
   ],
   "source": [
    "age = 16\n",
    "\n",
    "if age >= 18:\n",
    "    print(\"आप झूला झूल सकते हैं।\")\n",
    "else:\n",
    "    print(\"आप केवल मिठाई खा सकते हैं।\")"
   ]
  },
  {
   "cell_type": "markdown",
   "metadata": {},
   "source": [
    "आउटपुट:\n",
    "```\n",
    "आप केवल मिठाई खा सकते हैं।\n",
    "```"
   ]
  },
  {
   "cell_type": "markdown",
   "metadata": {},
   "source": [
    "### If-Elif-Else (कई रास्ते)\n",
    "\n",
    "कभी-कभी एक से ज़्यादा फैसले लेने होते हैं। इसके लिए हम `elif` (else if) का उपयोग करते हैं।"
   ]
  },
  {
   "cell_type": "code",
   "execution_count": null,
   "metadata": {},
   "outputs": [],
   "source": [
    "marks = 72\n",
    "\n",
    "if marks >= 90:\n",
    "    print(\"Grade: A\")\n",
    "elif marks >= 75:\n",
    "    print(\"Grade: B\")\n",
    "elif marks >= 50:\n",
    "    print(\"Grade: C\")\n",
    "else:\n",
    "    print(\"Fail\")"
   ]
  },
  {
   "cell_type": "markdown",
   "metadata": {},
   "source": [
    "आउटपुट:\n",
    "```\n",
    "Grade: B\n",
    "```"
   ]
  },
  {
   "cell_type": "markdown",
   "metadata": {},
   "source": [
    "### Comparison Operators (तुलना करने वाले औज़ार)\n",
    "\n",
    "If/Else शर्तों को समझता है। ये शर्तें बनाने के लिए हमें **comparison operators** चाहिए:\n",
    "\n",
    "| ऑपरेटर | मतलब |\n",
    "|---------|-------|\n",
    "| `==` | बराबर है |\n",
    "| `!=` | बराबर नहीं है |\n",
    "| `>` | बड़ा है |\n",
    "| `<` | छोटा है |\n",
    "| `>=` | बड़ा या बराबर |\n",
    "| `<=` | छोटा या बराबर |"
   ]
  },
  {
   "cell_type": "code",
   "execution_count": null,
   "metadata": {},
   "outputs": [],
   "source": [
    "a = 10\n",
    "b = 20\n",
    "\n",
    "print(a == b)   # False\n",
    "print(a != b)   # True\n",
    "print(a < b)    # True\n",
    "print(a >= 10)  # True"
   ]
  },
  {
   "cell_type": "markdown",
   "metadata": {},
   "source": [
    "### अभ्यास प्रश्न\n",
    "\n",
    "1. किसी इंसान की उम्र पूछकर बताइए कि वह वोट देने योग्य है या नहीं (18 साल या उससे ज़्यादा = eligible)।\n",
    "\n",
    "2. किसी संख्या को इनपुट लेकर चेक कीजिए कि वह सम (even) है या विषम (odd)।\n",
    "\n",
    "3. तीन विषयों के अंक दीजिए और तय कीजिए कि छात्र पास हुआ या फेल (हर विषय में 33 से ऊपर होना चाहिए)।\n",
    "\n",
    "4. तापमान (temperature) लेकर बताइए:\n",
    "   - अगर 35 से ऊपर है तो \"बहुत गर्मी है।\"\n",
    "   - अगर 15 से कम है तो \"बहुत ठंड है।\"\n",
    "   - वरना \"मौसम ठीक है।\"\n",
    "\n",
    "5. नीचे दिए गए कोड का आउटपुट सोचकर बताइए:\n",
    "   ```python\n",
    "   x = 5\n",
    "   if x > 10:\n",
    "       print(\"बड़ा है\")\n",
    "   else:\n",
    "       print(\"छोटा है\")\n",
    "   ```"
   ]
  },
  {
   "cell_type": "code",
   "execution_count": null,
   "metadata": {},
   "outputs": [],
   "source": []
  },
  {
   "cell_type": "markdown",
   "metadata": {},
   "source": [
    "### सीखने योग्य बातें\n",
    "\n",
    "- `if/else` = कंप्यूटर को सोचने और निर्णय लेने की शक्ति।\n",
    "- Comparison operators से शर्तें बनाई जाती हैं।\n",
    "- `elif` कई रास्तों के लिए उपयोगी है।\n",
    "- यही आधार है आगे चलकर लॉजिक और AI बनाने का।"
   ]
  },
  {
   "cell_type": "markdown",
   "metadata": {},
   "source": [
    "---\n",
    "🔔 **अगला अध्याय:** \"दोहराव का जादू – Loops\" जहाँ हम सीखेंगे कि कैसे कंप्यूटर से एक ही काम बार-बार करवाया जा सकता है।"
   ]
  },
  {
   "cell_type": "markdown",
   "metadata": {},
   "source": [
    "<div style='display: flex; justify-content: space-between;'>\n",
    "  <a href='../chapter-03/hi.ipynb' style='background-color: #1E90FF; color: white; padding: 8px 16px; border-radius: 6px; text-decoration: none;'>⬅️ Previous</a>\n",
    "  <a href='../chapter-05/hi.ipynb' style='background-color: #28a745; color: white; padding: 8px 16px; border-radius: 6px; text-decoration: none;'>Next ➡️</a>\n",
    "</div>"
   ]
  }
 ],
 "metadata": {
  "kernelspec": {
   "display_name": "agents",
   "language": "python",
   "name": "python3"
  },
  "language_info": {
   "codemirror_mode": {
    "name": "ipython",
    "version": 3
   },
   "file_extension": ".py",
   "mimetype": "text/x-python",
   "name": "python",
   "nbconvert_exporter": "python",
   "pygments_lexer": "ipython3",
   "version": "3.12.11"
  }
 },
 "nbformat": 4,
 "nbformat_minor": 2
}
