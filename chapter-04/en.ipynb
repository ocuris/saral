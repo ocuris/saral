{
 "cells": [
  {
   "cell_type": "markdown",
   "metadata": {},
   "source": [
    "# 📘 Learn Python – In Simple Language\n",
    "## Chapter 4: Decisions and Paths – If/Else"
   ]
  },
  {
   "cell_type": "markdown",
   "metadata": {},
   "source": [
    "### Story\n",
    "\n",
    "Mohan had now learned addition, subtraction, multiplication, and division. \n",
    "One day, a fair was announced in the village. The rule was:\n",
    "\n",
    "> \"If your age is more than 18 years, you can enjoy the rides in the fair. If you’re younger, you can only eat sweets.\"\n",
    "\n",
    "Mohan thought – \"So now I need to teach the computer too: who can go on rides and who gets only sweets.\"\n",
    "\n",
    "Ravi said:\n",
    "\n",
    "> \"Exactly! This is what **if/else** is for – making the computer take decisions.\""
   ]
  },
  {
   "cell_type": "markdown",
   "metadata": {},
   "source": [
    "### What is If/Else?\n",
    "\n",
    "- `if` = If the condition is true, do this.\n",
    "- `else` = Otherwise, do something else.\n",
    "- Think of it like a road with two turns: if left, one path; otherwise, another."
   ]
  },
  {
   "cell_type": "code",
   "execution_count": 1,
   "metadata": {},
   "outputs": [
    {
     "name": "stdout",
     "output_type": "stream",
     "text": [
      "You can only eat sweets.\n"
     ]
    }
   ],
   "source": [
    "age = 16\n",
    "\n",
    "if age >= 18:\n",
    "    print(\"You can enjoy the rides.\")\n",
    "else:\n",
    "    print(\"You can only eat sweets.\")"
   ]
  },
  {
   "cell_type": "markdown",
   "metadata": {},
   "source": [
    "Output:\n",
    "```\n",
    "You can only eat sweets.\n",
    "```"
   ]
  },
  {
   "cell_type": "markdown",
   "metadata": {},
   "source": [
    "### If-Elif-Else (Multiple Paths)\n",
    "\n",
    "Sometimes, more than two decisions are needed. For that, we use `elif` (else if)."
   ]
  },
  {
   "cell_type": "code",
   "execution_count": null,
   "metadata": {},
   "outputs": [],
   "source": [
    "marks = 72\n",
    "\n",
    "if marks >= 90:\n",
    "    print(\"Grade: A\")\n",
    "elif marks >= 75:\n",
    "    print(\"Grade: B\")\n",
    "elif marks >= 50:\n",
    "    print(\"Grade: C\")\n",
    "else:\n",
    "    print(\"Fail\")"
   ]
  },
  {
   "cell_type": "markdown",
   "metadata": {},
   "source": [
    "Output:\n",
    "```\n",
    "Grade: B\n",
    "```"
   ]
  },
  {
   "cell_type": "markdown",
   "metadata": {},
   "source": [
    "### Comparison Operators (Tools for Comparison)\n",
    "\n",
    "If/Else works with conditions. To create conditions, we use **comparison operators**:\n",
    "\n",
    "| Operator | Meaning |\n",
    "|----------|---------|\n",
    "| `==` | is equal to |\n",
    "| `!=` | is not equal to |\n",
    "| `>` | is greater than |\n",
    "| `<` | is less than |\n",
    "| `>=` | is greater than or equal to |\n",
    "| `<=` | is less than or equal to |"
   ]
  },
  {
   "cell_type": "code",
   "execution_count": null,
   "metadata": {},
   "outputs": [],
   "source": [
    "a = 10\n",
    "b = 20\n",
    "\n",
    "print(a == b)   # False\n",
    "print(a != b)   # True\n",
    "print(a < b)    # True\n",
    "print(a >= 10)  # True"
   ]
  },
  {
   "cell_type": "markdown",
   "metadata": {},
   "source": [
    "### Practice Questions\n",
    "\n",
    "1. Ask for a person’s age and check if they are eligible to vote (18 years or older = eligible).\n",
    "\n",
    "2. Take a number as input and check if it is even or odd.\n",
    "\n",
    "3. Take marks for three subjects and check if the student passed or failed (must score more than 33 in each subject).\n",
    "\n",
    "4. Take a temperature value and print:\n",
    "   - If above 35 → \"It’s very hot.\"\n",
    "   - If below 15 → \"It’s very cold.\"\n",
    "   - Otherwise → \"The weather is nice.\"\n",
    "\n",
    "5. Think and guess the output of the following code:\n",
    "   ```python\n",
    "   x = 5\n",
    "   if x > 10:\n",
    "       print(\"Greater\")\n",
    "   else:\n",
    "       print(\"Smaller\")\n",
    "   ```"
   ]
  },
  {
   "cell_type": "code",
   "execution_count": null,
   "metadata": {},
   "outputs": [],
   "source": []
  },
  {
   "cell_type": "markdown",
   "metadata": {},
   "source": [
    "### Key Takeaways\n",
    "\n",
    "- `if/else` = Gives the computer the ability to think and decide.\n",
    "- Comparison operators are used to make conditions.\n",
    "- `elif` is useful for multiple decision paths.\n",
    "- This is the foundation of logic and AI in the future."
   ]
  },
  {
   "cell_type": "markdown",
   "metadata": {},
   "source": [
    "---\n",
    "🔔 **Next Chapter:** \"The Magic of Repetition – Loops\" where we’ll learn how to make the computer repeat tasks automatically."
   ]
  }
 ],
 "metadata": {
  "kernelspec": {
   "display_name": "agents",
   "language": "python",
   "name": "python3"
  },
  "language_info": {
   "codemirror_mode": {
    "name": "ipython",
    "version": 3
   },
   "file_extension": ".py",
   "mimetype": "text/x-python",
   "name": "python",
   "nbconvert_exporter": "python",
   "pygments_lexer": "ipython3",
   "version": "3.12.11"
  }
 },
 "nbformat": 4,
 "nbformat_minor": 2
}
