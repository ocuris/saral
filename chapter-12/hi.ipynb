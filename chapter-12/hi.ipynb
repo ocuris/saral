{
 "cells": [
  {
   "cell_type": "markdown",
   "metadata": {},
   "source": [
    "# 📘 Python सीखें – आसान भाषा में\n",
    "## अध्याय 12: Dictionary – शब्दकोश का जादू"
   ]
  },
  {
   "cell_type": "markdown",
   "metadata": {},
   "source": [
    "### कहानी\n",
    "\n",
    "रवि को dictionary (शब्दकोश) पढ़ने का शौक़ था। जब भी उसे कोई नया शब्द मिलता, वह तुरंत dictionary में देखता:\n",
    "- \"apple\" → \"सेब\"\n",
    "- \"banana\" → \"केला\"\n",
    "- \"mango\" → \"आम\"\n",
    "\n",
    "मोहन ने पूछा:\n",
    "> \"Python में भी ऐसा possible है?\"\n",
    "\n",
    "रवि ने हँसते हुए कहा:\n",
    "> \"हाँ, Python की अपनी dictionary होती है। इसमें **key → value** pair store करते हैं।\""
   ]
  },
  {
   "cell_type": "markdown",
   "metadata": {},
   "source": [
    "### Dictionary क्या है?\n",
    "- Dictionary = key → value pair का collection 📖\n",
    "- Example: `{ \"name\": \"Rohan\", \"age\": 25 }`\n",
    "\n",
    "| Data Type | Store करता है |\n",
    "|-----------|----------------|\n",
    "| List | values (order में) |\n",
    "| Dictionary | key → value pairs |"
   ]
  },
  {
   "cell_type": "code",
   "execution_count": null,
   "metadata": {},
   "outputs": [],
   "source": [
    "# Example dictionary\n",
    "student = {\n",
    "    \"name\": \"Ravi\",\n",
    "    \"age\": 20,\n",
    "    \"grade\": \"A\"\n",
    "}\n",
    "print(student[\"name\"])\n",
    "print(student[\"age\"])\n",
    "print(student[\"grade\"])"
   ]
  },
  {
   "cell_type": "markdown",
   "metadata": {},
   "source": [
    "### Dictionary में values access करना\n",
    "- `dict[\"key\"]` से value मिलती है।\n",
    "- `.get(\"key\")` भी use कर सकते हैं।"
   ]
  },
  {
   "cell_type": "code",
   "execution_count": null,
   "metadata": {},
   "outputs": [],
   "source": [
    "student = {\"name\": \"Ravi\", \"age\": 20}\n",
    "print(student.get(\"name\"))\n",
    "print(student.get(\"age\"))\n",
    "print(student.get(\"class\", \"Not Found\"))  # अगर key न मिले तो default value"
   ]
  },
  {
   "cell_type": "markdown",
   "metadata": {},
   "source": [
    "### Dictionary में बदलाव\n",
    "- नई entry जोड़ सकते हैं।\n",
    "- पुरानी value बदल सकते हैं।\n",
    "- Key हटाई भी जा सकती है।"
   ]
  },
  {
   "cell_type": "code",
   "execution_count": null,
   "metadata": {},
   "outputs": [],
   "source": [
    "student = {\"name\": \"Ravi\", \"age\": 20}\n",
    "\n",
    "# value बदलना\n",
    "student[\"age\"] = 21\n",
    "\n",
    "# नई key जोड़ना\n",
    "student[\"grade\"] = \"A\"\n",
    "\n",
    "# key हटाना\n",
    "del student[\"name\"]\n",
    "\n",
    "print(student)"
   ]
  },
  {
   "cell_type": "markdown",
   "metadata": {},
   "source": [
    "### Dictionary Iteration\n",
    "- Keys पर loop: `for k in dict:`\n",
    "- Values पर loop: `for v in dict.values():`\n",
    "- दोनों पर loop: `for k,v in dict.items():`"
   ]
  },
  {
   "cell_type": "code",
   "execution_count": null,
   "metadata": {},
   "outputs": [],
   "source": [
    "student = {\"name\": \"Ravi\", \"age\": 21, \"grade\": \"A\"}\n",
    "\n",
    "for key, value in student.items():\n",
    "    print(key, \"→\", value)"
   ]
  },
  {
   "cell_type": "markdown",
   "metadata": {},
   "source": [
    "### अभ्यास प्रश्न\n",
    "1. एक dictionary बनाइए जिसमें student का नाम, age और marks store हो।\n",
    "2. Dictionary में एक नई entry जोड़िए → subject: \"Math\".\n",
    "3. Dictionary से \"age\" key हटा दीजिए।\n",
    "4. नीचे दिए गए code का आउटपुट बताइए:\n",
    "   ```python\n",
    "   fruits = {\"apple\": 100, \"banana\": 40, \"mango\": 60}\n",
    "   print(fruits[\"banana\"])\n",
    "   fruits[\"banana\"] = 50\n",
    "   print(fruits.get(\"banana\"))\n",
    "   ```\n",
    "5. एक dictionary = {\"a\":1, \"b\":2, \"c\":3} है। Loop से सभी keys और values प्रिंट कीजिए।"
   ]
  },
  {
   "cell_type": "markdown",
   "metadata": {},
   "source": [
    "### सीखने योग्य बातें\n",
    "- Dictionary = key-value pairs\n",
    "- Access → dict[\"key\"] या dict.get(\"key\")\n",
    "- Add / Update / Delete possible\n",
    "- Loop में keys, values और items तीनों मिल सकते हैं"
   ]
  },
  {
   "cell_type": "markdown",
   "metadata": {},
   "source": [
    "---\n",
    "🔔 **अगला अध्याय:** \"Functions – अपना खुद का जादूगर\" जहाँ हम सीखेंगे कि बार-बार लिखने वाला code कैसे एक जगह define करके बार-बार use किया जा सकता है।"
   ]
  }
 ],
 "metadata": {
  "kernelspec": {
   "display_name": "Python 3",
   "language": "python",
   "name": "python3"
  },
  "language_info": {
   "name": "python",
   "version": "3.12.0"
  }
 },
 "nbformat": 4,
 "nbformat_minor": 2
}
