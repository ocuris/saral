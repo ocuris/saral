{
 "cells": [
  {
   "cell_type": "markdown",
   "metadata": {},
   "source": [
    "# 📘 Python सीखें – आसान भाषा में\n",
    "## अध्याय 30: File Handling Advanced – JSON और CSV फाइलें"
   ]
  },
  {
   "cell_type": "markdown",
   "metadata": {},
   "source": [
    "### कहानी\n",
    "राम को अपनी shop का data संभालना था। पहले वो सब कुछ text file में लिखता था।\n",
    "श्याम बोला:\n",
    "> \"Text file data पढ़ना और समझना मुश्किल है। JSON और CSV का इस्तेमाल करो।\"\n",
    "\n",
    "राम:\n",
    "> \"अरे वाह! JSON और CSV तो आजकल हर जगह use होते हैं – apps, websites, Excel में।\""
   ]
  },
  {
   "cell_type": "markdown",
   "metadata": {},
   "source": [
    "## JSON (JavaScript Object Notation)\n",
    "- Data format (dictionary जैसा दिखता है)\n",
    "- Lightweight और human-readable\n",
    "- Web APIs में अक्सर इस्तेमाल होता है"
   ]
  },
  {
   "cell_type": "markdown",
   "metadata": {},
   "source": [
    "### Example 1: JSON Write और Read\n",
    "```python\n",
    "import json\n",
    "\n",
    "# Python dictionary\n",
    "data = {\"name\": \"Rohan\", \"age\": 25, \"city\": \"Delhi\"}\n",
    "\n",
    "# Dictionary → JSON file\n",
    "with open(\"data.json\", \"w\") as f:\n",
    "    json.dump(data, f)\n",
    "\n",
    "# JSON file → Dictionary\n",
    "with open(\"data.json\", \"r\") as f:\n",
    "    loaded_data = json.load(f)\n",
    "    print(loaded_data)\n",
    "```"
   ]
  },
  {
   "cell_type": "markdown",
   "metadata": {},
   "source": [
    "### Example 2: Dictionary ↔ JSON String\n",
    "```python\n",
    "person = {\"name\": \"Shyam\", \"age\": 30}\n",
    "\n",
    "# dict → JSON string\n",
    "json_str = json.dumps(person)\n",
    "print(json_str)\n",
    "\n",
    "# JSON string → dict\n",
    "new_dict = json.loads(json_str)\n",
    "print(new_dict)\n",
    "```"
   ]
  },
  {
   "cell_type": "markdown",
   "metadata": {},
   "source": [
    "## CSV (Comma Separated Values)\n",
    "- Data rows + columns (Excel जैसी)\n",
    "- Table format\n",
    "- Data analysis में बहुत useful"
   ]
  },
  {
   "cell_type": "markdown",
   "metadata": {},
   "source": [
    "### Example 3: CSV Write\n",
    "```python\n",
    "import csv\n",
    "\n",
    "rows = [[\"Name\", \"Age\"], [\"Rohan\", 25], [\"Shyam\", 30]]\n",
    "\n",
    "with open(\"people.csv\", \"w\", newline=\"\") as f:\n",
    "    writer = csv.writer(f)\n",
    "    writer.writerows(rows)\n",
    "```"
   ]
  },
  {
   "cell_type": "markdown",
   "metadata": {},
   "source": [
    "### Example 4: CSV Read\n",
    "```python\n",
    "import csv\n",
    "\n",
    "with open(\"people.csv\", \"r\") as f:\n",
    "    reader = csv.reader(f)\n",
    "    for row in reader:\n",
    "        print(row)\n",
    "```"
   ]
  },
  {
   "cell_type": "markdown",
   "metadata": {},
   "source": [
    "### Example 5: CSV with DictWriter & DictReader\n",
    "```python\n",
    "import csv\n",
    "\n",
    "data = [\n",
    "    {\"Name\": \"Rohan\", \"Age\": 25},\n",
    "    {\"Name\": \"Shyam\", \"Age\": 30}\n",
    "]\n",
    "\n",
    "with open(\"people_dict.csv\", \"w\", newline=\"\") as f:\n",
    "    writer = csv.DictWriter(f, fieldnames=[\"Name\", \"Age\"])\n",
    "    writer.writeheader()\n",
    "    writer.writerows(data)\n",
    "\n",
    "with open(\"people_dict.csv\", \"r\") as f:\n",
    "    reader = csv.DictReader(f)\n",
    "    for row in reader:\n",
    "        print(row[\"Name\"], row[\"Age\"])\n",
    "```"
   ]
  },
  {
   "cell_type": "markdown",
   "metadata": {},
   "source": [
    "### अभ्यास प्रश्न\n",
    "1. एक dictionary `student = {\"name\": \"Amit\", \"marks\": 85}` को JSON file में save कीजिए और वापस पढ़िए।\n",
    "2. एक JSON string `{ \"city\": \"Mumbai\", \"temp\": 32 }` को dictionary में बदलिए।\n",
    "3. Names और Ages की एक CSV file लिखिए और उसे पढ़कर print कीजिए।\n",
    "4. DictWriter का इस्तेमाल करके product data (name, price) को CSV file में लिखिए।\n",
    "5. एक program लिखिए जो JSON file से data load करके सभी keys और values print करे।"
   ]
  },
  {
   "cell_type": "markdown",
   "metadata": {},
   "source": [
    "### सीखने योग्य बातें\n",
    "- JSON → dictionary जैसा format\n",
    "- `json.dump()` / `json.load()` files के लिए\n",
    "- `json.dumps()` / `json.loads()` strings के लिए\n",
    "- CSV → table जैसा format\n",
    "- CSV files → `csv.writer`, `csv.reader`, `DictWriter`, `DictReader`\n",
    "- JSON और CSV real-world projects (APIs, data analysis, Excel) में बहुत काम आते हैं"
   ]
  },
  {
   "cell_type": "markdown",
   "metadata": {},
   "source": [
    "---\n",
    "🔔 **अगला अध्याय:** \"Python और Databases – SQLite का उपयोग\""
   ]
  },
  {
   "cell_type": "markdown",
   "metadata": {},
   "source": [
    "<div style='display: flex; justify-content: space-between;'>\n",
    "  <a href='../chapter-29/hi.ipynb' style='background-color: #1E90FF; color: white; padding: 8px 16px; border-radius: 6px; text-decoration: none;'>⬅️ Previous</a>\n",
    "  <a href='../chapter-31/hi.ipynb' style='background-color: #28a745; color: white; padding: 8px 16px; border-radius: 6px; text-decoration: none;'>Next ➡️</a>\n",
    "</div>"
   ]
  }
 ],
 "metadata": {
  "kernelspec": {
   "display_name": "Python 3",
   "language": "python",
   "name": "python3"
  },
  "language_info": {
   "name": "python",
   "version": "3.12.0"
  }
 },
 "nbformat": 4,
 "nbformat_minor": 2
}
