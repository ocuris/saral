{
 "cells": [
  {
   "cell_type": "markdown",
   "metadata": {},
   "source": [
    "# 📘 Python सीखें – आसान भाषा में\n",
    "## अध्याय 21: Error & Exception Handling – गलती संभालना"
   ]
  },
  {
   "cell_type": "markdown",
   "metadata": {},
   "source": [
    "### कहानी\n",
    "\n",
    "राहुल एक दिन गणित का सवाल हल कर रहा था:\n",
    "```python\n",
    "result = 10 / 0\n",
    "```\n",
    "Python ने तुरंत चिल्ला दिया 😱:\n",
    "`ZeroDivisionError: division by zero`\n",
    "\n",
    "राहुल घबरा गया! सीमा बोली:\n",
    "> \"डर मत। गलती (error) होना सामान्य है। लेकिन Python हमें मौका देता है इन्हें संभालने का। इसे कहते हैं **Exception Handling**।\""
   ]
  },
  {
   "cell_type": "markdown",
   "metadata": {},
   "source": [
    "### Error और Exception में फर्क\n",
    "- **Error** → प्रोग्राम में ग़लती\n",
    "- **Exception** → error का विशेष प्रकार, जिसे पकड़कर handle किया जा सकता है\n",
    "\n",
    "Common Exceptions:\n",
    "- `ZeroDivisionError`\n",
    "- `ValueError`\n",
    "- `FileNotFoundError`\n",
    "- `TypeError`\n",
    "- `IndexError`"
   ]
  },
  {
   "cell_type": "markdown",
   "metadata": {},
   "source": [
    "### try-except Block\n",
    "Error होने पर प्रोग्राम क्रैश न हो, इसलिए हम code को try-except में लिखते हैं।"
   ]
  },
  {
   "cell_type": "code",
   "execution_count": null,
   "metadata": {},
   "outputs": [],
   "source": [
    "try:\n",
    "    x = 10 / 0\n",
    "except ZeroDivisionError:\n",
    "    print(\"अरे! 0 से divide नहीं कर सकते।\")"
   ]
  },
  {
   "cell_type": "markdown",
   "metadata": {},
   "source": [
    "### Multiple Exceptions\n",
    "एक से ज्यादा exception को handle कर सकते हैं।"
   ]
  },
  {
   "cell_type": "code",
   "execution_count": null,
   "metadata": {},
   "outputs": [],
   "source": [
    "try:\n",
    "    num = int(\"abc\")\n",
    "except ValueError:\n",
    "    print(\"गलत input दिया है!\")\n",
    "except Exception as e:\n",
    "    print(\"कुछ और गड़बड़ है:\", e)"
   ]
  },
  {
   "cell_type": "markdown",
   "metadata": {},
   "source": [
    "### finally Block\n",
    "- चाहे error हो या न हो, finally block हमेशा execute होगा।\n",
    "- Mostly cleanup के लिए इस्तेमाल होता है।"
   ]
  },
  {
   "cell_type": "code",
   "execution_count": null,
   "metadata": {},
   "outputs": [],
   "source": [
    "try:\n",
    "    f = open(\"demo.txt\", \"r\")\n",
    "    print(f.read())\n",
    "except FileNotFoundError:\n",
    "    print(\"फाइल नहीं मिली!\")\n",
    "finally:\n",
    "    print(\"Program समाप्त हुआ।\")"
   ]
  },
  {
   "cell_type": "markdown",
   "metadata": {},
   "source": [
    "### else Block\n",
    "- Error न हो तो else block execute होता है।"
   ]
  },
  {
   "cell_type": "code",
   "execution_count": null,
   "metadata": {},
   "outputs": [],
   "source": [
    "try:\n",
    "    num = int(\"123\")\n",
    "except ValueError:\n",
    "    print(\"गलत input\")\n",
    "else:\n",
    "    print(\"सब सही चला! संख्या है:\", num)"
   ]
  },
  {
   "cell_type": "markdown",
   "metadata": {},
   "source": [
    "### raise Exception\n",
    "- खुद से भी exception raise कर सकते हैं।"
   ]
  },
  {
   "cell_type": "code",
   "execution_count": null,
   "metadata": {},
   "outputs": [],
   "source": [
    "x = -5\n",
    "if x < 0:\n",
    "    raise ValueError(\"Negative value allowed नहीं है!\")"
   ]
  },
  {
   "cell_type": "markdown",
   "metadata": {},
   "source": [
    "### अभ्यास प्रश्न\n",
    "1. ऐसा program लिखिए जो 2 numbers ले और divide करे। अगर denominator 0 हो तो proper error message दे।\n",
    "2. User से age input लीजिए। अगर input number न हो तो `ValueError` handle कीजिए।\n",
    "3. File open करने की कोशिश कीजिए। अगर file न मिले तो `FileNotFoundError` handle कीजिए।\n",
    "4. Try-except-else-finally का example लिखिए।\n",
    "5. Negative number आने पर `raise` keyword से custom exception उठाइए।"
   ]
  },
  {
   "cell_type": "markdown",
   "metadata": {},
   "source": [
    "### सीखने योग्य बातें\n",
    "- Errors प्रोग्राम का हिस्सा हैं, लेकिन उन्हें crash न होने देना सीखना है।\n",
    "- `try-except` से error को handle कर सकते हैं।\n",
    "- `finally` हमेशा चलता है।\n",
    "- `else` केवल तभी चलेगा जब error न हो।\n",
    "- `raise` से खुद exception बना सकते हैं।"
   ]
  },
  {
   "cell_type": "markdown",
   "metadata": {},
   "source": [
    "---\n",
    "🔔 **अगला अध्याय:** \"Object-Oriented Programming (OOP) – वस्तुओं की दुनिया\" जहाँ हम सीखेंगे Class और Object का जादू।"
   ]
  },
  {
   "cell_type": "markdown",
   "metadata": {},
   "source": [
    "<div style='display: flex; justify-content: space-between;'>\n",
    "  <a href='../chapter-20/hi.ipynb' style='background-color: #1E90FF; color: white; padding: 8px 16px; border-radius: 6px; text-decoration: none;'>⬅️ Previous</a>\n",
    "  <a href='../chapter-22/hi.ipynb' style='background-color: #28a745; color: white; padding: 8px 16px; border-radius: 6px; text-decoration: none;'>Next ➡️</a>\n",
    "</div>"
   ]
  }
 ],
 "metadata": {
  "kernelspec": {
   "display_name": "Python 3",
   "language": "python",
   "name": "python3"
  },
  "language_info": {
   "name": "python",
   "version": "3.12.0"
  }
 },
 "nbformat": 4,
 "nbformat_minor": 2
}
