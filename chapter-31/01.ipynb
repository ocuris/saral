{
 "cells": [
  {
   "cell_type": "markdown",
   "metadata": {},
   "source": [
    "# 📘 पायथन सीखें – आसान भाषा में\n",
    "## अध्याय 31: Python और Databases – SQLite का उपयोग"
   ]
  },
  {
   "cell_type": "markdown",
   "metadata": {},
   "source": [
    "### कहानी\n",
    "राम ने अपनी shop के data को CSV और JSON में रखा, लेकिन जैसे-जैसे data बढ़ा, उसे manage करना मुश्किल हो गया।\n",
    "श्याम ने कहा:\n",
    "> \"SQLite जैसे database का इस्तेमाल करो। यह छोटे projects के लिए perfect है।\"\n",
    "\n",
    "राम:\n",
    "> \"अरे वाह! अब मेरा data safe और organized रहेगा।\""
   ]
  },
  {
   "cell_type": "markdown",
   "metadata": {},
   "source": [
    "### SQLite क्या है?\n",
    "- Lightweight, embedded database\n",
    "- Python में built-in support\n",
    "- किसी भी small/medium project के लिए perfect\n",
    "- Data rows और columns में store होता है (table format)"
   ]
  },
  {
   "cell_type": "markdown",
   "metadata": {},
   "source": [
    "### Example 1: SQLite Connection और Table Creation\n",
    "```python\n",
    "import sqlite3\n",
    "\n",
    "# Connection और cursor\n",
    "conn = sqlite3.connect('shop.db')  # database file\n",
    "c = conn.cursor()\n",
    "\n",
    "# Table बनाना\n",
    "c.execute('''\n",
    "CREATE TABLE IF NOT EXISTS products (\n",
    "    id INTEGER PRIMARY KEY,\n",
    "    name TEXT,\n",
    "    price REAL\n",
    ")\n",
    "''')\n",
    "\n",
    "conn.commit()\n",
    "conn.close()\n",
    "```"
   ]
  },
  {
   "cell_type": "markdown",
   "metadata": {},
   "source": [
    "### Example 2: Data Insert करना\n",
    "```python\n",
    "conn = sqlite3.connect('shop.db')\n",
    "c = conn.cursor()\n",
    "\n",
    "c.execute(\"INSERT INTO products (name, price) VALUES (?, ?)\", ('Apple', 10.5))\n",
    "c.execute(\"INSERT INTO products (name, price) VALUES (?, ?)\", ('Banana', 5.0))\n",
    "\n",
    "conn.commit()\n",
    "conn.close()\n",
    "```"
   ]
  },
  {
   "cell_type": "markdown",
   "metadata": {},
   "source": [
    "### Example 3: Data Read करना\n",
    "```python\n",
    "conn = sqlite3.connect('shop.db')\n",
    "c = conn.cursor()\n",
    "\n",
    "c.execute(\"SELECT * FROM products\")\n",
    "rows = c.fetchall()\n",
    "for row in rows:\n",
    "    print(row)\n",
    "\n",
    "conn.close()\n",
    "```"
   ]
  },
  {
   "cell_type": "markdown",
   "metadata": {},
   "source": [
    "### Example 4: Data Update और Delete\n",
    "```python\n",
    "conn = sqlite3.connect('shop.db')\n",
    "c = conn.cursor()\n",
    "\n",
    "# Update price\n",
    "c.execute(\"UPDATE products SET price=? WHERE name=?\", (12.0, 'Apple'))\n",
    "\n",
    "# Delete product\n",
    "c.execute(\"DELETE FROM products WHERE name=?\", ('Banana',))\n",
    "\n",
    "conn.commit()\n",
    "conn.close()\n",
    "```"
   ]
  },
  {
   "cell_type": "markdown",
   "metadata": {},
   "source": [
    "### अभ्यास प्रश्न\n",
    "1. SQLite में एक table `students` बनाइए (id, name, marks) और 3 students insert कीजिए।\n",
    "2. Students table से सभी records read करके print कीजिए।\n",
    "3. किसी student के marks update कीजिए।\n",
    "4. किसी student को table से delete कीजिए।\n",
    "5. एक program लिखिए जो user से input लेकर SQLite database में save करे और फिर सभी records दिखाए।"
   ]
  },
  {
   "cell_type": "markdown",
   "metadata": {},
   "source": [
    "### सीखने योग्य बातें\n",
    "- SQLite lightweight database है\n",
    "- `sqlite3.connect()`, `cursor()`, `execute()`, `commit()`, `close()` main methods हैं\n",
    "- CRUD operations → Create, Read, Update, Delete\n",
    "- Database structured data manage करने का best तरीका है"
   ]
  },
  {
   "cell_type": "markdown",
   "metadata": {},
   "source": [
    "---\n",
    "🔔 **अगला अध्याय:** \"Python और Web – APIs का उपयोग\""
   ]
  }
 ],
 "metadata": {
  "kernelspec": {
   "display_name": "Python 3",
   "language": "python",
   "name": "python3"
  },
  "language_info": {
   "name": "python",
   "version": "3.12.0"
  }
 },
 "nbformat": 4,
 "nbformat_minor": 2
}
