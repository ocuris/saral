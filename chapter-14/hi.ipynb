{
 "cells": [
  {
   "cell_type": "markdown",
   "metadata": {},
   "source": [
    "# 📘 Python सीखें – आसान भाषा में\n",
    "## अध्याय 14: Lambda Functions – छोटे जादूगर"
   ]
  },
  {
   "cell_type": "markdown",
   "metadata": {},
   "source": [
    "### कहानी\n",
    "\n",
    "राहुल और मोहन एक मेले में गए। वहाँ एक जादूगर आया – लेकिन बड़ा नहीं, छोटा बच्चा।\n",
    "वो बोला:\n",
    "> \"मैं छोटे-छोटे जादू करता हूँ, बड़े नहीं।\"\n",
    "\n",
    "मोहन ने कहा:\n",
    "> \"यानी Python में छोटे जादूगर → **Lambda Function** होते हैं।\"\n",
    "\n",
    "राहुल हँसते हुए बोला:\n",
    "> \"हाँ! ये बिना नाम वाले छोटे function होते हैं, जो एक ही line में काम कर देते हैं।\" 🎩✨"
   ]
  },
  {
   "cell_type": "markdown",
   "metadata": {},
   "source": [
    "### Lambda Function क्या है?\n",
    "- Normal function → `def` keyword से बनता है\n",
    "- Lambda function → `lambda` keyword से बनता है\n",
    "- छोटे और simple कामों के लिए\n",
    "\n",
    "| Normal Function | Lambda Function |\n",
    "|-----------------|----------------|\n",
    "| def add(a,b): return a+b | lambda a,b: a+b |"
   ]
  },
  {
   "cell_type": "code",
   "execution_count": null,
   "metadata": {},
   "outputs": [],
   "source": [
    "# Normal Function\n",
    "def square(x):\n",
    "    return x*x\n",
    "print(square(5))\n",
    "\n",
    "# Lambda Function\n",
    "sq = lambda x: x*x\n",
    "print(sq(5))"
   ]
  },
  {
   "cell_type": "markdown",
   "metadata": {},
   "source": [
    "### Lambda with Multiple Arguments\n",
    "Lambda functions एक से ज़्यादा input ले सकते हैं।"
   ]
  },
  {
   "cell_type": "code",
   "execution_count": null,
   "metadata": {},
   "outputs": [],
   "source": [
    "add = lambda a, b: a + b\n",
    "print(add(10, 20))\n",
    "\n",
    "mul = lambda a, b: a * b\n",
    "print(mul(4, 5))"
   ]
  },
  {
   "cell_type": "markdown",
   "metadata": {},
   "source": [
    "### Lambda with Built-in Functions\n",
    "Lambda अक्सर **map, filter, reduce, sort** जैसे functions के साथ use होता है।"
   ]
  },
  {
   "cell_type": "code",
   "execution_count": null,
   "metadata": {},
   "outputs": [],
   "source": [
    "# Example 1: map\n",
    "nums = [1, 2, 3, 4, 5]\n",
    "squares = list(map(lambda x: x*x, nums))\n",
    "print(squares)\n",
    "\n",
    "# Example 2: filter\n",
    "evens = list(filter(lambda x: x%2==0, nums))\n",
    "print(evens)"
   ]
  },
  {
   "cell_type": "markdown",
   "metadata": {},
   "source": [
    "### कब Lambda Use करें?\n",
    "- जब काम छोटा हो (एक line का)\n",
    "- जब function का नाम रखने की ज़रूरत न हो\n",
    "- Temporary या quick काम के लिए"
   ]
  },
  {
   "cell_type": "markdown",
   "metadata": {},
   "source": [
    "### अभ्यास प्रश्न\n",
    "1. एक lambda बनाइए जो किसी संख्या का cube दे।\n",
    "2. एक lambda बनाइए जो दो संख्याओं का बड़ा नंबर दे।\n",
    "3. list = [10, 15, 20, 25, 30] से सिर्फ़ odd numbers निकालने के लिए lambda + filter use कीजिए।\n",
    "4. नीचे दिए गए code का आउटपुट बताइए:\n",
    "   ```python\n",
    "   nums = [5, 2, 9, 1]\n",
    "   nums.sort(key=lambda x: x)\n",
    "   print(nums)\n",
    "   nums.sort(key=lambda x: -x)\n",
    "   print(nums)\n",
    "   ```\n",
    "5. एक program लिखिए जो list = [1,2,3,4] के हर element को double कर दे (map + lambda से)।"
   ]
  },
  {
   "cell_type": "markdown",
   "metadata": {},
   "source": [
    "### सीखने योग्य बातें\n",
    "- Lambda = छोटे anonymous (बिना नाम वाले) functions\n",
    "- Syntax → `lambda arguments: expression`\n",
    "- एक line में काम निपटा सकते हैं\n",
    "- map, filter, sort जैसे cases में बहुत useful"
   ]
  },
  {
   "cell_type": "markdown",
   "metadata": {},
   "source": [
    "---\n",
    "🔔 **अगला अध्याय:** \"Modules – जादुई डब्बों की लाइब्रेरी\" जहाँ हम सीखेंगे कि Python की ready-made libraries कैसे use करें।"
   ]
  }
 ],
 "metadata": {
  "kernelspec": {
   "display_name": "Python 3",
   "language": "python",
   "name": "python3"
  },
  "language_info": {
   "name": "python",
   "version": "3.12.0"
  }
 },
 "nbformat": 4,
 "nbformat_minor": 2
}
