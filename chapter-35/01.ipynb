{
 "cells": [
  {
   "cell_type": "markdown",
   "metadata": {},
   "source": [
    "# 📘 पायथन सीखें – आसान भाषा में\n",
    "## अध्याय 35: Python और GUI – Tkinter से Desktop Apps"
   ]
  },
  {
   "cell_type": "markdown",
   "metadata": {},
   "source": [
    "### कहानी\n",
    "राम की shop में रोज़ sales data manually record करना मुश्किल हो रहा था।\n",
    "श्याम ने कहा:\n",
    "> \"Tkinter से एक simple desktop app बनाओ। इससे data entry आसान और तेज़ हो जाएगी।\"\n",
    "\n",
    "राम:\n",
    "> \"वाह! अब मेरी entry automatic और organized होगी।\""
   ]
  },
  {
   "cell_type": "markdown",
   "metadata": {},
   "source": [
    "### Tkinter क्या है?\n",
    "- Python की built-in GUI (Graphical User Interface) library\n",
    "- Desktop apps बनाने के लिए सबसे simple और popular tool\n",
    "- Widgets: Button, Label, Entry, Text, Frame आदि\n",
    "- Event-driven programming पर काम करता है (Button click → function call)"
   ]
  },
  {
   "cell_type": "markdown",
   "metadata": {},
   "source": [
    "### Example 1: Simple Window\n",
    "```python\n",
    "import tkinter as tk\n",
    "\n",
    "# मुख्य window बनाना\n",
    "root = tk.Tk()\n",
    "root.title('Simple App')\n",
    "root.geometry('300x200')  # window size\n",
    "\n",
    "# Label widget\n",
    "label = tk.Label(root, text='Hello World', font=('Arial', 14))\n",
    "label.pack(pady=20)\n",
    "\n",
    "# main loop\n",
    "root.mainloop()\n",
    "```"
   ]
  },
  {
   "cell_type": "markdown",
   "metadata": {},
   "source": [
    "### Example 2: Entry और Button\n",
    "```python\n",
    "def show_text():\n",
    "    entered_text = entry.get()\n",
    "    label.config(text=entered_text)\n",
    "\n",
    "root = tk.Tk()\n",
    "root.title('Entry Example')\n",
    "root.geometry('300x200')\n",
    "\n",
    "# Entry widget\n",
    "entry = tk.Entry(root, width=25)\n",
    "entry.pack(pady=10)\n",
    "\n",
    "# Button widget\n",
    "button = tk.Button(root, text='Show Text', command=show_text)\n",
    "button.pack(pady=10)\n",
    "\n",
    "# Label to display result\n",
    "label = tk.Label(root, text='', font=('Arial', 12))\n",
    "label.pack(pady=10)\n",
    "\n",
    "root.mainloop()\n",
    "```"]
  },
  {
   "cell_type": "markdown",
   "metadata": {},
   "source": [
    "### Example 3: Simple Form with Multiple Widgets\n",
    "```python\n",
    "root = tk.Tk()\n",
    "root.title('User Form')\n",
    "root.geometry('300x250')\n",
    "\n",
    "# Name Entry\n",
    "tk.Label(root, text='Name').pack(pady=5)\n",
    "name_entry = tk.Entry(root)\n",
    "name_entry.pack()\n",
    "\n",
    "# Age Entry\n",
    "tk.Label(root, text='Age').pack(pady=5)\n",
    "age_entry = tk.Entry(root)\n",
    "age_entry.pack()\n",
    "\n",
    "# Submit button\n",
    "def submit():\n",
    "    print('Name:', name_entry.get())\n",
    "    print('Age:', age_entry.get())\n",
    "\n",
    "tk.Button(root, text='Submit', command=submit).pack(pady=10)\n",
    "\n",
    "root.mainloop()\n",
    "```"]
  },
  {
   "cell_type": "markdown",
   "metadata": {},
   "source": [
    "### Best Practices\n",
    "- हमेशा `root.mainloop()` को last line में रखें\n",
    "- Widgets को organize करने के लिए `pack()`, `grid()`, या `place()` का इस्तेमाल करें\n",
    "- Button के click events के लिए functions को `command` argument में pass करें\n",
    "- छोटे apps से शुरू करें और धीरे-धीरे complex बनाएं\n",
    "- GUI friendly और responsive बनाने की कोशिश करें"
   ]
  },
  {
   "cell_type": "markdown",
   "metadata": {},
   "source": [
    "### अभ्यास प्रश्न\n",
    "1. एक simple window बनाइए और label में अपना नाम दिखाइए।\n",
    "2. Entry और Button use करके user input display कीजिए।\n",
    "3. Username और password के लिए दो Entry fields और submit button वाला form बनाइए।\n",
    "4. Label, Button, Entry और Text widget का mini app बनाइए जो input को print करे।\n",
    "5. Tkinter app में window size और background color बदलने का example बनाइए।"
   ]
  },
  {
   "cell_type": "markdown",
   "metadata": {},
   "source": [
    "### सीखने योग्य बातें\n",
    "- Tkinter → Desktop GUI apps\n",
    "- Widgets → Label, Button, Entry, Text, Frame\n",
    "- Event-driven programming → Buttons click → functions call\n",
    "- Apps को organized और user-friendly बनाना सीखें"
   ]
  },
  {
   "cell_type": "markdown",
   "metadata": {},
   "source": [
    "---\n",
    "🔔 **अगला अध्याय:** \"Python और Email Automation – smtplib और email modules\""
   ]
  }
 ],
 "metadata": {
  "kernelspec": {
   "display_name": "Python 3",
   "language": "python",
   "name": "python3"
  },
  "language_info": {
   "name": "python",
   "version": "3.12.0"
  }
 },
 "nbformat": 4,
 "nbformat_minor": 2
}
