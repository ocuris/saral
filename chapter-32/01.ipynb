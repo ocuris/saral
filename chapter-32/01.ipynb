{
 "cells": [
  {
   "cell_type": "markdown",
   "metadata": {},
   "source": [
    "# 📘 Python सीखें – आसान भाषा में\n",
    "## अध्याय 32: Python और Web – APIs का उपयोग"
   ]
  },
  {
   "cell_type": "markdown",
   "metadata": {},
   "source": [
    "### कहानी\n",
    "राम को अपनी app में weather, news और currency rates दिखाने थे।\n",
    "श्याम ने कहा:\n",
    "> \"Web APIs से ये सब आसानी से fetch किया जा सकता है।\"\n",
    "\n",
    "राम:\n",
    "> \"अरे वाह! API से data live और automatically मिलेगा।\""
   ]
  },
  {
   "cell_type": "markdown",
   "metadata": {},
   "source": [
    "### API क्या है?\n",
    "- **API = Application Programming Interface**\n",
    "- Programs के बीच data और functions share करने का तरीका\n",
    "- Web API → किसी website या service से data fetch करना\n",
    "- Mostly JSON format में data मिलता है"
   ]
  },
  {
   "cell_type": "markdown",
   "metadata": {},
   "source": [
    "### Python में API Call\n",
    "- `requests` module सबसे common\n",
    "- JSON data handle करने के लिए `json` module"
   ]
  },
  {
   "cell_type": "markdown",
   "metadata": {},
   "source": [
    "### Example 1: Simple GET Request\n",
    "```python\n",
    "import requests\n",
    "\n",
    "url = 'https://api.agify.io?name=Rohan'\n",
    "response = requests.get(url)\n",
    "\n",
    "data = response.json()\n",
    "print(data)\n",
    "```"
   ]
  },
  {
   "cell_type": "markdown",
   "metadata": {},
   "source": [
    "### Example 2: Extract Specific Data\n",
    "```python\n",
    "name = data['name']\n",
    "age = data['age']\n",
    "print(f\"Name: {name}, Predicted Age: {age}\")\n",
    "```"
   ]
  },
  {
   "cell_type": "markdown",
   "metadata": {},
   "source": [
    "### Example 3: POST Request\n",
    "```python\n",
    "url = 'https://httpbin.org/post'\n",
    "payload = {'username': 'Rohan', 'password': '1234'}\n",
    "response = requests.post(url, data=payload)\n",
    "print(response.json())\n",
    "```"
   ]
  },
  {
   "cell_type": "markdown",
   "metadata": {},
   "source": [
    "### Example 4: Error Handling with APIs\n",
    "```python\n",
    "try:\n",
    "    response = requests.get('https://api.invalidurl.com')\n",
    "    response.raise_for_status()  # Check for HTTP errors\n",
    "except requests.exceptions.HTTPError as errh:\n",
    "    print(\"HTTP Error:\", errh)\n",
    "except requests.exceptions.ConnectionError as errc:\n",
    "    print(\"Connection Error:\", errc)\n",
    "except requests.exceptions.Timeout as errt:\n",
    "    print(\"Timeout Error:\", errt)\n",
    "except requests.exceptions.RequestException as err:\n",
    "    print(\"Some Error:\", err)\n",
    "```"
   ]
  },
  {
   "cell_type": "markdown",
   "metadata": {},
   "source": [
    "### अभ्यास प्रश्न\n",
    "1. `https://api.agify.io?name=Shyam` को call करके predicted age print कीजिए।\n",
    "2. किसी public weather API से अपने शहर का temperature fetch कीजिए।\n",
    "3. POST request भेजकर data submit करने का example बनाइए।\n",
    "4. API से fetched JSON data में से सिर्फ कुछ specific keys extract कीजिए।\n",
    "5. API call में error handling implement कीजिए (HTTPError, ConnectionError, Timeout)"
   ]
  },
  {
   "cell_type": "markdown",
   "metadata": {},
   "source": [
    "### सीखने योग्य बातें\n",
    "- API से data fetch करने का तरीका → GET, POST\n",
    "- `requests.get()`, `requests.post()`, `response.json()` main methods\n",
    "- JSON data parsing\n",
    "- Error handling for robust API calls\n",
    "- APIs real-world applications के लिए बहुत जरूरी हैं"
   ]
  },
  {
   "cell_type": "markdown",
   "metadata": {},
   "source": [
    "---\n",
    "🔔 **अगला अध्याय:** \"Python और Web Scraping – BeautifulSoup और Requests\""
   ]
  }
 ],
 "metadata": {
  "kernelspec": {
   "display_name": "Python 3",
   "language": "python",
   "name": "python3"
  },
  "language_info": {
   "name": "python",
   "version": "3.12.0"
  }
 },
 "nbformat": 4,
 "nbformat_minor": 2
}
