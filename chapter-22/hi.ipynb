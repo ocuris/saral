{
 "cells": [
  {
   "cell_type": "markdown",
   "metadata": {},
   "source": [
    "# 📘 Python सीखें – आसान भाषा में\n",
    "## अध्याय 22: Object-Oriented Programming – वस्तुओं की दुनिया"
   ]
  },
  {
   "cell_type": "markdown",
   "metadata": {},
   "source": [
    "### कहानी\n",
    "राम और श्याम अपने गाँव में गाड़ियों का डेटा लिख रहे थे। राम ने हर गाड़ी का नाम, रंग और speed अलग-अलग variables में लिख दिया:\n",
    "```python\n",
    "car1_name = \"Maruti\"\n",
    "car1_color = \"Red\"\n",
    "car1_speed = 60\n",
    "\n",
    "car2_name = \"Honda\"\n",
    "car2_color = \"Black\"\n",
    "car2_speed = 80\n",
    "```\n",
    "\n",
    "श्याम बोला:\n",
    "> \"भाई, ये तो बहुत गड़बड़ तरीका है। हर बार नए variables बनाने पड़ेंगे।\" \n",
    "फिर उसने कहा:\n",
    "> \"Python में **Class** और **Object** का concept है। इसके ज़रिए हम गाड़ियों (objects) की दुनिया आसानी से बना सकते हैं।\""
   ]
  },
  {
   "cell_type": "markdown",
   "metadata": {},
   "source": [
    "### OOP क्या है?\n",
    "- **Object-Oriented Programming (OOP)** → Programming style जिसमें हम data और functions को **objects** के रूप में handle करते हैं।\n",
    "- OOP के pillars (4 स्तंभ):\n",
    "  1. **Encapsulation** → Data और methods को एक जगह बांधना\n",
    "  2. **Abstraction** → Unnecessary details छुपाना\n",
    "  3. **Inheritance** → Properties आगे बढ़ाना\n",
    "  4. **Polymorphism** → एक चीज़ के कई रूप"
   ]
  },
  {
   "cell_type": "markdown",
   "metadata": {},
   "source": [
    "### Class और Object\n",
    "- **Class** = Design/Blueprint\n",
    "- **Object** = उस blueprint से बना actual item\n",
    "\n",
    "👉 Example: *Class = Car Design, Object = Actual Car (Maruti, Honda, BMW)*"
   ]
  },
  {
   "cell_type": "code",
   "execution_count": null,
   "metadata": {},
   "outputs": [],
   "source": [
    "# Class बनाना\n",
    "class Car:\n",
    "    def __init__(self, name, color, speed):\n",
    "        self.name = name\n",
    "        self.color = color\n",
    "        self.speed = speed\n",
    "\n",
    "    def drive(self):\n",
    "        print(f\"{self.name} {self.speed} km/h की रफ्तार से दौड़ रही है!\")\n",
    "\n",
    "# Object बनाना\n",
    "car1 = Car(\"Maruti\", \"Red\", 60)\n",
    "car2 = Car(\"Honda\", \"Black\", 80)\n",
    "\n",
    "car1.drive()\n",
    "car2.drive()"
   ]
  },
  {
   "cell_type": "markdown",
   "metadata": {},
   "source": [
    "### __init__() method\n",
    "- Python में constructor कहलाता है।\n",
    "- जब भी object बनता है, यह function अपने आप call होता है।"
   ]
  },
  {
   "cell_type": "code",
   "execution_count": null,
   "metadata": {},
   "outputs": [],
   "source": [
    "class Student:\n",
    "    def __init__(self, name, age):\n",
    "        self.name = name\n",
    "        self.age = age\n",
    "\n",
    "    def show(self):\n",
    "        print(f\"Student: {self.name}, Age: {self.age}\")\n",
    "\n",
    "s1 = Student(\"Rohan\", 22)\n",
    "s1.show()"
   ]
  },
  {
   "cell_type": "markdown",
   "metadata": {},
   "source": [
    "### Methods\n",
    "- **Instance Methods** → object के साथ जुड़ी functions (जैसे `drive`, `show`)\n",
    "- **Class Methods** → पूरे class के लिए लागू functions\n",
    "- **Static Methods** → General utility functions"
   ]
  },
  {
   "cell_type": "code",
   "execution_count": null,
   "metadata": {},
   "outputs": [],
   "source": [
    "class Math:\n",
    "\n",
    "    @staticmethod\n",
    "    def add(a, b):\n",
    "        return a + b\n",
    "\n",
    "print(Math.add(5, 10))"
   ]
  },
  {
   "cell_type": "markdown",
   "metadata": {},
   "source": [
    "### अभ्यास प्रश्न\n",
    "1. एक `Dog` class बनाइए जिसमें name और breed हो। `bark()` method add कीजिए।\n",
    "2. एक `Book` class बनाइए जिसमें title और author हो। एक method हो जो \"Book by Author\" format में print करे।\n",
    "3. एक `BankAccount` class बनाइए जिसमें deposit और withdraw methods हों। Balance भी track होना चाहिए।\n",
    "4. एक `Rectangle` class बनाइए जिसमें length और breadth हो। Area निकालने का method add करें।\n",
    "5. Static method वाला एक class बनाइए जो दो numbers multiply करे।"
   ]
  },
  {
   "cell_type": "markdown",
   "metadata": {},
   "source": [
    "### सीखने योग्य बातें\n",
    "- Class → Blueprint, Object → Actual item\n",
    "- `__init__()` = constructor, object बनते ही चलता है।\n",
    "- Methods तीन प्रकार के हो सकते हैं: instance, class, static.\n",
    "- OOP coding को reusable और organized बनाता है।"
   ]
  },
  {
   "cell_type": "markdown",
   "metadata": {},
   "source": [
    "---\n",
    "🔔 **अगला अध्याय:** \"Encapsulation – डेटा छुपाना और सुरक्षित रखना\" जहाँ हम सीखेंगे कैसे object की जानकारी को secure करें।"
   ]
  }
 ],
 "metadata": {
  "kernelspec": {
   "display_name": "Python 3",
   "language": "python",
   "name": "python3"
  },
  "language_info": {
   "name": "python",
   "version": "3.12.0"
  }
 },
 "nbformat": 4,
 "nbformat_minor": 2
}
