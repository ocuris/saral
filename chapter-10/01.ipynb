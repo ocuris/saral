{
 "cells": [
  {
   "cell_type": "markdown",
   "metadata": {},
   "source": [
    "# 📘 Python सीखें – आसान भाषा में\n",
    "## अध्याय 10: Loop के जादू – For और While"
   ]
  },
  {
   "cell_type": "markdown",
   "metadata": {},
   "source": [
    "### कहानी\n",
    "\n",
    "मोहन को स्कूल में PT की practice करनी थी। PT मास्टर बोले:\n",
    "> \"बच्चों, 10 बार उछलो!\"\n",
    "\n",
    "बच्चे एक-एक करके कूदने लगे: 1️⃣, 2️⃣, 3️⃣ ... 10️⃣\n",
    "\n",
    "मोहन ने सोचा:\n",
    "> \"हम बार-बार वही काम कर रहे हैं। काश ऐसा कोई तरीका होता जिससे कंप्यूटर को बोल दूँ – ये काम 10 बार कर दो।\"\n",
    "\n",
    "रवि बोला:\n",
    "> \"यही तो **Loop** है। एक बार काम लिखो, कंप्यूटर उसे बार-बार दोहराएगा।\""
   ]
  },
  {
   "cell_type": "markdown",
   "metadata": {},
   "source": [
    "### Loop क्या है?\n",
    "- Loop = कोई काम बार-बार दोहराने का तरीका 🔄\n",
    "- Python में दो main loops हैं:\n",
    "  1. **For loop** → जब हमें पहले से पता हो कितनी बार दोहराना है।\n",
    "  2. **While loop** → जब तक कोई शर्त सही है, काम दोहराओ।\n",
    "\n",
    "| Loop | Use Case |\n",
    "|------|-----------|\n",
    "| For | Fixed बार repetition |\n",
    "| While | Condition-based repetition |"
   ]
  },
  {
   "cell_type": "code",
   "execution_count": null,
   "metadata": {},
   "outputs": [],
   "source": [
    "# For loop example\n",
    "for i in range(1, 6):\n",
    "    print(\"यह line number है:\", i)"
   ]
  },
  {
   "cell_type": "code",
   "execution_count": null,
   "metadata": {},
   "outputs": [],
   "source": [
    "# While loop example\n",
    "count = 1\n",
    "while count <= 5:\n",
    "    print(\"यह count है:\", count)\n",
    "    count += 1"
   ]
  },
  {
   "cell_type": "markdown",
   "metadata": {},
   "source": [
    "### Loop Control Statements\n",
    "- **break** → Loop को बीच में रोक देता है।\n",
    "- **continue** → उस बार को skip कर देता है, और loop आगे चलता है।"
   ]
  },
  {
   "cell_type": "code",
   "execution_count": null,
   "metadata": {},
   "outputs": [],
   "source": [
    "# break example\n",
    "for i in range(1, 10):\n",
    "    if i == 5:\n",
    "        break\n",
    "    print(i)"
   ]
  },
  {
   "cell_type": "code",
   "execution_count": null,
   "metadata": {},
   "outputs": [],
   "source": [
    "# continue example\n",
    "for i in range(1, 6):\n",
    "    if i == 3:\n",
    "        continue\n",
    "    print(i)"
   ]
  },
  {
   "cell_type": "markdown",
   "metadata": {},
   "source": [
    "### अभ्यास प्रश्न\n",
    "1. For loop का इस्तेमाल करके 1 से 10 तक की संख्याएँ प्रिंट कीजिए।\n",
    "2. While loop का इस्तेमाल करके 1 से 5 तक की संख्याएँ प्रिंट कीजिए।\n",
    "3. For loop से 2 का पहाड़ा (table of 2) प्रिंट कीजिए।\n",
    "4. एक list = [\"apple\", \"banana\", \"mango\"] है। For loop से हर fruit प्रिंट कीजिए।\n",
    "5. While loop का इस्तेमाल करके factorial of 5 निकालिए।\n",
    "6. नीचे दिए गए code का आउटपुट बताइए:\n",
    "   ```python\n",
    "   for i in range(1, 6):\n",
    "       if i == 4:\n",
    "           break\n",
    "       print(i)\n",
    "   ```"
   ]
  },
  {
   "cell_type": "code",
   "execution_count": null,
   "metadata": {},
   "outputs": [],
   "source": []
  },
  {
   "cell_type": "markdown",
   "metadata": {},
   "source": [
    "### सीखने योग्य बातें\n",
    "- For loop → जब repetitions की गिनती पता हो।\n",
    "- While loop → जब तक कोई condition true है।\n",
    "- break → loop को रोकना।\n",
    "- continue → current iteration skip करना।"
   ]
  },
  {
   "cell_type": "markdown",
   "metadata": {},
   "source": [
    "---\n",
    "🔔 **अगला अध्याय:** \"List Comprehension – Shortcuts का जादू\" जहाँ हम सीखेंगे कि एक line में पूरी list कैसे बना सकते हैं।"
   ]
  }
 ],
 "metadata": {
  "kernelspec": {
   "display_name": "Python 3",
   "language": "python",
   "name": "python3"
  },
  "language_info": {
   "name": "python",
   "version": "3.12.0"
  }
 },
 "nbformat": 4,
 "nbformat_minor": 2
}
